{
 "cells": [
  {
   "cell_type": "markdown",
   "id": "0ba070a2",
   "metadata": {},
   "source": [
    "# Imbalanced Classification: Using Lending Club Loan Data\n",
    "\n",
    "## Author: Arash Sadeghzadeh\n",
    "\n",
    "Data for this notebook can be retrieved from the following URL:\n",
    "\n",
    "https://www.kaggle.com/datasets/urstrulyvikas/lending-club-loan-data-analysis\n",
    "\n",
    "\n",
    "In this notebook we explore different methodologies to tackle the imbalanced dataset. Some available sampleres from the imbalanced-learn toolbox are employed for the classification problem.\n",
    "We use Lending Club Loan Data to illustrate the available methods.\n",
    "\n",
    "## Table of Contents\n",
    "* [Data Exploration](#first-bullet)\n",
    "* [Classification Functions](#second-bullet)\n",
    "    - [Logistic Regression](#21)\n",
    "    - [Linear SVC](#22)\n",
    "    - [SVC with Kernel](#23)\n",
    "    - [Decision Tree](#24)\n",
    "    - [Random Forest](#25)\n",
    "    - [K Nearest Neighbours](#26)\n",
    "    - [Bagging Classifier](#27)\n",
    "    - [Gradient Boosting Classfier](#28)\n",
    "* [Result Functions](#third-bullet)\n",
    "* [Class Weight](#fourth-bullet)\n",
    "* [Over Sampling](#fifth-bullet)\n",
    "    - [RandomOverSampler](#51)\n",
    "    - [ADASYN](#52)\n",
    "    - [SMOTENC](#53)\n",
    "    - [K Means SMOTE](#54)\n",
    "    - [SVMSMOTE](#55)\n",
    "    - [Borderline SMOTE](#56)\n",
    "* [Under Sampling](#sixth-bullet)\n",
    "    - [RandomUnderSampler](#61)\n",
    "    - [ClusterCentroids](#62)\n",
    "    - [NearMiss](#63)\n",
    "    - [TomekLinks](#64)\n",
    "    - [EditedNearestNeighbours](#65)\n",
    "* [Combination of Over- and Under-Sampling Methods](#seventh-bullet)\n",
    "    - [SMOTETomek](#71)\n",
    "    - [SMOTEENN](#72)\n",
    "* [Final Results](#eighth-bullet)\n",
    "    \n"
   ]
  },
  {
   "cell_type": "markdown",
   "id": "913792fc",
   "metadata": {},
   "source": [
    "## Data Exploration <a class=\"anchor\" id=\"first-bullet\"></a>"
   ]
  },
  {
   "cell_type": "code",
   "execution_count": 1,
   "id": "a8ee3b9b",
   "metadata": {},
   "outputs": [],
   "source": [
    "import numpy as np\n",
    "import pandas as pd\n",
    "import matplotlib.pyplot as plt\n",
    "import seaborn as sns\n",
    "import warnings\n",
    "\n",
    "from scipy.stats import boxcox\n",
    "from scipy.stats import chi2_contingency\n",
    "from sklearn.decomposition import PCA\n",
    "from sklearn.preprocessing import MaxAbsScaler, MinMaxScaler, StandardScaler\n",
    "from sklearn.svm import LinearSVC, SVC\n",
    "from sklearn.model_selection import train_test_split, GridSearchCV\n",
    "from sklearn.metrics import classification_report, f1_score, confusion_matrix, accuracy_score\n",
    "from sklearn.metrics import precision_recall_fscore_support, roc_auc_score, roc_curve\n",
    "from sklearn.pipeline import Pipeline\n",
    "from sklearn.tree import DecisionTreeClassifier\n",
    "from sklearn.ensemble import RandomForestClassifier, BaggingClassifier, GradientBoostingClassifier\n",
    "from sklearn.linear_model import LogisticRegression\n",
    "\n",
    "from imblearn.over_sampling import SMOTE, ADASYN, RandomOverSampler, SVMSMOTE, KMeansSMOTE, SMOTENC, BorderlineSMOTE\n",
    "from imblearn.under_sampling import RandomUnderSampler, ClusterCentroids, NearMiss, TomekLinks, EditedNearestNeighbours\n",
    "from imblearn.combine import SMOTEENN, SMOTETomek\n",
    "from sklearn.neighbors import KNeighborsClassifier\n"
   ]
  },
  {
   "cell_type": "code",
   "execution_count": 2,
   "id": "c26fa036",
   "metadata": {},
   "outputs": [],
   "source": [
    "warnings.filterwarnings('ignore', module='sklearn')"
   ]
  },
  {
   "cell_type": "markdown",
   "id": "9e58e256",
   "metadata": {},
   "source": [
    "Let's first load the dataset:"
   ]
  },
  {
   "cell_type": "code",
   "execution_count": 3,
   "id": "789c80bf",
   "metadata": {},
   "outputs": [],
   "source": [
    "data = pd.read_csv('loan_data.csv')"
   ]
  },
  {
   "cell_type": "markdown",
   "id": "4bf1e5d5",
   "metadata": {},
   "source": [
    "The columns of the dataset are as follows:"
   ]
  },
  {
   "cell_type": "code",
   "execution_count": 4,
   "id": "ea4351fd",
   "metadata": {},
   "outputs": [
    {
     "name": "stdout",
     "output_type": "stream",
     "text": [
      "<class 'pandas.core.frame.DataFrame'>\n",
      "RangeIndex: 9578 entries, 0 to 9577\n",
      "Data columns (total 14 columns):\n",
      " #   Column             Non-Null Count  Dtype  \n",
      "---  ------             --------------  -----  \n",
      " 0   credit.policy      9578 non-null   int64  \n",
      " 1   purpose            9578 non-null   object \n",
      " 2   int.rate           9578 non-null   float64\n",
      " 3   installment        9578 non-null   float64\n",
      " 4   log.annual.inc     9578 non-null   float64\n",
      " 5   dti                9578 non-null   float64\n",
      " 6   fico               9578 non-null   int64  \n",
      " 7   days.with.cr.line  9578 non-null   float64\n",
      " 8   revol.bal          9578 non-null   int64  \n",
      " 9   revol.util         9578 non-null   float64\n",
      " 10  inq.last.6mths     9578 non-null   int64  \n",
      " 11  delinq.2yrs        9578 non-null   int64  \n",
      " 12  pub.rec            9578 non-null   int64  \n",
      " 13  not.fully.paid     9578 non-null   int64  \n",
      "dtypes: float64(6), int64(7), object(1)\n",
      "memory usage: 1.0+ MB\n"
     ]
    }
   ],
   "source": [
    "data.info()"
   ]
  },
  {
   "cell_type": "markdown",
   "id": "2e46db5b",
   "metadata": {},
   "source": [
    "Let's investigate whether there exist NaN values in the dataset:"
   ]
  },
  {
   "cell_type": "code",
   "execution_count": 5,
   "id": "aabcceee",
   "metadata": {
    "scrolled": false
   },
   "outputs": [
    {
     "data": {
      "text/plain": [
       "credit.policy        0\n",
       "purpose              0\n",
       "int.rate             0\n",
       "installment          0\n",
       "log.annual.inc       0\n",
       "dti                  0\n",
       "fico                 0\n",
       "days.with.cr.line    0\n",
       "revol.bal            0\n",
       "revol.util           0\n",
       "inq.last.6mths       0\n",
       "delinq.2yrs          0\n",
       "pub.rec              0\n",
       "not.fully.paid       0\n",
       "dtype: int64"
      ]
     },
     "execution_count": 5,
     "metadata": {},
     "output_type": "execute_result"
    }
   ],
   "source": [
    "data.isna().sum()"
   ]
  },
  {
   "cell_type": "markdown",
   "id": "b78d822e",
   "metadata": {},
   "source": [
    "Obviousely, we don't have any NaN values in the dataset."
   ]
  },
  {
   "cell_type": "markdown",
   "id": "2ce20deb",
   "metadata": {},
   "source": [
    "Also, we have to check wheter there exist duplicate values in our dataset:"
   ]
  },
  {
   "cell_type": "code",
   "execution_count": 6,
   "id": "471466c7",
   "metadata": {
    "scrolled": false
   },
   "outputs": [
    {
     "data": {
      "text/plain": [
       "0"
      ]
     },
     "execution_count": 6,
     "metadata": {},
     "output_type": "execute_result"
    }
   ],
   "source": [
    "data.duplicated().sum()"
   ]
  },
  {
   "cell_type": "markdown",
   "id": "8c2482a8",
   "metadata": {},
   "source": [
    "Let's have a look at the descriptive statistics of our dataset:"
   ]
  },
  {
   "cell_type": "code",
   "execution_count": 7,
   "id": "0739ca6f",
   "metadata": {
    "scrolled": false
   },
   "outputs": [
    {
     "data": {
      "text/html": [
       "<div>\n",
       "<style scoped>\n",
       "    .dataframe tbody tr th:only-of-type {\n",
       "        vertical-align: middle;\n",
       "    }\n",
       "\n",
       "    .dataframe tbody tr th {\n",
       "        vertical-align: top;\n",
       "    }\n",
       "\n",
       "    .dataframe thead th {\n",
       "        text-align: right;\n",
       "    }\n",
       "</style>\n",
       "<table border=\"1\" class=\"dataframe\">\n",
       "  <thead>\n",
       "    <tr style=\"text-align: right;\">\n",
       "      <th></th>\n",
       "      <th>count</th>\n",
       "      <th>mean</th>\n",
       "      <th>std</th>\n",
       "      <th>min</th>\n",
       "      <th>25%</th>\n",
       "      <th>50%</th>\n",
       "      <th>75%</th>\n",
       "      <th>max</th>\n",
       "    </tr>\n",
       "  </thead>\n",
       "  <tbody>\n",
       "    <tr>\n",
       "      <th>credit.policy</th>\n",
       "      <td>9578.0</td>\n",
       "      <td>0.804970</td>\n",
       "      <td>0.396245</td>\n",
       "      <td>0.000000</td>\n",
       "      <td>1.000000</td>\n",
       "      <td>1.000000</td>\n",
       "      <td>1.000000</td>\n",
       "      <td>1.000000e+00</td>\n",
       "    </tr>\n",
       "    <tr>\n",
       "      <th>int.rate</th>\n",
       "      <td>9578.0</td>\n",
       "      <td>0.122640</td>\n",
       "      <td>0.026847</td>\n",
       "      <td>0.060000</td>\n",
       "      <td>0.103900</td>\n",
       "      <td>0.122100</td>\n",
       "      <td>0.140700</td>\n",
       "      <td>2.164000e-01</td>\n",
       "    </tr>\n",
       "    <tr>\n",
       "      <th>installment</th>\n",
       "      <td>9578.0</td>\n",
       "      <td>319.089413</td>\n",
       "      <td>207.071301</td>\n",
       "      <td>15.670000</td>\n",
       "      <td>163.770000</td>\n",
       "      <td>268.950000</td>\n",
       "      <td>432.762500</td>\n",
       "      <td>9.401400e+02</td>\n",
       "    </tr>\n",
       "    <tr>\n",
       "      <th>log.annual.inc</th>\n",
       "      <td>9578.0</td>\n",
       "      <td>10.932117</td>\n",
       "      <td>0.614813</td>\n",
       "      <td>7.547502</td>\n",
       "      <td>10.558414</td>\n",
       "      <td>10.928884</td>\n",
       "      <td>11.291293</td>\n",
       "      <td>1.452835e+01</td>\n",
       "    </tr>\n",
       "    <tr>\n",
       "      <th>dti</th>\n",
       "      <td>9578.0</td>\n",
       "      <td>12.606679</td>\n",
       "      <td>6.883970</td>\n",
       "      <td>0.000000</td>\n",
       "      <td>7.212500</td>\n",
       "      <td>12.665000</td>\n",
       "      <td>17.950000</td>\n",
       "      <td>2.996000e+01</td>\n",
       "    </tr>\n",
       "    <tr>\n",
       "      <th>fico</th>\n",
       "      <td>9578.0</td>\n",
       "      <td>710.846314</td>\n",
       "      <td>37.970537</td>\n",
       "      <td>612.000000</td>\n",
       "      <td>682.000000</td>\n",
       "      <td>707.000000</td>\n",
       "      <td>737.000000</td>\n",
       "      <td>8.270000e+02</td>\n",
       "    </tr>\n",
       "    <tr>\n",
       "      <th>days.with.cr.line</th>\n",
       "      <td>9578.0</td>\n",
       "      <td>4560.767197</td>\n",
       "      <td>2496.930377</td>\n",
       "      <td>178.958333</td>\n",
       "      <td>2820.000000</td>\n",
       "      <td>4139.958333</td>\n",
       "      <td>5730.000000</td>\n",
       "      <td>1.763996e+04</td>\n",
       "    </tr>\n",
       "    <tr>\n",
       "      <th>revol.bal</th>\n",
       "      <td>9578.0</td>\n",
       "      <td>16913.963876</td>\n",
       "      <td>33756.189557</td>\n",
       "      <td>0.000000</td>\n",
       "      <td>3187.000000</td>\n",
       "      <td>8596.000000</td>\n",
       "      <td>18249.500000</td>\n",
       "      <td>1.207359e+06</td>\n",
       "    </tr>\n",
       "    <tr>\n",
       "      <th>revol.util</th>\n",
       "      <td>9578.0</td>\n",
       "      <td>46.799236</td>\n",
       "      <td>29.014417</td>\n",
       "      <td>0.000000</td>\n",
       "      <td>22.600000</td>\n",
       "      <td>46.300000</td>\n",
       "      <td>70.900000</td>\n",
       "      <td>1.190000e+02</td>\n",
       "    </tr>\n",
       "    <tr>\n",
       "      <th>inq.last.6mths</th>\n",
       "      <td>9578.0</td>\n",
       "      <td>1.577469</td>\n",
       "      <td>2.200245</td>\n",
       "      <td>0.000000</td>\n",
       "      <td>0.000000</td>\n",
       "      <td>1.000000</td>\n",
       "      <td>2.000000</td>\n",
       "      <td>3.300000e+01</td>\n",
       "    </tr>\n",
       "    <tr>\n",
       "      <th>delinq.2yrs</th>\n",
       "      <td>9578.0</td>\n",
       "      <td>0.163708</td>\n",
       "      <td>0.546215</td>\n",
       "      <td>0.000000</td>\n",
       "      <td>0.000000</td>\n",
       "      <td>0.000000</td>\n",
       "      <td>0.000000</td>\n",
       "      <td>1.300000e+01</td>\n",
       "    </tr>\n",
       "    <tr>\n",
       "      <th>pub.rec</th>\n",
       "      <td>9578.0</td>\n",
       "      <td>0.062122</td>\n",
       "      <td>0.262126</td>\n",
       "      <td>0.000000</td>\n",
       "      <td>0.000000</td>\n",
       "      <td>0.000000</td>\n",
       "      <td>0.000000</td>\n",
       "      <td>5.000000e+00</td>\n",
       "    </tr>\n",
       "    <tr>\n",
       "      <th>not.fully.paid</th>\n",
       "      <td>9578.0</td>\n",
       "      <td>0.160054</td>\n",
       "      <td>0.366676</td>\n",
       "      <td>0.000000</td>\n",
       "      <td>0.000000</td>\n",
       "      <td>0.000000</td>\n",
       "      <td>0.000000</td>\n",
       "      <td>1.000000e+00</td>\n",
       "    </tr>\n",
       "  </tbody>\n",
       "</table>\n",
       "</div>"
      ],
      "text/plain": [
       "                    count          mean           std         min  \\\n",
       "credit.policy      9578.0      0.804970      0.396245    0.000000   \n",
       "int.rate           9578.0      0.122640      0.026847    0.060000   \n",
       "installment        9578.0    319.089413    207.071301   15.670000   \n",
       "log.annual.inc     9578.0     10.932117      0.614813    7.547502   \n",
       "dti                9578.0     12.606679      6.883970    0.000000   \n",
       "fico               9578.0    710.846314     37.970537  612.000000   \n",
       "days.with.cr.line  9578.0   4560.767197   2496.930377  178.958333   \n",
       "revol.bal          9578.0  16913.963876  33756.189557    0.000000   \n",
       "revol.util         9578.0     46.799236     29.014417    0.000000   \n",
       "inq.last.6mths     9578.0      1.577469      2.200245    0.000000   \n",
       "delinq.2yrs        9578.0      0.163708      0.546215    0.000000   \n",
       "pub.rec            9578.0      0.062122      0.262126    0.000000   \n",
       "not.fully.paid     9578.0      0.160054      0.366676    0.000000   \n",
       "\n",
       "                           25%          50%           75%           max  \n",
       "credit.policy         1.000000     1.000000      1.000000  1.000000e+00  \n",
       "int.rate              0.103900     0.122100      0.140700  2.164000e-01  \n",
       "installment         163.770000   268.950000    432.762500  9.401400e+02  \n",
       "log.annual.inc       10.558414    10.928884     11.291293  1.452835e+01  \n",
       "dti                   7.212500    12.665000     17.950000  2.996000e+01  \n",
       "fico                682.000000   707.000000    737.000000  8.270000e+02  \n",
       "days.with.cr.line  2820.000000  4139.958333   5730.000000  1.763996e+04  \n",
       "revol.bal          3187.000000  8596.000000  18249.500000  1.207359e+06  \n",
       "revol.util           22.600000    46.300000     70.900000  1.190000e+02  \n",
       "inq.last.6mths        0.000000     1.000000      2.000000  3.300000e+01  \n",
       "delinq.2yrs           0.000000     0.000000      0.000000  1.300000e+01  \n",
       "pub.rec               0.000000     0.000000      0.000000  5.000000e+00  \n",
       "not.fully.paid        0.000000     0.000000      0.000000  1.000000e+00  "
      ]
     },
     "execution_count": 7,
     "metadata": {},
     "output_type": "execute_result"
    }
   ],
   "source": [
    "data.describe().T"
   ]
  },
  {
   "cell_type": "markdown",
   "id": "bc1ef86f",
   "metadata": {},
   "source": [
    "In what follows, we investigate the number of unique values in each column, which helps us to categorize numerical features from the categorical features."
   ]
  },
  {
   "cell_type": "code",
   "execution_count": 8,
   "id": "c7954964",
   "metadata": {
    "scrolled": false
   },
   "outputs": [
    {
     "data": {
      "text/html": [
       "<div>\n",
       "<style scoped>\n",
       "    .dataframe tbody tr th:only-of-type {\n",
       "        vertical-align: middle;\n",
       "    }\n",
       "\n",
       "    .dataframe tbody tr th {\n",
       "        vertical-align: top;\n",
       "    }\n",
       "\n",
       "    .dataframe thead th {\n",
       "        text-align: right;\n",
       "    }\n",
       "</style>\n",
       "<table border=\"1\" class=\"dataframe\">\n",
       "  <thead>\n",
       "    <tr style=\"text-align: right;\">\n",
       "      <th></th>\n",
       "      <th>No. of unique values</th>\n",
       "    </tr>\n",
       "  </thead>\n",
       "  <tbody>\n",
       "    <tr>\n",
       "      <th>credit.policy</th>\n",
       "      <td>2</td>\n",
       "    </tr>\n",
       "    <tr>\n",
       "      <th>purpose</th>\n",
       "      <td>7</td>\n",
       "    </tr>\n",
       "    <tr>\n",
       "      <th>int.rate</th>\n",
       "      <td>249</td>\n",
       "    </tr>\n",
       "    <tr>\n",
       "      <th>installment</th>\n",
       "      <td>4788</td>\n",
       "    </tr>\n",
       "    <tr>\n",
       "      <th>log.annual.inc</th>\n",
       "      <td>1987</td>\n",
       "    </tr>\n",
       "    <tr>\n",
       "      <th>dti</th>\n",
       "      <td>2529</td>\n",
       "    </tr>\n",
       "    <tr>\n",
       "      <th>fico</th>\n",
       "      <td>44</td>\n",
       "    </tr>\n",
       "    <tr>\n",
       "      <th>days.with.cr.line</th>\n",
       "      <td>2687</td>\n",
       "    </tr>\n",
       "    <tr>\n",
       "      <th>revol.bal</th>\n",
       "      <td>7869</td>\n",
       "    </tr>\n",
       "    <tr>\n",
       "      <th>revol.util</th>\n",
       "      <td>1035</td>\n",
       "    </tr>\n",
       "    <tr>\n",
       "      <th>inq.last.6mths</th>\n",
       "      <td>28</td>\n",
       "    </tr>\n",
       "    <tr>\n",
       "      <th>delinq.2yrs</th>\n",
       "      <td>11</td>\n",
       "    </tr>\n",
       "    <tr>\n",
       "      <th>pub.rec</th>\n",
       "      <td>6</td>\n",
       "    </tr>\n",
       "    <tr>\n",
       "      <th>not.fully.paid</th>\n",
       "      <td>2</td>\n",
       "    </tr>\n",
       "  </tbody>\n",
       "</table>\n",
       "</div>"
      ],
      "text/plain": [
       "                   No. of unique values\n",
       "credit.policy                         2\n",
       "purpose                               7\n",
       "int.rate                            249\n",
       "installment                        4788\n",
       "log.annual.inc                     1987\n",
       "dti                                2529\n",
       "fico                                 44\n",
       "days.with.cr.line                  2687\n",
       "revol.bal                          7869\n",
       "revol.util                         1035\n",
       "inq.last.6mths                       28\n",
       "delinq.2yrs                          11\n",
       "pub.rec                               6\n",
       "not.fully.paid                        2"
      ]
     },
     "execution_count": 8,
     "metadata": {},
     "output_type": "execute_result"
    }
   ],
   "source": [
    "df_unique = pd.DataFrame(data.nunique(), columns=['No. of unique values'])\n",
    "df_unique"
   ]
  },
  {
   "cell_type": "markdown",
   "id": "41ee0d02",
   "metadata": {},
   "source": [
    "Let's have a look at the skewness of the features:"
   ]
  },
  {
   "cell_type": "code",
   "execution_count": 9,
   "id": "4836f24c",
   "metadata": {
    "scrolled": true
   },
   "outputs": [
    {
     "data": {
      "text/plain": [
       "['int.rate',\n",
       " 'installment',\n",
       " 'log.annual.inc',\n",
       " 'dti',\n",
       " 'fico',\n",
       " 'days.with.cr.line',\n",
       " 'revol.bal',\n",
       " 'revol.util',\n",
       " 'inq.last.6mths']"
      ]
     },
     "execution_count": 9,
     "metadata": {},
     "output_type": "execute_result"
    }
   ],
   "source": [
    "# Choose columns to considered for the skewness\n",
    "num_columns = df_unique[df_unique['No. of unique values']>20].index.tolist()\n",
    "num_columns"
   ]
  },
  {
   "cell_type": "code",
   "execution_count": 10,
   "id": "07b5a5c4",
   "metadata": {
    "scrolled": true
   },
   "outputs": [
    {
     "data": {
      "text/html": [
       "<div>\n",
       "<style scoped>\n",
       "    .dataframe tbody tr th:only-of-type {\n",
       "        vertical-align: middle;\n",
       "    }\n",
       "\n",
       "    .dataframe tbody tr th {\n",
       "        vertical-align: top;\n",
       "    }\n",
       "\n",
       "    .dataframe thead th {\n",
       "        text-align: right;\n",
       "    }\n",
       "</style>\n",
       "<table border=\"1\" class=\"dataframe\">\n",
       "  <thead>\n",
       "    <tr style=\"text-align: right;\">\n",
       "      <th></th>\n",
       "      <th>skew</th>\n",
       "    </tr>\n",
       "  </thead>\n",
       "  <tbody>\n",
       "    <tr>\n",
       "      <th>int.rate</th>\n",
       "      <td>0.164420</td>\n",
       "    </tr>\n",
       "    <tr>\n",
       "      <th>installment</th>\n",
       "      <td>0.912522</td>\n",
       "    </tr>\n",
       "    <tr>\n",
       "      <th>log.annual.inc</th>\n",
       "      <td>0.028668</td>\n",
       "    </tr>\n",
       "    <tr>\n",
       "      <th>dti</th>\n",
       "      <td>0.023941</td>\n",
       "    </tr>\n",
       "    <tr>\n",
       "      <th>fico</th>\n",
       "      <td>0.471260</td>\n",
       "    </tr>\n",
       "    <tr>\n",
       "      <th>days.with.cr.line</th>\n",
       "      <td>1.155748</td>\n",
       "    </tr>\n",
       "    <tr>\n",
       "      <th>revol.bal</th>\n",
       "      <td>11.161058</td>\n",
       "    </tr>\n",
       "    <tr>\n",
       "      <th>revol.util</th>\n",
       "      <td>0.059985</td>\n",
       "    </tr>\n",
       "    <tr>\n",
       "      <th>inq.last.6mths</th>\n",
       "      <td>3.584151</td>\n",
       "    </tr>\n",
       "  </tbody>\n",
       "</table>\n",
       "</div>"
      ],
      "text/plain": [
       "                        skew\n",
       "int.rate            0.164420\n",
       "installment         0.912522\n",
       "log.annual.inc      0.028668\n",
       "dti                 0.023941\n",
       "fico                0.471260\n",
       "days.with.cr.line   1.155748\n",
       "revol.bal          11.161058\n",
       "revol.util          0.059985\n",
       "inq.last.6mths      3.584151"
      ]
     },
     "execution_count": 10,
     "metadata": {},
     "output_type": "execute_result"
    }
   ],
   "source": [
    "pd.DataFrame(data[num_columns].skew(numeric_only=True), columns=['skew'])"
   ]
  },
  {
   "cell_type": "markdown",
   "id": "10dc4831",
   "metadata": {},
   "source": [
    "As one can see, some features are highly skewed."
   ]
  },
  {
   "cell_type": "markdown",
   "id": "7eae6652",
   "metadata": {},
   "source": [
    "We consider a limit of 0.5 to take care of skewed features:"
   ]
  },
  {
   "cell_type": "code",
   "execution_count": 11,
   "id": "cbf9ff17",
   "metadata": {
    "scrolled": false
   },
   "outputs": [
    {
     "data": {
      "text/plain": [
       "array(['installment', 'days.with.cr.line', 'revol.bal', 'inq.last.6mths'],\n",
       "      dtype='<U17')"
      ]
     },
     "execution_count": 11,
     "metadata": {},
     "output_type": "execute_result"
    }
   ],
   "source": [
    "skewed_columns = np.array(num_columns)[(data[num_columns].skew(numeric_only=True).abs() >0.5).values]\n",
    "skewed_columns"
   ]
  },
  {
   "cell_type": "markdown",
   "id": "71a4ee3c",
   "metadata": {},
   "source": [
    "Let's have a look at the distributions of the features in our dataset:"
   ]
  },
  {
   "cell_type": "code",
   "execution_count": 12,
   "id": "41f3c84b",
   "metadata": {},
   "outputs": [
    {
     "data": {
      "text/plain": [
       "(0.0, 1.0, 0.0, 1.0)"
      ]
     },
     "execution_count": 12,
     "metadata": {},
     "output_type": "execute_result"
    },
    {
     "data": {
      "image/png": "[encoded data removed]",
      "text/plain": [
       "<Figure size 1080x1080 with 15 Axes>"
      ]
     },
     "metadata": {},
     "output_type": "display_data"
    }
   ],
   "source": [
    "sns.set_style('white')\n",
    "sns.set_context('notebook')\n",
    "\n",
    "columns = list(set(data.columns)- set(['purpose']))\n",
    "\n",
    "fig, axs = plt.subplots(5,3, figsize=(15,15))\n",
    "for col, ax in zip(columns, axs.ravel()):\n",
    "    sns.histplot(x=col, hue='not.fully.paid', data=data, ax=ax)\n",
    "\n",
    "plt.tight_layout()\n",
    "axs[4,1].axis('off')\n",
    "axs[4,2].axis('off')"
   ]
  },
  {
   "cell_type": "markdown",
   "id": "db1a2863",
   "metadata": {},
   "source": [
    "One of the categorical features in our dataset is the 'purpose'. In the figure below, you can see the various purposes and the related distributions:"
   ]
  },
  {
   "cell_type": "code",
   "execution_count": 13,
   "id": "0d7e7af2",
   "metadata": {},
   "outputs": [
    {
     "data": {
      "text/plain": [
       "<AxesSubplot:xlabel='count', ylabel='purpose'>"
      ]
     },
     "execution_count": 13,
     "metadata": {},
     "output_type": "execute_result"
    },
    {
     "data": {
      "image/png": "[encoded data removed]",
      "text/plain": [
       "<Figure size 360x360 with 1 Axes>"
      ]
     },
     "metadata": {},
     "output_type": "display_data"
    }
   ],
   "source": [
    "plt.subplots(1,1, figsize=(5,5))\n",
    "sns.countplot(y='purpose', hue='not.fully.paid', data=data)"
   ]
  },
  {
   "cell_type": "markdown",
   "id": "cb5fdfba",
   "metadata": {},
   "source": [
    "Now, we will take care of the skewness of those features having been already specified:"
   ]
  },
  {
   "cell_type": "code",
   "execution_count": 14,
   "id": "81dfb721",
   "metadata": {},
   "outputs": [
    {
     "name": "stdout",
     "output_type": "stream",
     "text": [
      "Skewness after applying boxcox:\n"
     ]
    },
    {
     "data": {
      "text/plain": [
       "installment         -0.036842\n",
       "days.with.cr.line    0.017046\n",
       "revol.bal            0.006029\n",
       "inq.last.6mths      -0.315241\n",
       "dtype: float64"
      ]
     },
     "execution_count": 14,
     "metadata": {},
     "output_type": "execute_result"
    }
   ],
   "source": [
    "# To avoid error with boxcox\n",
    "data[skewed_columns] = data[skewed_columns].replace({0:1e-3})\n",
    "for col in skewed_columns:\n",
    "    data[col], lmbda = boxcox(data[col])\n",
    "\n",
    "print('Skewness after applying boxcox:')    \n",
    "data[skewed_columns].skew()\n"
   ]
  },
  {
   "cell_type": "markdown",
   "id": "41e6618f",
   "metadata": {},
   "source": [
    "Now, let's have a look at the boxplots of the features:"
   ]
  },
  {
   "cell_type": "code",
   "execution_count": 15,
   "id": "2663dbff",
   "metadata": {
    "scrolled": false
   },
   "outputs": [
    {
     "data": {
      "image/png": "[encoded data removed]",
      "text/plain": [
       "<Figure size 1080x1080 with 12 Axes>"
      ]
     },
     "metadata": {},
     "output_type": "display_data"
    }
   ],
   "source": [
    "fig, axs = plt.subplots(4,3,figsize=(15,15))\n",
    "\n",
    "columns = list(set(data.columns)- set(['not.fully.paid', 'purpose']))\n",
    "\n",
    "for col, ax in zip(columns, axs.ravel()):\n",
    "    sns.boxplot(x='not.fully.paid', y=col, data=data, ax=ax, hue='not.fully.paid')\n",
    "\n",
    "plt.tight_layout()\n",
    "plt.show()"
   ]
  },
  {
   "cell_type": "markdown",
   "id": "13b07823",
   "metadata": {},
   "source": [
    "### Choose Numerical Features\n",
    "\n",
    "In this section, we specify the numerical features, then, we will choose those features which are more correlated to the target ('not.fully.paid')."
   ]
  },
  {
   "cell_type": "code",
   "execution_count": 16,
   "id": "5fc5a0cb",
   "metadata": {},
   "outputs": [
    {
     "data": {
      "text/plain": [
       "['int.rate',\n",
       " 'installment',\n",
       " 'log.annual.inc',\n",
       " 'dti',\n",
       " 'fico',\n",
       " 'days.with.cr.line',\n",
       " 'revol.bal',\n",
       " 'revol.util',\n",
       " 'inq.last.6mths']"
      ]
     },
     "execution_count": 16,
     "metadata": {},
     "output_type": "execute_result"
    }
   ],
   "source": [
    "num_columns"
   ]
  },
  {
   "cell_type": "markdown",
   "id": "6ce16027",
   "metadata": {},
   "source": [
    "The correlation between the numerical features and the target are as follows:"
   ]
  },
  {
   "cell_type": "code",
   "execution_count": 17,
   "id": "b62def4a",
   "metadata": {
    "scrolled": true
   },
   "outputs": [
    {
     "data": {
      "text/plain": [
       "int.rate             0.159552\n",
       "installment          0.042093\n",
       "log.annual.inc      -0.033439\n",
       "dti                  0.037362\n",
       "fico                -0.149666\n",
       "days.with.cr.line   -0.033920\n",
       "revol.bal            0.026467\n",
       "revol.util           0.082088\n",
       "inq.last.6mths       0.116216\n",
       "dtype: float64"
      ]
     },
     "execution_count": 17,
     "metadata": {},
     "output_type": "execute_result"
    }
   ],
   "source": [
    "data[num_columns].corrwith(data['not.fully.paid'])"
   ]
  },
  {
   "cell_type": "markdown",
   "id": "e5193934",
   "metadata": {},
   "source": [
    "As one can see, some features have low correlations with 'not.fully.paid'. Let's use PCA to choose most relevant features for the classification problem."
   ]
  },
  {
   "cell_type": "code",
   "execution_count": 18,
   "id": "1027752f",
   "metadata": {
    "scrolled": true
   },
   "outputs": [
    {
     "data": {
      "image/png": "[encoded data removed]",
      "text/plain": [
       "<Figure size 432x288 with 1 Axes>"
      ]
     },
     "metadata": {},
     "output_type": "display_data"
    }
   ],
   "source": [
    "scaler = MaxAbsScaler()\n",
    "data[num_columns] = scaler.fit_transform(data[num_columns])\n",
    "\n",
    "pca = PCA()\n",
    "pca.fit(data[num_columns])\n",
    "\n",
    "pca_compon = np.cumsum(pca.explained_variance_ratio_)\n",
    "plt.bar(x=np.arange(1,10), height=pca_compon)\n",
    "ax = plt.gca()\n",
    "ax.set(xlabel='No. components', ylabel='Percentage of variance', xticks=np.arange(1,10))\n",
    "plt.show()"
   ]
  },
  {
   "cell_type": "code",
   "execution_count": 19,
   "id": "e0ba7e6b",
   "metadata": {
    "scrolled": false
   },
   "outputs": [
    {
     "data": {
      "text/html": [
       "<div>\n",
       "<style scoped>\n",
       "    .dataframe tbody tr th:only-of-type {\n",
       "        vertical-align: middle;\n",
       "    }\n",
       "\n",
       "    .dataframe tbody tr th {\n",
       "        vertical-align: top;\n",
       "    }\n",
       "\n",
       "    .dataframe thead th {\n",
       "        text-align: right;\n",
       "    }\n",
       "</style>\n",
       "<table border=\"1\" class=\"dataframe\">\n",
       "  <thead>\n",
       "    <tr style=\"text-align: right;\">\n",
       "      <th></th>\n",
       "      <th>Percentage of variance</th>\n",
       "    </tr>\n",
       "  </thead>\n",
       "  <tbody>\n",
       "    <tr>\n",
       "      <th>1</th>\n",
       "      <td>0.638448</td>\n",
       "    </tr>\n",
       "    <tr>\n",
       "      <th>2</th>\n",
       "      <td>0.801290</td>\n",
       "    </tr>\n",
       "    <tr>\n",
       "      <th>3</th>\n",
       "      <td>0.874734</td>\n",
       "    </tr>\n",
       "    <tr>\n",
       "      <th>4</th>\n",
       "      <td>0.933087</td>\n",
       "    </tr>\n",
       "    <tr>\n",
       "      <th>5</th>\n",
       "      <td>0.966941</td>\n",
       "    </tr>\n",
       "    <tr>\n",
       "      <th>6</th>\n",
       "      <td>0.984714</td>\n",
       "    </tr>\n",
       "    <tr>\n",
       "      <th>7</th>\n",
       "      <td>0.996671</td>\n",
       "    </tr>\n",
       "    <tr>\n",
       "      <th>8</th>\n",
       "      <td>0.998722</td>\n",
       "    </tr>\n",
       "    <tr>\n",
       "      <th>9</th>\n",
       "      <td>1.000000</td>\n",
       "    </tr>\n",
       "  </tbody>\n",
       "</table>\n",
       "</div>"
      ],
      "text/plain": [
       "   Percentage of variance\n",
       "1                0.638448\n",
       "2                0.801290\n",
       "3                0.874734\n",
       "4                0.933087\n",
       "5                0.966941\n",
       "6                0.984714\n",
       "7                0.996671\n",
       "8                0.998722\n",
       "9                1.000000"
      ]
     },
     "execution_count": 19,
     "metadata": {},
     "output_type": "execute_result"
    }
   ],
   "source": [
    "pd.DataFrame(pca_compon, index=np.arange(1,10), columns=['Percentage of variance'])"
   ]
  },
  {
   "cell_type": "markdown",
   "id": "17e8b3c2",
   "metadata": {},
   "source": [
    "As one can see, using n_components=6, we can preserve around 99 percent of variance. This leads to reducing three columns from the dataset."
   ]
  },
  {
   "cell_type": "code",
   "execution_count": 20,
   "id": "24d9c42d",
   "metadata": {},
   "outputs": [],
   "source": [
    "pca = PCA(n_components=6)\n",
    "data_pca = pd.DataFrame(pca.fit_transform(data[num_columns]), \n",
    "                        columns=['pca1', 'pca2', 'pca3', 'pca4', 'pca5', 'pca6'])"
   ]
  },
  {
   "cell_type": "code",
   "execution_count": 21,
   "id": "49c66d61",
   "metadata": {
    "scrolled": true
   },
   "outputs": [],
   "source": [
    "data_without_num_columns = data.drop(columns=num_columns, axis=1)"
   ]
  },
  {
   "cell_type": "code",
   "execution_count": 22,
   "id": "3b9587e2",
   "metadata": {},
   "outputs": [],
   "source": [
    "data = pd.concat([data_pca,data_without_num_columns], axis=1)"
   ]
  },
  {
   "cell_type": "markdown",
   "id": "2db995c4",
   "metadata": {},
   "source": [
    "### Choose Categorical Features\n",
    "\n",
    "In this part, we specify the categorical features; then, we will check whether all categorical features are required to be used in the classification."
   ]
  },
  {
   "cell_type": "code",
   "execution_count": 23,
   "id": "b5dc31e8",
   "metadata": {},
   "outputs": [
    {
     "data": {
      "text/plain": [
       "['credit.policy', 'purpose', 'delinq.2yrs', 'pub.rec', 'not.fully.paid']"
      ]
     },
     "execution_count": 23,
     "metadata": {},
     "output_type": "execute_result"
    }
   ],
   "source": [
    "cat_columns = df_unique[df_unique['No. of unique values']<20].index.tolist()\n",
    "cat_columns"
   ]
  },
  {
   "cell_type": "code",
   "execution_count": 24,
   "id": "390f4d8c",
   "metadata": {},
   "outputs": [
    {
     "data": {
      "text/plain": [
       "pca1              0.117496\n",
       "pca2              0.086560\n",
       "pca3              0.047374\n",
       "pca4             -0.010728\n",
       "pca5              0.082458\n",
       "pca6              0.060436\n",
       "credit.policy    -0.158119\n",
       "delinq.2yrs       0.008881\n",
       "pub.rec           0.048634\n",
       "not.fully.paid    1.000000\n",
       "dtype: float64"
      ]
     },
     "execution_count": 24,
     "metadata": {},
     "output_type": "execute_result"
    }
   ],
   "source": [
    "data.corrwith(data['not.fully.paid'])"
   ]
  },
  {
   "cell_type": "markdown",
   "id": "4412da49",
   "metadata": {},
   "source": [
    "#### Purpose\n",
    "\n",
    "Let's investigate whether purpose is a relevant feature for the classification. "
   ]
  },
  {
   "cell_type": "code",
   "execution_count": 25,
   "id": "b895ae7e",
   "metadata": {},
   "outputs": [
    {
     "data": {
      "text/html": [
       "<div>\n",
       "<style scoped>\n",
       "    .dataframe tbody tr th:only-of-type {\n",
       "        vertical-align: middle;\n",
       "    }\n",
       "\n",
       "    .dataframe tbody tr th {\n",
       "        vertical-align: top;\n",
       "    }\n",
       "\n",
       "    .dataframe thead th {\n",
       "        text-align: right;\n",
       "    }\n",
       "</style>\n",
       "<table border=\"1\" class=\"dataframe\">\n",
       "  <thead>\n",
       "    <tr style=\"text-align: right;\">\n",
       "      <th>not.fully.paid</th>\n",
       "      <th>0</th>\n",
       "      <th>1</th>\n",
       "    </tr>\n",
       "    <tr>\n",
       "      <th>purpose</th>\n",
       "      <th></th>\n",
       "      <th></th>\n",
       "    </tr>\n",
       "  </thead>\n",
       "  <tbody>\n",
       "    <tr>\n",
       "      <th>all_other</th>\n",
       "      <td>1944</td>\n",
       "      <td>387</td>\n",
       "    </tr>\n",
       "    <tr>\n",
       "      <th>credit_card</th>\n",
       "      <td>1116</td>\n",
       "      <td>146</td>\n",
       "    </tr>\n",
       "    <tr>\n",
       "      <th>debt_consolidation</th>\n",
       "      <td>3354</td>\n",
       "      <td>603</td>\n",
       "    </tr>\n",
       "    <tr>\n",
       "      <th>educational</th>\n",
       "      <td>274</td>\n",
       "      <td>69</td>\n",
       "    </tr>\n",
       "    <tr>\n",
       "      <th>home_improvement</th>\n",
       "      <td>522</td>\n",
       "      <td>107</td>\n",
       "    </tr>\n",
       "    <tr>\n",
       "      <th>major_purchase</th>\n",
       "      <td>388</td>\n",
       "      <td>49</td>\n",
       "    </tr>\n",
       "    <tr>\n",
       "      <th>small_business</th>\n",
       "      <td>447</td>\n",
       "      <td>172</td>\n",
       "    </tr>\n",
       "  </tbody>\n",
       "</table>\n",
       "</div>"
      ],
      "text/plain": [
       "not.fully.paid         0    1\n",
       "purpose                      \n",
       "all_other           1944  387\n",
       "credit_card         1116  146\n",
       "debt_consolidation  3354  603\n",
       "educational          274   69\n",
       "home_improvement     522  107\n",
       "major_purchase       388   49\n",
       "small_business       447  172"
      ]
     },
     "execution_count": 25,
     "metadata": {},
     "output_type": "execute_result"
    }
   ],
   "source": [
    "tab_purp_paid = data.groupby(['purpose','not.fully.paid']).agg('count')['pca1'].reset_index().rename(\n",
    "                              columns={'pca1':'value'}).pivot(columns=['not.fully.paid'], index=['purpose'], values='value')\n",
    "\n",
    "tab_purp_paid"
   ]
  },
  {
   "cell_type": "code",
   "execution_count": 26,
   "id": "5f282aa4",
   "metadata": {},
   "outputs": [
    {
     "data": {
      "text/plain": [
       "(96.98469589063261,\n",
       " 1.0672453117980422e-18,\n",
       " 6,\n",
       " array([[1957.91344748,  373.08655252],\n",
       "        [1060.01148465,  201.98851535],\n",
       "        [3323.66517018,  633.33482982],\n",
       "        [ 288.10137816,   54.89862184],\n",
       "        [ 528.32585091,  100.67414909],\n",
       "        [ 367.0562748 ,   69.9437252 ],\n",
       "        [ 519.92639382,   99.07360618]]))"
      ]
     },
     "execution_count": 26,
     "metadata": {},
     "output_type": "execute_result"
    }
   ],
   "source": [
    "chi2_contingency(tab_purp_paid)"
   ]
  },
  {
   "cell_type": "markdown",
   "id": "40089675",
   "metadata": {},
   "source": [
    "Since the p-value is so small (1.06e-18) the null hypothesis that the output ('not.fully.paid') is independent of the 'purpose' is rejected. So we have to use 'purpose' as one of the features for our classification problem."
   ]
  },
  {
   "cell_type": "markdown",
   "id": "9a201f31",
   "metadata": {},
   "source": [
    "Since 'purpose' is a categorical feature, we need to convert it into dummy or indicator variables: "
   ]
  },
  {
   "cell_type": "code",
   "execution_count": 27,
   "id": "e5b96eba",
   "metadata": {},
   "outputs": [
    {
     "data": {
      "text/html": [
       "<div>\n",
       "<style scoped>\n",
       "    .dataframe tbody tr th:only-of-type {\n",
       "        vertical-align: middle;\n",
       "    }\n",
       "\n",
       "    .dataframe tbody tr th {\n",
       "        vertical-align: top;\n",
       "    }\n",
       "\n",
       "    .dataframe thead th {\n",
       "        text-align: right;\n",
       "    }\n",
       "</style>\n",
       "<table border=\"1\" class=\"dataframe\">\n",
       "  <thead>\n",
       "    <tr style=\"text-align: right;\">\n",
       "      <th></th>\n",
       "      <th>pca1</th>\n",
       "      <th>pca2</th>\n",
       "      <th>pca3</th>\n",
       "      <th>pca4</th>\n",
       "      <th>pca5</th>\n",
       "      <th>pca6</th>\n",
       "      <th>credit.policy</th>\n",
       "      <th>delinq.2yrs</th>\n",
       "      <th>pub.rec</th>\n",
       "      <th>not.fully.paid</th>\n",
       "      <th>purpose_credit_card</th>\n",
       "      <th>purpose_debt_consolidation</th>\n",
       "      <th>purpose_educational</th>\n",
       "      <th>purpose_home_improvement</th>\n",
       "      <th>purpose_major_purchase</th>\n",
       "      <th>purpose_small_business</th>\n",
       "    </tr>\n",
       "  </thead>\n",
       "  <tbody>\n",
       "    <tr>\n",
       "      <th>0</th>\n",
       "      <td>-0.713368</td>\n",
       "      <td>0.232233</td>\n",
       "      <td>-0.148768</td>\n",
       "      <td>-0.296823</td>\n",
       "      <td>0.036045</td>\n",
       "      <td>-0.066899</td>\n",
       "      <td>1</td>\n",
       "      <td>0</td>\n",
       "      <td>0</td>\n",
       "      <td>0</td>\n",
       "      <td>0</td>\n",
       "      <td>1</td>\n",
       "      <td>0</td>\n",
       "      <td>0</td>\n",
       "      <td>0</td>\n",
       "      <td>0</td>\n",
       "    </tr>\n",
       "    <tr>\n",
       "      <th>1</th>\n",
       "      <td>-0.715702</td>\n",
       "      <td>0.233364</td>\n",
       "      <td>0.087133</td>\n",
       "      <td>0.093194</td>\n",
       "      <td>-0.045879</td>\n",
       "      <td>-0.138544</td>\n",
       "      <td>1</td>\n",
       "      <td>0</td>\n",
       "      <td>0</td>\n",
       "      <td>0</td>\n",
       "      <td>1</td>\n",
       "      <td>0</td>\n",
       "      <td>0</td>\n",
       "      <td>0</td>\n",
       "      <td>0</td>\n",
       "      <td>0</td>\n",
       "    </tr>\n",
       "    <tr>\n",
       "      <th>2</th>\n",
       "      <td>0.274826</td>\n",
       "      <td>-0.141905</td>\n",
       "      <td>-0.058845</td>\n",
       "      <td>-0.094353</td>\n",
       "      <td>0.076334</td>\n",
       "      <td>0.077043</td>\n",
       "      <td>1</td>\n",
       "      <td>0</td>\n",
       "      <td>0</td>\n",
       "      <td>0</td>\n",
       "      <td>0</td>\n",
       "      <td>1</td>\n",
       "      <td>0</td>\n",
       "      <td>0</td>\n",
       "      <td>0</td>\n",
       "      <td>0</td>\n",
       "    </tr>\n",
       "    <tr>\n",
       "      <th>3</th>\n",
       "      <td>0.266166</td>\n",
       "      <td>0.066425</td>\n",
       "      <td>0.232517</td>\n",
       "      <td>0.131375</td>\n",
       "      <td>-0.131660</td>\n",
       "      <td>-0.159960</td>\n",
       "      <td>1</td>\n",
       "      <td>0</td>\n",
       "      <td>0</td>\n",
       "      <td>0</td>\n",
       "      <td>0</td>\n",
       "      <td>1</td>\n",
       "      <td>0</td>\n",
       "      <td>0</td>\n",
       "      <td>0</td>\n",
       "      <td>0</td>\n",
       "    </tr>\n",
       "    <tr>\n",
       "      <th>4</th>\n",
       "      <td>-0.707192</td>\n",
       "      <td>0.000980</td>\n",
       "      <td>-0.097933</td>\n",
       "      <td>0.175653</td>\n",
       "      <td>0.044716</td>\n",
       "      <td>0.142974</td>\n",
       "      <td>1</td>\n",
       "      <td>1</td>\n",
       "      <td>0</td>\n",
       "      <td>0</td>\n",
       "      <td>1</td>\n",
       "      <td>0</td>\n",
       "      <td>0</td>\n",
       "      <td>0</td>\n",
       "      <td>0</td>\n",
       "      <td>0</td>\n",
       "    </tr>\n",
       "  </tbody>\n",
       "</table>\n",
       "</div>"
      ],
      "text/plain": [
       "       pca1      pca2      pca3      pca4      pca5      pca6  credit.policy  \\\n",
       "0 -0.713368  0.232233 -0.148768 -0.296823  0.036045 -0.066899              1   \n",
       "1 -0.715702  0.233364  0.087133  0.093194 -0.045879 -0.138544              1   \n",
       "2  0.274826 -0.141905 -0.058845 -0.094353  0.076334  0.077043              1   \n",
       "3  0.266166  0.066425  0.232517  0.131375 -0.131660 -0.159960              1   \n",
       "4 -0.707192  0.000980 -0.097933  0.175653  0.044716  0.142974              1   \n",
       "\n",
       "   delinq.2yrs  pub.rec  not.fully.paid  purpose_credit_card  \\\n",
       "0            0        0               0                    0   \n",
       "1            0        0               0                    1   \n",
       "2            0        0               0                    0   \n",
       "3            0        0               0                    0   \n",
       "4            1        0               0                    1   \n",
       "\n",
       "   purpose_debt_consolidation  purpose_educational  purpose_home_improvement  \\\n",
       "0                           1                    0                         0   \n",
       "1                           0                    0                         0   \n",
       "2                           1                    0                         0   \n",
       "3                           1                    0                         0   \n",
       "4                           0                    0                         0   \n",
       "\n",
       "   purpose_major_purchase  purpose_small_business  \n",
       "0                       0                       0  \n",
       "1                       0                       0  \n",
       "2                       0                       0  \n",
       "3                       0                       0  \n",
       "4                       0                       0  "
      ]
     },
     "execution_count": 27,
     "metadata": {},
     "output_type": "execute_result"
    }
   ],
   "source": [
    "data = pd.get_dummies(data=data, columns=['purpose'], drop_first=True )\n",
    "data.head()"
   ]
  },
  {
   "cell_type": "markdown",
   "id": "d034d56e",
   "metadata": {},
   "source": [
    "#### credit.policy\n",
    "\n",
    "Now, we will check the 'credit.policy':"
   ]
  },
  {
   "cell_type": "code",
   "execution_count": 28,
   "id": "b7fa966f",
   "metadata": {},
   "outputs": [
    {
     "data": {
      "text/html": [
       "<div>\n",
       "<style scoped>\n",
       "    .dataframe tbody tr th:only-of-type {\n",
       "        vertical-align: middle;\n",
       "    }\n",
       "\n",
       "    .dataframe tbody tr th {\n",
       "        vertical-align: top;\n",
       "    }\n",
       "\n",
       "    .dataframe thead th {\n",
       "        text-align: right;\n",
       "    }\n",
       "</style>\n",
       "<table border=\"1\" class=\"dataframe\">\n",
       "  <thead>\n",
       "    <tr style=\"text-align: right;\">\n",
       "      <th>not.fully.paid</th>\n",
       "      <th>0</th>\n",
       "      <th>1</th>\n",
       "    </tr>\n",
       "    <tr>\n",
       "      <th>credit.policy</th>\n",
       "      <th></th>\n",
       "      <th></th>\n",
       "    </tr>\n",
       "  </thead>\n",
       "  <tbody>\n",
       "    <tr>\n",
       "      <th>0</th>\n",
       "      <td>1349</td>\n",
       "      <td>519</td>\n",
       "    </tr>\n",
       "    <tr>\n",
       "      <th>1</th>\n",
       "      <td>6696</td>\n",
       "      <td>1014</td>\n",
       "    </tr>\n",
       "  </tbody>\n",
       "</table>\n",
       "</div>"
      ],
      "text/plain": [
       "not.fully.paid     0     1\n",
       "credit.policy             \n",
       "0               1349   519\n",
       "1               6696  1014"
      ]
     },
     "execution_count": 28,
     "metadata": {},
     "output_type": "execute_result"
    }
   ],
   "source": [
    "tab_credit_paid = data.groupby(['credit.policy','not.fully.paid']).agg('count')['pca1'].reset_index().rename(\n",
    "                              columns={'pca1':'value'}).pivot(columns=['not.fully.paid'], index=['credit.policy'], values='value')\n",
    "\n",
    "tab_credit_paid"
   ]
  },
  {
   "cell_type": "code",
   "execution_count": 29,
   "id": "2c451d0c",
   "metadata": {},
   "outputs": [
    {
     "data": {
      "text/plain": [
       "(96.98469589063261,\n",
       " 1.0672453117980422e-18,\n",
       " 6,\n",
       " array([[1957.91344748,  373.08655252],\n",
       "        [1060.01148465,  201.98851535],\n",
       "        [3323.66517018,  633.33482982],\n",
       "        [ 288.10137816,   54.89862184],\n",
       "        [ 528.32585091,  100.67414909],\n",
       "        [ 367.0562748 ,   69.9437252 ],\n",
       "        [ 519.92639382,   99.07360618]]))"
      ]
     },
     "execution_count": 29,
     "metadata": {},
     "output_type": "execute_result"
    }
   ],
   "source": [
    "chi2_contingency(tab_purp_paid)"
   ]
  },
  {
   "cell_type": "markdown",
   "id": "6d4230dc",
   "metadata": {},
   "source": [
    "Again, the p-value is so small, so the null hypothesis that the 'not.fully.paid' is independent of 'credit.policy' is rejected. Therefore, we consider 'credit.policy as one of the features."
   ]
  },
  {
   "cell_type": "markdown",
   "id": "4b9d3302",
   "metadata": {},
   "source": [
    "#### delinq.2yrs\n",
    "\n",
    "Now, we will do the same for the 'delinq.2yrs':"
   ]
  },
  {
   "cell_type": "code",
   "execution_count": 30,
   "id": "885c301e",
   "metadata": {},
   "outputs": [
    {
     "data": {
      "text/html": [
       "<div>\n",
       "<style scoped>\n",
       "    .dataframe tbody tr th:only-of-type {\n",
       "        vertical-align: middle;\n",
       "    }\n",
       "\n",
       "    .dataframe tbody tr th {\n",
       "        vertical-align: top;\n",
       "    }\n",
       "\n",
       "    .dataframe thead th {\n",
       "        text-align: right;\n",
       "    }\n",
       "</style>\n",
       "<table border=\"1\" class=\"dataframe\">\n",
       "  <thead>\n",
       "    <tr style=\"text-align: right;\">\n",
       "      <th>not.fully.paid</th>\n",
       "      <th>0</th>\n",
       "      <th>1</th>\n",
       "    </tr>\n",
       "    <tr>\n",
       "      <th>delinq.2yrs</th>\n",
       "      <th></th>\n",
       "      <th></th>\n",
       "    </tr>\n",
       "  </thead>\n",
       "  <tbody>\n",
       "    <tr>\n",
       "      <th>0</th>\n",
       "      <td>7121.0</td>\n",
       "      <td>1337.0</td>\n",
       "    </tr>\n",
       "    <tr>\n",
       "      <th>1</th>\n",
       "      <td>687.0</td>\n",
       "      <td>145.0</td>\n",
       "    </tr>\n",
       "    <tr>\n",
       "      <th>2</th>\n",
       "      <td>158.0</td>\n",
       "      <td>34.0</td>\n",
       "    </tr>\n",
       "    <tr>\n",
       "      <th>3</th>\n",
       "      <td>52.0</td>\n",
       "      <td>13.0</td>\n",
       "    </tr>\n",
       "    <tr>\n",
       "      <th>4</th>\n",
       "      <td>15.0</td>\n",
       "      <td>4.0</td>\n",
       "    </tr>\n",
       "    <tr>\n",
       "      <th>5</th>\n",
       "      <td>6.0</td>\n",
       "      <td>NaN</td>\n",
       "    </tr>\n",
       "    <tr>\n",
       "      <th>6</th>\n",
       "      <td>2.0</td>\n",
       "      <td>NaN</td>\n",
       "    </tr>\n",
       "    <tr>\n",
       "      <th>7</th>\n",
       "      <td>1.0</td>\n",
       "      <td>NaN</td>\n",
       "    </tr>\n",
       "    <tr>\n",
       "      <th>8</th>\n",
       "      <td>1.0</td>\n",
       "      <td>NaN</td>\n",
       "    </tr>\n",
       "    <tr>\n",
       "      <th>11</th>\n",
       "      <td>1.0</td>\n",
       "      <td>NaN</td>\n",
       "    </tr>\n",
       "    <tr>\n",
       "      <th>13</th>\n",
       "      <td>1.0</td>\n",
       "      <td>NaN</td>\n",
       "    </tr>\n",
       "  </tbody>\n",
       "</table>\n",
       "</div>"
      ],
      "text/plain": [
       "not.fully.paid       0       1\n",
       "delinq.2yrs                   \n",
       "0               7121.0  1337.0\n",
       "1                687.0   145.0\n",
       "2                158.0    34.0\n",
       "3                 52.0    13.0\n",
       "4                 15.0     4.0\n",
       "5                  6.0     NaN\n",
       "6                  2.0     NaN\n",
       "7                  1.0     NaN\n",
       "8                  1.0     NaN\n",
       "11                 1.0     NaN\n",
       "13                 1.0     NaN"
      ]
     },
     "execution_count": 30,
     "metadata": {},
     "output_type": "execute_result"
    }
   ],
   "source": [
    "tab_delinq_paid = data.groupby(['delinq.2yrs','not.fully.paid'])['pca1'].count().reset_index().rename(\n",
    "                              columns={'pca1':'value'}).pivot(columns=['not.fully.paid'], index=['delinq.2yrs'], values='value')\n",
    "\n",
    "tab_delinq_paid"
   ]
  },
  {
   "cell_type": "code",
   "execution_count": 31,
   "id": "fd339085",
   "metadata": {},
   "outputs": [
    {
     "data": {
      "text/html": [
       "<div>\n",
       "<style scoped>\n",
       "    .dataframe tbody tr th:only-of-type {\n",
       "        vertical-align: middle;\n",
       "    }\n",
       "\n",
       "    .dataframe tbody tr th {\n",
       "        vertical-align: top;\n",
       "    }\n",
       "\n",
       "    .dataframe thead th {\n",
       "        text-align: right;\n",
       "    }\n",
       "</style>\n",
       "<table border=\"1\" class=\"dataframe\">\n",
       "  <thead>\n",
       "    <tr style=\"text-align: right;\">\n",
       "      <th>not.fully.paid</th>\n",
       "      <th>0</th>\n",
       "      <th>1</th>\n",
       "    </tr>\n",
       "    <tr>\n",
       "      <th>delinq.2yrs</th>\n",
       "      <th></th>\n",
       "      <th></th>\n",
       "    </tr>\n",
       "  </thead>\n",
       "  <tbody>\n",
       "    <tr>\n",
       "      <th>0</th>\n",
       "      <td>7121.0</td>\n",
       "      <td>1337.0</td>\n",
       "    </tr>\n",
       "    <tr>\n",
       "      <th>1</th>\n",
       "      <td>687.0</td>\n",
       "      <td>145.0</td>\n",
       "    </tr>\n",
       "    <tr>\n",
       "      <th>2</th>\n",
       "      <td>158.0</td>\n",
       "      <td>34.0</td>\n",
       "    </tr>\n",
       "    <tr>\n",
       "      <th>3</th>\n",
       "      <td>52.0</td>\n",
       "      <td>13.0</td>\n",
       "    </tr>\n",
       "    <tr>\n",
       "      <th>4</th>\n",
       "      <td>15.0</td>\n",
       "      <td>4.0</td>\n",
       "    </tr>\n",
       "    <tr>\n",
       "      <th>5</th>\n",
       "      <td>6.0</td>\n",
       "      <td>0.0</td>\n",
       "    </tr>\n",
       "    <tr>\n",
       "      <th>6</th>\n",
       "      <td>2.0</td>\n",
       "      <td>0.0</td>\n",
       "    </tr>\n",
       "    <tr>\n",
       "      <th>7</th>\n",
       "      <td>1.0</td>\n",
       "      <td>0.0</td>\n",
       "    </tr>\n",
       "    <tr>\n",
       "      <th>8</th>\n",
       "      <td>1.0</td>\n",
       "      <td>0.0</td>\n",
       "    </tr>\n",
       "    <tr>\n",
       "      <th>11</th>\n",
       "      <td>1.0</td>\n",
       "      <td>0.0</td>\n",
       "    </tr>\n",
       "    <tr>\n",
       "      <th>13</th>\n",
       "      <td>1.0</td>\n",
       "      <td>0.0</td>\n",
       "    </tr>\n",
       "  </tbody>\n",
       "</table>\n",
       "</div>"
      ],
      "text/plain": [
       "not.fully.paid       0       1\n",
       "delinq.2yrs                   \n",
       "0               7121.0  1337.0\n",
       "1                687.0   145.0\n",
       "2                158.0    34.0\n",
       "3                 52.0    13.0\n",
       "4                 15.0     4.0\n",
       "5                  6.0     0.0\n",
       "6                  2.0     0.0\n",
       "7                  1.0     0.0\n",
       "8                  1.0     0.0\n",
       "11                 1.0     0.0\n",
       "13                 1.0     0.0"
      ]
     },
     "execution_count": 31,
     "metadata": {},
     "output_type": "execute_result"
    }
   ],
   "source": [
    "# put zero instead on NaN\n",
    "tab_delinq_paid = tab_delinq_paid.replace({np.nan:0})\n",
    "tab_delinq_paid"
   ]
  },
  {
   "cell_type": "code",
   "execution_count": 32,
   "id": "19e59688",
   "metadata": {},
   "outputs": [
    {
     "data": {
      "text/plain": [
       "(5.330967923235079,\n",
       " 0.8680013883658166,\n",
       " 10,\n",
       " array([[7.10426081e+03, 1.35373919e+03],\n",
       "        [6.98834830e+02, 1.33165170e+02],\n",
       "        [1.61269576e+02, 3.07304239e+01],\n",
       "        [5.45964711e+01, 1.04035289e+01],\n",
       "        [1.59589685e+01, 3.04103153e+00],\n",
       "        [5.03967425e+00, 9.60325747e-01],\n",
       "        [1.67989142e+00, 3.20108582e-01],\n",
       "        [8.39945709e-01, 1.60054291e-01],\n",
       "        [8.39945709e-01, 1.60054291e-01],\n",
       "        [8.39945709e-01, 1.60054291e-01],\n",
       "        [8.39945709e-01, 1.60054291e-01]]))"
      ]
     },
     "execution_count": 32,
     "metadata": {},
     "output_type": "execute_result"
    }
   ],
   "source": [
    "chi2_contingency(tab_delinq_paid)"
   ]
  },
  {
   "cell_type": "markdown",
   "id": "6645e2a7",
   "metadata": {},
   "source": [
    "Since, p-value is not small, so it seems that 'not.fully.paid' is independent of 'delinq.2yrs'. Therefore, 'delinq.2yrs' is deleted from the features."
   ]
  },
  {
   "cell_type": "code",
   "execution_count": 33,
   "id": "626f200f",
   "metadata": {},
   "outputs": [],
   "source": [
    "data.drop('delinq.2yrs', axis=1, inplace=True)"
   ]
  },
  {
   "cell_type": "code",
   "execution_count": 34,
   "id": "8efcc5a9",
   "metadata": {},
   "outputs": [
    {
     "data": {
      "text/html": [
       "<div>\n",
       "<style scoped>\n",
       "    .dataframe tbody tr th:only-of-type {\n",
       "        vertical-align: middle;\n",
       "    }\n",
       "\n",
       "    .dataframe tbody tr th {\n",
       "        vertical-align: top;\n",
       "    }\n",
       "\n",
       "    .dataframe thead th {\n",
       "        text-align: right;\n",
       "    }\n",
       "</style>\n",
       "<table border=\"1\" class=\"dataframe\">\n",
       "  <thead>\n",
       "    <tr style=\"text-align: right;\">\n",
       "      <th></th>\n",
       "      <th>pca1</th>\n",
       "      <th>pca2</th>\n",
       "      <th>pca3</th>\n",
       "      <th>pca4</th>\n",
       "      <th>pca5</th>\n",
       "      <th>pca6</th>\n",
       "      <th>credit.policy</th>\n",
       "      <th>pub.rec</th>\n",
       "      <th>not.fully.paid</th>\n",
       "      <th>purpose_credit_card</th>\n",
       "      <th>purpose_debt_consolidation</th>\n",
       "      <th>purpose_educational</th>\n",
       "      <th>purpose_home_improvement</th>\n",
       "      <th>purpose_major_purchase</th>\n",
       "      <th>purpose_small_business</th>\n",
       "    </tr>\n",
       "  </thead>\n",
       "  <tbody>\n",
       "    <tr>\n",
       "      <th>0</th>\n",
       "      <td>-0.713368</td>\n",
       "      <td>0.232233</td>\n",
       "      <td>-0.148768</td>\n",
       "      <td>-0.296823</td>\n",
       "      <td>0.036045</td>\n",
       "      <td>-0.066899</td>\n",
       "      <td>1</td>\n",
       "      <td>0</td>\n",
       "      <td>0</td>\n",
       "      <td>0</td>\n",
       "      <td>1</td>\n",
       "      <td>0</td>\n",
       "      <td>0</td>\n",
       "      <td>0</td>\n",
       "      <td>0</td>\n",
       "    </tr>\n",
       "    <tr>\n",
       "      <th>1</th>\n",
       "      <td>-0.715702</td>\n",
       "      <td>0.233364</td>\n",
       "      <td>0.087133</td>\n",
       "      <td>0.093194</td>\n",
       "      <td>-0.045879</td>\n",
       "      <td>-0.138544</td>\n",
       "      <td>1</td>\n",
       "      <td>0</td>\n",
       "      <td>0</td>\n",
       "      <td>1</td>\n",
       "      <td>0</td>\n",
       "      <td>0</td>\n",
       "      <td>0</td>\n",
       "      <td>0</td>\n",
       "      <td>0</td>\n",
       "    </tr>\n",
       "    <tr>\n",
       "      <th>2</th>\n",
       "      <td>0.274826</td>\n",
       "      <td>-0.141905</td>\n",
       "      <td>-0.058845</td>\n",
       "      <td>-0.094353</td>\n",
       "      <td>0.076334</td>\n",
       "      <td>0.077043</td>\n",
       "      <td>1</td>\n",
       "      <td>0</td>\n",
       "      <td>0</td>\n",
       "      <td>0</td>\n",
       "      <td>1</td>\n",
       "      <td>0</td>\n",
       "      <td>0</td>\n",
       "      <td>0</td>\n",
       "      <td>0</td>\n",
       "    </tr>\n",
       "    <tr>\n",
       "      <th>3</th>\n",
       "      <td>0.266166</td>\n",
       "      <td>0.066425</td>\n",
       "      <td>0.232517</td>\n",
       "      <td>0.131375</td>\n",
       "      <td>-0.131660</td>\n",
       "      <td>-0.159960</td>\n",
       "      <td>1</td>\n",
       "      <td>0</td>\n",
       "      <td>0</td>\n",
       "      <td>0</td>\n",
       "      <td>1</td>\n",
       "      <td>0</td>\n",
       "      <td>0</td>\n",
       "      <td>0</td>\n",
       "      <td>0</td>\n",
       "    </tr>\n",
       "    <tr>\n",
       "      <th>4</th>\n",
       "      <td>-0.707192</td>\n",
       "      <td>0.000980</td>\n",
       "      <td>-0.097933</td>\n",
       "      <td>0.175653</td>\n",
       "      <td>0.044716</td>\n",
       "      <td>0.142974</td>\n",
       "      <td>1</td>\n",
       "      <td>0</td>\n",
       "      <td>0</td>\n",
       "      <td>1</td>\n",
       "      <td>0</td>\n",
       "      <td>0</td>\n",
       "      <td>0</td>\n",
       "      <td>0</td>\n",
       "      <td>0</td>\n",
       "    </tr>\n",
       "  </tbody>\n",
       "</table>\n",
       "</div>"
      ],
      "text/plain": [
       "       pca1      pca2      pca3      pca4      pca5      pca6  credit.policy  \\\n",
       "0 -0.713368  0.232233 -0.148768 -0.296823  0.036045 -0.066899              1   \n",
       "1 -0.715702  0.233364  0.087133  0.093194 -0.045879 -0.138544              1   \n",
       "2  0.274826 -0.141905 -0.058845 -0.094353  0.076334  0.077043              1   \n",
       "3  0.266166  0.066425  0.232517  0.131375 -0.131660 -0.159960              1   \n",
       "4 -0.707192  0.000980 -0.097933  0.175653  0.044716  0.142974              1   \n",
       "\n",
       "   pub.rec  not.fully.paid  purpose_credit_card  purpose_debt_consolidation  \\\n",
       "0        0               0                    0                           1   \n",
       "1        0               0                    1                           0   \n",
       "2        0               0                    0                           1   \n",
       "3        0               0                    0                           1   \n",
       "4        0               0                    1                           0   \n",
       "\n",
       "   purpose_educational  purpose_home_improvement  purpose_major_purchase  \\\n",
       "0                    0                         0                       0   \n",
       "1                    0                         0                       0   \n",
       "2                    0                         0                       0   \n",
       "3                    0                         0                       0   \n",
       "4                    0                         0                       0   \n",
       "\n",
       "   purpose_small_business  \n",
       "0                       0  \n",
       "1                       0  \n",
       "2                       0  \n",
       "3                       0  \n",
       "4                       0  "
      ]
     },
     "execution_count": 34,
     "metadata": {},
     "output_type": "execute_result"
    }
   ],
   "source": [
    "data.head()"
   ]
  },
  {
   "cell_type": "markdown",
   "id": "88021bec",
   "metadata": {},
   "source": [
    "#### pub.rec\n",
    "\n",
    "Similarly, we investigate the 'pub.rec':"
   ]
  },
  {
   "cell_type": "code",
   "execution_count": 35,
   "id": "891b4821",
   "metadata": {},
   "outputs": [
    {
     "data": {
      "text/html": [
       "<div>\n",
       "<style scoped>\n",
       "    .dataframe tbody tr th:only-of-type {\n",
       "        vertical-align: middle;\n",
       "    }\n",
       "\n",
       "    .dataframe tbody tr th {\n",
       "        vertical-align: top;\n",
       "    }\n",
       "\n",
       "    .dataframe thead th {\n",
       "        text-align: right;\n",
       "    }\n",
       "</style>\n",
       "<table border=\"1\" class=\"dataframe\">\n",
       "  <thead>\n",
       "    <tr style=\"text-align: right;\">\n",
       "      <th>not.fully.paid</th>\n",
       "      <th>0</th>\n",
       "      <th>1</th>\n",
       "    </tr>\n",
       "    <tr>\n",
       "      <th>pub.rec</th>\n",
       "      <th></th>\n",
       "      <th></th>\n",
       "    </tr>\n",
       "  </thead>\n",
       "  <tbody>\n",
       "    <tr>\n",
       "      <th>0</th>\n",
       "      <td>7624.0</td>\n",
       "      <td>1395.0</td>\n",
       "    </tr>\n",
       "    <tr>\n",
       "      <th>1</th>\n",
       "      <td>397.0</td>\n",
       "      <td>136.0</td>\n",
       "    </tr>\n",
       "    <tr>\n",
       "      <th>2</th>\n",
       "      <td>17.0</td>\n",
       "      <td>2.0</td>\n",
       "    </tr>\n",
       "    <tr>\n",
       "      <th>3</th>\n",
       "      <td>5.0</td>\n",
       "      <td>NaN</td>\n",
       "    </tr>\n",
       "    <tr>\n",
       "      <th>4</th>\n",
       "      <td>1.0</td>\n",
       "      <td>NaN</td>\n",
       "    </tr>\n",
       "    <tr>\n",
       "      <th>5</th>\n",
       "      <td>1.0</td>\n",
       "      <td>NaN</td>\n",
       "    </tr>\n",
       "  </tbody>\n",
       "</table>\n",
       "</div>"
      ],
      "text/plain": [
       "not.fully.paid       0       1\n",
       "pub.rec                       \n",
       "0               7624.0  1395.0\n",
       "1                397.0   136.0\n",
       "2                 17.0     2.0\n",
       "3                  5.0     NaN\n",
       "4                  1.0     NaN\n",
       "5                  1.0     NaN"
      ]
     },
     "execution_count": 35,
     "metadata": {},
     "output_type": "execute_result"
    }
   ],
   "source": [
    "tab_pub_paid = data.groupby(['pub.rec','not.fully.paid']).agg('count')['pca1'].reset_index().rename(\n",
    "                              columns={'pca1':'value'}).pivot(columns=['not.fully.paid'], index=['pub.rec'], values='value')\n",
    "\n",
    "tab_pub_paid"
   ]
  },
  {
   "cell_type": "code",
   "execution_count": 36,
   "id": "b63bf361",
   "metadata": {},
   "outputs": [
    {
     "data": {
      "text/html": [
       "<div>\n",
       "<style scoped>\n",
       "    .dataframe tbody tr th:only-of-type {\n",
       "        vertical-align: middle;\n",
       "    }\n",
       "\n",
       "    .dataframe tbody tr th {\n",
       "        vertical-align: top;\n",
       "    }\n",
       "\n",
       "    .dataframe thead th {\n",
       "        text-align: right;\n",
       "    }\n",
       "</style>\n",
       "<table border=\"1\" class=\"dataframe\">\n",
       "  <thead>\n",
       "    <tr style=\"text-align: right;\">\n",
       "      <th>not.fully.paid</th>\n",
       "      <th>0</th>\n",
       "      <th>1</th>\n",
       "    </tr>\n",
       "    <tr>\n",
       "      <th>pub.rec</th>\n",
       "      <th></th>\n",
       "      <th></th>\n",
       "    </tr>\n",
       "  </thead>\n",
       "  <tbody>\n",
       "    <tr>\n",
       "      <th>0</th>\n",
       "      <td>7624.0</td>\n",
       "      <td>1395.0</td>\n",
       "    </tr>\n",
       "    <tr>\n",
       "      <th>1</th>\n",
       "      <td>397.0</td>\n",
       "      <td>136.0</td>\n",
       "    </tr>\n",
       "    <tr>\n",
       "      <th>2</th>\n",
       "      <td>17.0</td>\n",
       "      <td>2.0</td>\n",
       "    </tr>\n",
       "    <tr>\n",
       "      <th>3</th>\n",
       "      <td>5.0</td>\n",
       "      <td>0.0</td>\n",
       "    </tr>\n",
       "    <tr>\n",
       "      <th>4</th>\n",
       "      <td>1.0</td>\n",
       "      <td>0.0</td>\n",
       "    </tr>\n",
       "    <tr>\n",
       "      <th>5</th>\n",
       "      <td>1.0</td>\n",
       "      <td>0.0</td>\n",
       "    </tr>\n",
       "  </tbody>\n",
       "</table>\n",
       "</div>"
      ],
      "text/plain": [
       "not.fully.paid       0       1\n",
       "pub.rec                       \n",
       "0               7624.0  1395.0\n",
       "1                397.0   136.0\n",
       "2                 17.0     2.0\n",
       "3                  5.0     0.0\n",
       "4                  1.0     0.0\n",
       "5                  1.0     0.0"
      ]
     },
     "execution_count": 36,
     "metadata": {},
     "output_type": "execute_result"
    }
   ],
   "source": [
    "tab_pub_paid = tab_pub_paid.replace({np.nan:0})\n",
    "tab_pub_paid"
   ]
  },
  {
   "cell_type": "code",
   "execution_count": 37,
   "id": "0f7c4374",
   "metadata": {},
   "outputs": [
    {
     "data": {
      "text/plain": [
       "(39.56110774714441,\n",
       " 1.830777027585089e-07,\n",
       " 5,\n",
       " array([[7.57547035e+03, 1.44352965e+03],\n",
       "        [4.47691063e+02, 8.53089371e+01],\n",
       "        [1.59589685e+01, 3.04103153e+00],\n",
       "        [4.19972854e+00, 8.00271455e-01],\n",
       "        [8.39945709e-01, 1.60054291e-01],\n",
       "        [8.39945709e-01, 1.60054291e-01]]))"
      ]
     },
     "execution_count": 37,
     "metadata": {},
     "output_type": "execute_result"
    }
   ],
   "source": [
    "chi2_contingency(tab_pub_paid)"
   ]
  },
  {
   "cell_type": "markdown",
   "id": "d41fc8d4",
   "metadata": {},
   "source": [
    "p-value is small, the null hypothesis is rejected. So, 'pub.rec' will be considered as one of the features."
   ]
  },
  {
   "cell_type": "code",
   "execution_count": 38,
   "id": "a8eeecdf",
   "metadata": {
    "scrolled": true
   },
   "outputs": [
    {
     "data": {
      "text/plain": [
       "0    9019\n",
       "1     533\n",
       "2      19\n",
       "3       5\n",
       "4       1\n",
       "5       1\n",
       "Name: pub.rec, dtype: int64"
      ]
     },
     "execution_count": 38,
     "metadata": {},
     "output_type": "execute_result"
    }
   ],
   "source": [
    "data['pub.rec'].value_counts()"
   ]
  },
  {
   "cell_type": "code",
   "execution_count": 39,
   "id": "978819f7",
   "metadata": {},
   "outputs": [
    {
     "data": {
      "text/html": [
       "<div>\n",
       "<style scoped>\n",
       "    .dataframe tbody tr th:only-of-type {\n",
       "        vertical-align: middle;\n",
       "    }\n",
       "\n",
       "    .dataframe tbody tr th {\n",
       "        vertical-align: top;\n",
       "    }\n",
       "\n",
       "    .dataframe thead th {\n",
       "        text-align: right;\n",
       "    }\n",
       "</style>\n",
       "<table border=\"1\" class=\"dataframe\">\n",
       "  <thead>\n",
       "    <tr style=\"text-align: right;\">\n",
       "      <th></th>\n",
       "      <th>pca1</th>\n",
       "      <th>pca2</th>\n",
       "      <th>pca3</th>\n",
       "      <th>pca4</th>\n",
       "      <th>pca5</th>\n",
       "      <th>pca6</th>\n",
       "      <th>credit.policy</th>\n",
       "      <th>not.fully.paid</th>\n",
       "      <th>purpose_credit_card</th>\n",
       "      <th>purpose_debt_consolidation</th>\n",
       "      <th>purpose_educational</th>\n",
       "      <th>purpose_home_improvement</th>\n",
       "      <th>purpose_major_purchase</th>\n",
       "      <th>purpose_small_business</th>\n",
       "      <th>pub.rec_1</th>\n",
       "      <th>pub.rec_2</th>\n",
       "      <th>pub.rec_3</th>\n",
       "      <th>pub.rec_4</th>\n",
       "      <th>pub.rec_5</th>\n",
       "    </tr>\n",
       "  </thead>\n",
       "  <tbody>\n",
       "    <tr>\n",
       "      <th>0</th>\n",
       "      <td>-0.713368</td>\n",
       "      <td>0.232233</td>\n",
       "      <td>-0.148768</td>\n",
       "      <td>-0.296823</td>\n",
       "      <td>0.036045</td>\n",
       "      <td>-0.066899</td>\n",
       "      <td>1</td>\n",
       "      <td>0</td>\n",
       "      <td>0</td>\n",
       "      <td>1</td>\n",
       "      <td>0</td>\n",
       "      <td>0</td>\n",
       "      <td>0</td>\n",
       "      <td>0</td>\n",
       "      <td>0</td>\n",
       "      <td>0</td>\n",
       "      <td>0</td>\n",
       "      <td>0</td>\n",
       "      <td>0</td>\n",
       "    </tr>\n",
       "    <tr>\n",
       "      <th>1</th>\n",
       "      <td>-0.715702</td>\n",
       "      <td>0.233364</td>\n",
       "      <td>0.087133</td>\n",
       "      <td>0.093194</td>\n",
       "      <td>-0.045879</td>\n",
       "      <td>-0.138544</td>\n",
       "      <td>1</td>\n",
       "      <td>0</td>\n",
       "      <td>1</td>\n",
       "      <td>0</td>\n",
       "      <td>0</td>\n",
       "      <td>0</td>\n",
       "      <td>0</td>\n",
       "      <td>0</td>\n",
       "      <td>0</td>\n",
       "      <td>0</td>\n",
       "      <td>0</td>\n",
       "      <td>0</td>\n",
       "      <td>0</td>\n",
       "    </tr>\n",
       "    <tr>\n",
       "      <th>2</th>\n",
       "      <td>0.274826</td>\n",
       "      <td>-0.141905</td>\n",
       "      <td>-0.058845</td>\n",
       "      <td>-0.094353</td>\n",
       "      <td>0.076334</td>\n",
       "      <td>0.077043</td>\n",
       "      <td>1</td>\n",
       "      <td>0</td>\n",
       "      <td>0</td>\n",
       "      <td>1</td>\n",
       "      <td>0</td>\n",
       "      <td>0</td>\n",
       "      <td>0</td>\n",
       "      <td>0</td>\n",
       "      <td>0</td>\n",
       "      <td>0</td>\n",
       "      <td>0</td>\n",
       "      <td>0</td>\n",
       "      <td>0</td>\n",
       "    </tr>\n",
       "    <tr>\n",
       "      <th>3</th>\n",
       "      <td>0.266166</td>\n",
       "      <td>0.066425</td>\n",
       "      <td>0.232517</td>\n",
       "      <td>0.131375</td>\n",
       "      <td>-0.131660</td>\n",
       "      <td>-0.159960</td>\n",
       "      <td>1</td>\n",
       "      <td>0</td>\n",
       "      <td>0</td>\n",
       "      <td>1</td>\n",
       "      <td>0</td>\n",
       "      <td>0</td>\n",
       "      <td>0</td>\n",
       "      <td>0</td>\n",
       "      <td>0</td>\n",
       "      <td>0</td>\n",
       "      <td>0</td>\n",
       "      <td>0</td>\n",
       "      <td>0</td>\n",
       "    </tr>\n",
       "    <tr>\n",
       "      <th>4</th>\n",
       "      <td>-0.707192</td>\n",
       "      <td>0.000980</td>\n",
       "      <td>-0.097933</td>\n",
       "      <td>0.175653</td>\n",
       "      <td>0.044716</td>\n",
       "      <td>0.142974</td>\n",
       "      <td>1</td>\n",
       "      <td>0</td>\n",
       "      <td>1</td>\n",
       "      <td>0</td>\n",
       "      <td>0</td>\n",
       "      <td>0</td>\n",
       "      <td>0</td>\n",
       "      <td>0</td>\n",
       "      <td>0</td>\n",
       "      <td>0</td>\n",
       "      <td>0</td>\n",
       "      <td>0</td>\n",
       "      <td>0</td>\n",
       "    </tr>\n",
       "  </tbody>\n",
       "</table>\n",
       "</div>"
      ],
      "text/plain": [
       "       pca1      pca2      pca3      pca4      pca5      pca6  credit.policy  \\\n",
       "0 -0.713368  0.232233 -0.148768 -0.296823  0.036045 -0.066899              1   \n",
       "1 -0.715702  0.233364  0.087133  0.093194 -0.045879 -0.138544              1   \n",
       "2  0.274826 -0.141905 -0.058845 -0.094353  0.076334  0.077043              1   \n",
       "3  0.266166  0.066425  0.232517  0.131375 -0.131660 -0.159960              1   \n",
       "4 -0.707192  0.000980 -0.097933  0.175653  0.044716  0.142974              1   \n",
       "\n",
       "   not.fully.paid  purpose_credit_card  purpose_debt_consolidation  \\\n",
       "0               0                    0                           1   \n",
       "1               0                    1                           0   \n",
       "2               0                    0                           1   \n",
       "3               0                    0                           1   \n",
       "4               0                    1                           0   \n",
       "\n",
       "   purpose_educational  purpose_home_improvement  purpose_major_purchase  \\\n",
       "0                    0                         0                       0   \n",
       "1                    0                         0                       0   \n",
       "2                    0                         0                       0   \n",
       "3                    0                         0                       0   \n",
       "4                    0                         0                       0   \n",
       "\n",
       "   purpose_small_business  pub.rec_1  pub.rec_2  pub.rec_3  pub.rec_4  \\\n",
       "0                       0          0          0          0          0   \n",
       "1                       0          0          0          0          0   \n",
       "2                       0          0          0          0          0   \n",
       "3                       0          0          0          0          0   \n",
       "4                       0          0          0          0          0   \n",
       "\n",
       "   pub.rec_5  \n",
       "0          0  \n",
       "1          0  \n",
       "2          0  \n",
       "3          0  \n",
       "4          0  "
      ]
     },
     "execution_count": 39,
     "metadata": {},
     "output_type": "execute_result"
    }
   ],
   "source": [
    "data = pd.get_dummies(data=data, columns=['pub.rec'], drop_first=True )\n",
    "data.head()"
   ]
  },
  {
   "cell_type": "markdown",
   "id": "14ff880f",
   "metadata": {},
   "source": [
    "Now that we have cleaned and prepared our dataset, we can split the dataset into independent variables and target set:"
   ]
  },
  {
   "cell_type": "code",
   "execution_count": 40,
   "id": "2c4b0c73",
   "metadata": {},
   "outputs": [],
   "source": [
    "X = data.drop(columns=['not.fully.paid'], axis=1)\n",
    "y = data['not.fully.paid']"
   ]
  },
  {
   "cell_type": "markdown",
   "id": "37dae00f",
   "metadata": {},
   "source": [
    "Now, we split the dataset into train and test sets:"
   ]
  },
  {
   "cell_type": "code",
   "execution_count": 41,
   "id": "1031b9bc",
   "metadata": {
    "scrolled": true
   },
   "outputs": [],
   "source": [
    "X_tra, X_tes, y_tra, y_tes = train_test_split(X, y, test_size=0.2, stratify=y, random_state=1979)"
   ]
  },
  {
   "cell_type": "code",
   "execution_count": 42,
   "id": "8ea6ce91",
   "metadata": {
    "scrolled": true
   },
   "outputs": [
    {
     "data": {
      "text/plain": [
       "0    0.83999\n",
       "1    0.16001\n",
       "Name: not.fully.paid, dtype: float64"
      ]
     },
     "execution_count": 42,
     "metadata": {},
     "output_type": "execute_result"
    }
   ],
   "source": [
    "y_tra.value_counts(normalize=True)"
   ]
  },
  {
   "cell_type": "code",
   "execution_count": 43,
   "id": "5ca26889",
   "metadata": {},
   "outputs": [
    {
     "data": {
      "text/plain": [
       "0    0.83977\n",
       "1    0.16023\n",
       "Name: not.fully.paid, dtype: float64"
      ]
     },
     "execution_count": 43,
     "metadata": {},
     "output_type": "execute_result"
    }
   ],
   "source": [
    "y_tes.value_counts(normalize=True)"
   ]
  },
  {
   "cell_type": "markdown",
   "id": "23c05be9",
   "metadata": {},
   "source": [
    "## Classification Functions <a class=\"anchor\" id=\"second-bullet\"></a>\n",
    "\n",
    "In this section, we will deifne the functions and methods used for the classification. Various methods are employed for the classification for the comparison purposes."
   ]
  },
  {
   "cell_type": "markdown",
   "id": "0306d31f",
   "metadata": {},
   "source": [
    "### Logistic Regression <a class=\"anchor\" id=\"21\"></a>"
   ]
  },
  {
   "cell_type": "code",
   "execution_count": 44,
   "id": "73d2729d",
   "metadata": {},
   "outputs": [],
   "source": [
    "def logistic_reg(X_tra, y_tra, X_tes, y_tes, C_range=[1], class_weight=None):\n",
    "\n",
    "    lr = LogisticRegression(n_jobs=-1, random_state=1979, class_weight=class_weight, max_iter=10000)\n",
    "    param_grid = {'C': C_range}\n",
    "    gs = GridSearchCV(estimator=lr, param_grid=param_grid, scoring='f1', cv=5, n_jobs=-1)\n",
    "    gs.fit(X_tra, y_tra)\n",
    "\n",
    "    y_pred = gs.predict(X_tes)\n",
    "    y_prob = gs.predict_proba(X_tes)\n",
    "    \n",
    "    accu_sco = accuracy_score(y_true=y_tes, y_pred=y_pred)\n",
    "    roc_sco = roc_auc_score(y_true=y_tes, y_score=y_pred)\n",
    "    prec_sco, reca_sco, f1_sco, _ = precision_recall_fscore_support(y_true=y_tes, y_pred=y_pred,\n",
    "                                                                    pos_label=1, average='macro')\n",
    "    res = pd.Series({'Precision':prec_sco, 'Recall':reca_sco, 'F1 Score':f1_sco, 'Accuracy':accu_sco,\n",
    "               'ROC_AUC':roc_sco }, name='Logistic Regression')\n",
    "\n",
    "\n",
    "    return y_pred, y_prob, res"
   ]
  },
  {
   "cell_type": "markdown",
   "id": "d5ae854c",
   "metadata": {},
   "source": [
    "### Linear SVC <a class=\"anchor\" id=\"22\"></a>"
   ]
  },
  {
   "cell_type": "code",
   "execution_count": 45,
   "id": "812053fe",
   "metadata": {},
   "outputs": [],
   "source": [
    "def linear_svc(X_tra, y_tra, X_tes, y_tes, C_range=[1], class_weight=None):\n",
    "    \n",
    "    lsvc = LinearSVC(random_state=1979, class_weight=class_weight, max_iter=10000)\n",
    "    param_grid = {'C': C_range}\n",
    "    gs = GridSearchCV(estimator=lsvc, param_grid=param_grid, scoring='f1', cv=5, n_jobs=-1)\n",
    "    gs.fit(X_tra, y_tra)\n",
    "    y_pred = gs.predict(X_tes)\n",
    "        \n",
    "    accu_sco = accuracy_score(y_true=y_tes, y_pred=y_pred)\n",
    "    roc_sco = roc_auc_score(y_true=y_tes, y_score=y_pred)\n",
    "    prec_sco, reca_sco, f1_sco, _ = precision_recall_fscore_support(y_true=y_tes, y_pred=y_pred,\n",
    "                                                                    pos_label=1, average='macro')\n",
    "    res = pd.Series({'Precision':prec_sco, 'Recall':reca_sco, 'F1 Score':f1_sco, 'Accuracy':accu_sco,\n",
    "               'ROC_AUC':roc_sco }, name='Linear SVC')\n",
    "\n",
    "\n",
    "    return y_pred, res"
   ]
  },
  {
   "cell_type": "markdown",
   "id": "1d870eb5",
   "metadata": {},
   "source": [
    "### SVC with Kernel <a class=\"anchor\" id=\"23\"></a>"
   ]
  },
  {
   "cell_type": "code",
   "execution_count": 46,
   "id": "0358f1dc",
   "metadata": {
    "scrolled": true
   },
   "outputs": [],
   "source": [
    "def kernel_svc(X_tra, y_tra, X_tes, y_tes, C_range=[1], class_weight=None):\n",
    "    svc = SVC(class_weight=class_weight, random_state=1979, probability=True)\n",
    "    param_grid = {'C':np.geomspace(1e-1,1e1, 10)}\n",
    "    \n",
    "    gd = GridSearchCV(estimator=svc, param_grid=param_grid, scoring='f1', n_jobs=-1, cv=5)\n",
    "    gd.fit(X_tra, y_tra)\n",
    "    y_pred = gd.predict(X_tes)\n",
    "    y_proba = gd.predict_proba(X_tes)\n",
    "    \n",
    "    accu_sco = accuracy_score(y_true=y_tes, y_pred=y_pred)\n",
    "    roc_sco = roc_auc_score(y_true=y_tes, y_score=y_pred)\n",
    "    prec_sco, reca_sco, f1_sco, _ = precision_recall_fscore_support(y_true=y_tes, y_pred=y_pred,\n",
    "                                                                    pos_label=1, average='macro')\n",
    "    res = pd.Series({'Precision':prec_sco, 'Recall':reca_sco, 'F1 Score':f1_sco, 'Accuracy':accu_sco,\n",
    "               'ROC_AUC':roc_sco }, name='SVC with Kernel')\n",
    "\n",
    "\n",
    "    return y_pred, y_proba, res"
   ]
  },
  {
   "cell_type": "markdown",
   "id": "1621e425",
   "metadata": {},
   "source": [
    "### Decision Tree <a class=\"anchor\" id=\"24\"></a>"
   ]
  },
  {
   "cell_type": "code",
   "execution_count": 47,
   "id": "7059892c",
   "metadata": {},
   "outputs": [],
   "source": [
    "def decision_tree(X_tra, y_tra, X_tes, y_tes, max_depth, max_features, class_weight=None):\n",
    "    dtc = DecisionTreeClassifier(random_state=1979, class_weight=class_weight)\n",
    "    param_grid = {'max_depth':max_depth, 'max_features':max_features}\n",
    "    \n",
    "    gd = GridSearchCV(estimator=dtc, param_grid=param_grid, scoring='f1', n_jobs=-1, cv=5)\n",
    "    gd.fit(X_tra, y_tra)\n",
    "    y_pred = gd.predict(X_tes)\n",
    "    y_proba = gd.predict_proba(X_tes)\n",
    "    \n",
    "    accu_sco = accuracy_score(y_true=y_tes, y_pred=y_pred)\n",
    "    roc_sco = roc_auc_score(y_true=y_tes, y_score=y_pred)\n",
    "    prec_sco, reca_sco, f1_sco, _ = precision_recall_fscore_support(y_true=y_tes, y_pred=y_pred,\n",
    "                                                                    pos_label=1, average='macro')\n",
    "    res = pd.Series({'Precision':prec_sco, 'Recall':reca_sco, 'F1 Score':f1_sco, 'Accuracy':accu_sco,\n",
    "               'ROC_AUC':roc_sco }, name='Decision Tree')\n",
    "\n",
    "    return y_pred, y_proba, res"
   ]
  },
  {
   "cell_type": "markdown",
   "id": "a0ea1b87",
   "metadata": {},
   "source": [
    "### Random Forest <a class=\"anchor\" id=\"25\"></a>"
   ]
  },
  {
   "cell_type": "code",
   "execution_count": 48,
   "id": "f43877ff",
   "metadata": {},
   "outputs": [],
   "source": [
    "def random_forest(X_tra, y_tra, X_tes, y_tes, max_depth, n_estimators, class_weight=None):\n",
    "    rfc = RandomForestClassifier(n_jobs=-1, class_weight=class_weight)\n",
    "    param_grid = {'max_depth':max_depth, 'n_estimators':n_estimators}\n",
    "    \n",
    "    gd = GridSearchCV(estimator=rfc, param_grid=param_grid, scoring='f1', n_jobs=-1, cv=5)\n",
    "    gd.fit(X_tra, y_tra)\n",
    "    y_pred = gd.predict(X_tes)\n",
    "    y_proba = gd.predict_proba(X_tes)\n",
    "    \n",
    "    accu_sco = accuracy_score(y_true=y_tes, y_pred=y_pred)\n",
    "    roc_sco = roc_auc_score(y_true=y_tes, y_score=y_pred)\n",
    "    prec_sco, reca_sco, f1_sco, _ = precision_recall_fscore_support(y_true=y_tes, y_pred=y_pred,\n",
    "                                                                    pos_label=1, average='macro')\n",
    "    res = pd.Series({'Precision':prec_sco, 'Recall':reca_sco, 'F1 Score':f1_sco, 'Accuracy':accu_sco,\n",
    "               'ROC_AUC':roc_sco }, name='Random Forest')\n",
    "\n",
    "    return y_pred, res"
   ]
  },
  {
   "cell_type": "markdown",
   "id": "c6608096",
   "metadata": {},
   "source": [
    "### K Nearest Neighbours <a class=\"anchor\" id=\"26\"></a>"
   ]
  },
  {
   "cell_type": "code",
   "execution_count": 49,
   "id": "b32022cf",
   "metadata": {},
   "outputs": [],
   "source": [
    "def k_neighbors(X_tra, y_tra, X_tes, y_tes, n_neighbors):\n",
    "\n",
    "    knc = KNeighborsClassifier(n_jobs=-1)\n",
    "    param_grid = {'n_neighbors':n_neighbors}\n",
    "    \n",
    "    gd = GridSearchCV(estimator=knc, param_grid=param_grid, scoring='f1', n_jobs=-1, cv=5)\n",
    "    gd.fit(X_tra, y_tra)\n",
    "    y_pred = gd.predict(X_tes)\n",
    "        \n",
    "    accu_sco = accuracy_score(y_true=y_tes, y_pred=y_pred)\n",
    "    roc_sco = roc_auc_score(y_true=y_tes, y_score=y_pred)\n",
    "    prec_sco, reca_sco, f1_sco, _ = precision_recall_fscore_support(y_true=y_tes, y_pred=y_pred,\n",
    "                                                                    pos_label=1, average='macro')\n",
    "    res = pd.Series({'Precision':prec_sco, 'Recall':reca_sco, 'F1 Score':f1_sco, 'Accuracy':accu_sco,\n",
    "               'ROC_AUC':roc_sco }, name='K Nearset Neighbors')\n",
    "\n",
    "    return y_pred, res"
   ]
  },
  {
   "cell_type": "markdown",
   "id": "b02686ff",
   "metadata": {},
   "source": [
    "### Bagging Classifier <a class=\"anchor\" id=\"27\"></a>"
   ]
  },
  {
   "cell_type": "code",
   "execution_count": 50,
   "id": "ad637ba7",
   "metadata": {},
   "outputs": [],
   "source": [
    "def bagging_classifier(X_tra, y_tra, X_tes, y_tes, n_estimators, max_samples, max_features, class_weight):\n",
    "    \n",
    "    base_estim = DecisionTreeClassifier(class_weight=class_weight, random_state=1979)\n",
    "    bc = BaggingClassifier(base_estimator=base_estim, n_jobs=-1, random_state=1979)\n",
    "    param_grid = {'n_estimators':n_estimators, 'max_samples':max_samples, 'max_features':max_features}\n",
    "    \n",
    "    gd = GridSearchCV(estimator=bc, param_grid=param_grid, scoring='f1', n_jobs=-1, cv=5)\n",
    "    gd.fit(X_tra, y_tra)\n",
    "    y_pred = gd.predict(X_tes)\n",
    "    \n",
    "    accu_sco = accuracy_score(y_true=y_tes, y_pred=y_pred)\n",
    "    roc_sco = roc_auc_score(y_true=y_tes, y_score=y_pred)\n",
    "    prec_sco, reca_sco, f1_sco, _ = precision_recall_fscore_support(y_true=y_tes, y_pred=y_pred,\n",
    "                                                                    pos_label=1, average='macro')\n",
    "    res = pd.Series({'Precision':prec_sco, 'Recall':reca_sco, 'F1 Score':f1_sco, 'Accuracy':accu_sco,\n",
    "               'ROC_AUC':roc_sco }, name='Bagging Classifier')\n",
    "\n",
    "    return y_pred, res  "
   ]
  },
  {
   "cell_type": "markdown",
   "id": "bfd369d1",
   "metadata": {},
   "source": [
    "### Gradient Boosting Classfier <a class=\"anchor\" id=\"28\"></a>"
   ]
  },
  {
   "cell_type": "code",
   "execution_count": 51,
   "id": "84dd9d19",
   "metadata": {},
   "outputs": [],
   "source": [
    "def gradient_boosting(X_tra, y_tra, X_tes, y_tes, n_estimators, max_depth, max_features):\n",
    "    \n",
    "    gbc = GradientBoostingClassifier()\n",
    "    param_grid = {'n_estimators':n_estimators, 'max_depth':max_depth, 'max_features':max_features}\n",
    "    \n",
    "    gd = GridSearchCV(estimator=gbc, param_grid=param_grid, scoring='f1', n_jobs=-1, cv=5)\n",
    "    gd.fit(X_tra, y_tra)\n",
    "    y_pred = gd.predict(X_tes)\n",
    "    \n",
    "    accu_sco = accuracy_score(y_true=y_tes, y_pred=y_pred)\n",
    "    roc_sco = roc_auc_score(y_true=y_tes, y_score=y_pred)\n",
    "    prec_sco, reca_sco, f1_sco, _ = precision_recall_fscore_support(y_true=y_tes, y_pred=y_pred,\n",
    "                                                                    pos_label=1, average='macro')\n",
    "    res = pd.Series({'Precision':prec_sco, 'Recall':reca_sco, 'F1 Score':f1_sco, 'Accuracy':accu_sco,\n",
    "               'ROC_AUC':roc_sco }, name='Gradient Boosting')\n",
    "\n",
    "    return y_pred, res "
   ]
  },
  {
   "cell_type": "markdown",
   "id": "a304b2d9",
   "metadata": {},
   "source": [
    "## Result Functions <a class=\"anchor\" id=\"third-bullet\"></a>\n",
    "\n",
    "In this section, the required functions to represent the results are given:"
   ]
  },
  {
   "cell_type": "markdown",
   "id": "4fe4b0cd",
   "metadata": {},
   "source": [
    "This function illustrates the confusion matrix and the ROC curve."
   ]
  },
  {
   "cell_type": "code",
   "execution_count": 52,
   "id": "66952e97",
   "metadata": {},
   "outputs": [],
   "source": [
    "def result_rep(y_true, y_pred, y_proba):\n",
    "    fig, axs = plt.subplots(1,2, figsize=(15,5))\n",
    "    conf_mat = confusion_matrix(y_true=y_true, y_pred=y_pred)\n",
    "\n",
    "    sns.set_style=('white')\n",
    "    sns.set_context('notebook')\n",
    "    sns.heatmap(conf_mat, annot=True, fmt='d', cmap='plasma', ax=axs[0])\n",
    "    axs[0].set_xlabel('Prediction')\n",
    "    axs[0].set_ylabel('Ground Truth')\n",
    "    axs[0].set_title('Confucion Matrix')\n",
    "\n",
    "    fpr, tpr, thr = roc_curve(y_true=y_true, y_score=y_proba[:,1])\n",
    "    axs[1].plot(fpr,tpr)\n",
    "    axs[1].plot([0, 1], [0, 1], 'r--')\n",
    "    axs[1] = plt.gca()\n",
    "    axs[1].set(xlim=[0, 1], ylim=[0, 1], xlabel='False Positive', ylabel='True Positive', title='ROC Curve')\n",
    "\n",
    "    plt.show()"
   ]
  },
  {
   "cell_type": "markdown",
   "id": "1bfbb3bf",
   "metadata": {},
   "source": [
    " A function to illustrate the confusion matrix:"
   ]
  },
  {
   "cell_type": "code",
   "execution_count": 53,
   "id": "569c0e73",
   "metadata": {},
   "outputs": [],
   "source": [
    "def confusion_rep(y_true, y_pred):\n",
    "    conf_mat = confusion_matrix(y_true=y_true, y_pred=y_pred)\n",
    "\n",
    "    sns.set_style=('white')\n",
    "    sns.set_context('notebook')\n",
    "    sns.heatmap(conf_mat, annot=True, fmt='d', cmap='plasma')\n",
    "    ax = plt.gca()\n",
    "    ax.set_xlabel('Prediction')\n",
    "    ax.set_ylabel('Ground Truth')\n",
    "    ax.set_title('Confucion Matrix')\n",
    "\n",
    "    plt.show()"
   ]
  },
  {
   "cell_type": "markdown",
   "id": "b2f1da80",
   "metadata": {},
   "source": [
    "The function below shows the number of different classes in the target variable:"
   ]
  },
  {
   "cell_type": "code",
   "execution_count": 54,
   "id": "5d3b82f6",
   "metadata": {},
   "outputs": [],
   "source": [
    "def resample_rep(y):\n",
    "    res = pd.DataFrame(y.value_counts()).reset_index().rename(\n",
    "            columns={'not.fully.paid':'No. of Samples', 'index':'Class'}).set_index('Class')\n",
    "    return res"
   ]
  },
  {
   "cell_type": "markdown",
   "id": "4dc37021",
   "metadata": {},
   "source": [
    "A function to stack the results obtained by different methods:"
   ]
  },
  {
   "cell_type": "code",
   "execution_count": 55,
   "id": "b9f6456c",
   "metadata": {},
   "outputs": [],
   "source": [
    "def satck_res (result, Resample):\n",
    "    res = result.stack().reset_index().rename(\n",
    "         columns={'level_0':'Metric', 'level_1':'Classification Method', 0:'Value'})\n",
    "    res['Resample']= Resample\n",
    "    return res"
   ]
  },
  {
   "cell_type": "markdown",
   "id": "471b1c46",
   "metadata": {},
   "source": [
    "The following function is the main function which is used for the classification considering various methods:"
   ]
  },
  {
   "cell_type": "code",
   "execution_count": 56,
   "id": "52945cb6",
   "metadata": {},
   "outputs": [],
   "source": [
    "def classification_different_models(X_tra, y_tra, X_tes, y_tes, class_weight=None):\n",
    "    \n",
    "    list_res = list()\n",
    "\n",
    "    y_pred, y_prob, res = logistic_reg(X_tra, y_tra, X_tes, y_tes,\n",
    "                                      C_range=np.geomspace(0.1,10,10), class_weight=class_weight)\n",
    "    list_res.append(res)\n",
    "\n",
    "    y_pred, res = linear_svc(X_tra, y_tra, X_tes, y_tes, \n",
    "                                   C_range=np.geomspace(0.1,10,10), class_weight=class_weight)\n",
    "    list_res.append(res)\n",
    "\n",
    "    y_pred, y_proba, res = kernel_svc(X_tra, y_tra, X_tes, y_tes, \n",
    "                                   C_range=np.geomspace(0.1,10,10), class_weight=class_weight)\n",
    "    list_res.append(res)\n",
    "\n",
    "    y_pred, y_proba, res = decision_tree(X_tra, y_tra, X_tes, y_tes, max_depth=np.linspace(3,1000,10, dtype=int),\n",
    "                                max_features=[3,5,7,10,15,20], class_weight=class_weight)\n",
    "    list_res.append(res)\n",
    "\n",
    "    y_pred, res = random_forest(X_tra, y_tra, X_tes, y_tes, max_depth=np.linspace(3,1000,10, dtype=int),\n",
    "                                n_estimators=[100, 300, 500, 1000], class_weight=class_weight)\n",
    "    list_res.append(res)\n",
    "\n",
    "    y_pred, res = k_neighbors(X_tra, y_tra, X_tes, y_tes, n_neighbors=[1, 3, 5,7, 10, 15, 20, 50])\n",
    "    list_res.append(res)\n",
    "\n",
    "    y_pred, res = bagging_classifier(X_tra, y_tra, X_tes, y_tes, n_estimators=[100, 500], \n",
    "                                     max_samples=[0.3, 0.7, 1], max_features=[0.1, 0.3, 0.7, 1], class_weight=class_weight)\n",
    "    \n",
    "    list_res.append(res)\n",
    "    \n",
    "    y_pred, res = gradient_boosting(X_tra, y_tra, X_tes, y_tes, n_estimators=[100, 500], max_depth=[3, 5, 7],\n",
    "                      max_features=[0.1, 0.3, 0.7, 1.0])\n",
    "    \n",
    "    list_res.append(res)\n",
    "\n",
    "    res = pd.concat(list_res, axis=1)\n",
    "    \n",
    "    return res"
   ]
  },
  {
   "cell_type": "markdown",
   "id": "bff32ed2",
   "metadata": {},
   "source": [
    "## Class Weight <a class=\"anchor\" id=\"fourth-bullet\"></a>\n",
    "\n",
    "In this section, we will take care of our imbalanced dataset using the 'class weight' available in some classifiaction methods."
   ]
  },
  {
   "cell_type": "markdown",
   "id": "f4e76bbb",
   "metadata": {},
   "source": [
    "First of all, we apply the classification methods on our dataset without using 'class weight' or any imbalnced resamplers just to investigate the performance of the classifiers on the dataset for the later comparisons."
   ]
  },
  {
   "cell_type": "code",
   "execution_count": 57,
   "id": "28f74469",
   "metadata": {
    "scrolled": true
   },
   "outputs": [
    {
     "name": "stdout",
     "output_type": "stream",
     "text": [
      "       No. of Samples\n",
      "Class                \n",
      "0                6436\n",
      "1                1226\n"
     ]
    },
    {
     "data": {
      "text/html": [
       "<div>\n",
       "<style scoped>\n",
       "    .dataframe tbody tr th:only-of-type {\n",
       "        vertical-align: middle;\n",
       "    }\n",
       "\n",
       "    .dataframe tbody tr th {\n",
       "        vertical-align: top;\n",
       "    }\n",
       "\n",
       "    .dataframe thead th {\n",
       "        text-align: right;\n",
       "    }\n",
       "</style>\n",
       "<table border=\"1\" class=\"dataframe\">\n",
       "  <thead>\n",
       "    <tr style=\"text-align: right;\">\n",
       "      <th></th>\n",
       "      <th>Logistic Regression</th>\n",
       "      <th>Linear SVC</th>\n",
       "      <th>SVC with Kernel</th>\n",
       "      <th>Decision Tree</th>\n",
       "      <th>Random Forest</th>\n",
       "      <th>K Nearset Neighbors</th>\n",
       "      <th>Bagging Classifier</th>\n",
       "      <th>Gradient Boosting</th>\n",
       "    </tr>\n",
       "  </thead>\n",
       "  <tbody>\n",
       "    <tr>\n",
       "      <th>Precision</th>\n",
       "      <td>0.810231</td>\n",
       "      <td>0.419885</td>\n",
       "      <td>0.733360</td>\n",
       "      <td>0.524728</td>\n",
       "      <td>0.608289</td>\n",
       "      <td>0.539529</td>\n",
       "      <td>0.586824</td>\n",
       "      <td>0.577401</td>\n",
       "    </tr>\n",
       "    <tr>\n",
       "      <th>Recall</th>\n",
       "      <td>0.510779</td>\n",
       "      <td>0.500000</td>\n",
       "      <td>0.507211</td>\n",
       "      <td>0.526075</td>\n",
       "      <td>0.506664</td>\n",
       "      <td>0.539737</td>\n",
       "      <td>0.502014</td>\n",
       "      <td>0.516886</td>\n",
       "    </tr>\n",
       "    <tr>\n",
       "      <th>F1 Score</th>\n",
       "      <td>0.479205</td>\n",
       "      <td>0.456454</td>\n",
       "      <td>0.472512</td>\n",
       "      <td>0.525270</td>\n",
       "      <td>0.474261</td>\n",
       "      <td>0.539631</td>\n",
       "      <td>0.462485</td>\n",
       "      <td>0.501868</td>\n",
       "    </tr>\n",
       "    <tr>\n",
       "      <th>Accuracy</th>\n",
       "      <td>0.842380</td>\n",
       "      <td>0.839770</td>\n",
       "      <td>0.840814</td>\n",
       "      <td>0.737474</td>\n",
       "      <td>0.837683</td>\n",
       "      <td>0.751566</td>\n",
       "      <td>0.838727</td>\n",
       "      <td>0.828288</td>\n",
       "    </tr>\n",
       "    <tr>\n",
       "      <th>ROC_AUC</th>\n",
       "      <td>0.510779</td>\n",
       "      <td>0.500000</td>\n",
       "      <td>0.507211</td>\n",
       "      <td>0.526075</td>\n",
       "      <td>0.506664</td>\n",
       "      <td>0.539737</td>\n",
       "      <td>0.502014</td>\n",
       "      <td>0.516886</td>\n",
       "    </tr>\n",
       "  </tbody>\n",
       "</table>\n",
       "</div>"
      ],
      "text/plain": [
       "           Logistic Regression  Linear SVC  SVC with Kernel  Decision Tree  \\\n",
       "Precision             0.810231    0.419885         0.733360       0.524728   \n",
       "Recall                0.510779    0.500000         0.507211       0.526075   \n",
       "F1 Score              0.479205    0.456454         0.472512       0.525270   \n",
       "Accuracy              0.842380    0.839770         0.840814       0.737474   \n",
       "ROC_AUC               0.510779    0.500000         0.507211       0.526075   \n",
       "\n",
       "           Random Forest  K Nearset Neighbors  Bagging Classifier  \\\n",
       "Precision       0.608289             0.539529            0.586824   \n",
       "Recall          0.506664             0.539737            0.502014   \n",
       "F1 Score        0.474261             0.539631            0.462485   \n",
       "Accuracy        0.837683             0.751566            0.838727   \n",
       "ROC_AUC         0.506664             0.539737            0.502014   \n",
       "\n",
       "           Gradient Boosting  \n",
       "Precision           0.577401  \n",
       "Recall              0.516886  \n",
       "F1 Score            0.501868  \n",
       "Accuracy            0.828288  \n",
       "ROC_AUC             0.516886  "
      ]
     },
     "execution_count": 57,
     "metadata": {},
     "output_type": "execute_result"
    }
   ],
   "source": [
    "print(resample_rep(y_tra))\n",
    "\n",
    "ros_withoutClassWeight = classification_different_models(X_tra, y_tra, X_tes, y_tes, class_weight=None)\n",
    "df1 = satck_res(ros_withoutClassWeight, 'Ignore')\n",
    "ros_withoutClassWeight"
   ]
  },
  {
   "cell_type": "code",
   "execution_count": 58,
   "id": "07d72ef8",
   "metadata": {},
   "outputs": [
    {
     "name": "stdout",
     "output_type": "stream",
     "text": [
      "Best F1 score is obtained by: K Nearset Neighbors\n"
     ]
    },
    {
     "data": {
      "image/png": "[encoded data removed]",
      "text/plain": [
       "<Figure size 432x288 with 2 Axes>"
      ]
     },
     "metadata": {},
     "output_type": "display_data"
    }
   ],
   "source": [
    "print('Best F1 score is obtained by: {}'.format(ros_withoutClassWeight\n",
    "                                                .columns[ros_withoutClassWeight.loc['F1 Score'].argmax()]))\n",
    "\n",
    "y_pred, res = k_neighbors(X_tra, y_tra, X_tes, y_tes, n_neighbors=[1, 3, 5,7, 10, 15, 20, 50])\n",
    "confusion_rep(y_tes, y_pred)\n"
   ]
  },
  {
   "cell_type": "markdown",
   "id": "37c1cf52",
   "metadata": {},
   "source": [
    "Now, we use 'class weight' to tackle the imbalance of the target variable."
   ]
  },
  {
   "cell_type": "code",
   "execution_count": 59,
   "id": "dd194a97",
   "metadata": {
    "scrolled": true
   },
   "outputs": [
    {
     "name": "stdout",
     "output_type": "stream",
     "text": [
      "       No. of Samples\n",
      "Class                \n",
      "0                6436\n",
      "1                1226\n"
     ]
    },
    {
     "data": {
      "text/html": [
       "<div>\n",
       "<style scoped>\n",
       "    .dataframe tbody tr th:only-of-type {\n",
       "        vertical-align: middle;\n",
       "    }\n",
       "\n",
       "    .dataframe tbody tr th {\n",
       "        vertical-align: top;\n",
       "    }\n",
       "\n",
       "    .dataframe thead th {\n",
       "        text-align: right;\n",
       "    }\n",
       "</style>\n",
       "<table border=\"1\" class=\"dataframe\">\n",
       "  <thead>\n",
       "    <tr style=\"text-align: right;\">\n",
       "      <th></th>\n",
       "      <th>Logistic Regression</th>\n",
       "      <th>Linear SVC</th>\n",
       "      <th>SVC with Kernel</th>\n",
       "      <th>Decision Tree</th>\n",
       "      <th>Random Forest</th>\n",
       "      <th>K Nearset Neighbors</th>\n",
       "      <th>Bagging Classifier</th>\n",
       "      <th>Gradient Boosting</th>\n",
       "    </tr>\n",
       "  </thead>\n",
       "  <tbody>\n",
       "    <tr>\n",
       "      <th>Precision</th>\n",
       "      <td>0.740315</td>\n",
       "      <td>0.779067</td>\n",
       "      <td>0.726957</td>\n",
       "      <td>0.518483</td>\n",
       "      <td>0.531143</td>\n",
       "      <td>0.539529</td>\n",
       "      <td>0.519937</td>\n",
       "      <td>0.633509</td>\n",
       "    </tr>\n",
       "    <tr>\n",
       "      <th>Recall</th>\n",
       "      <td>0.527526</td>\n",
       "      <td>0.515044</td>\n",
       "      <td>0.520005</td>\n",
       "      <td>0.520096</td>\n",
       "      <td>0.501082</td>\n",
       "      <td>0.539737</td>\n",
       "      <td>0.500386</td>\n",
       "      <td>0.533483</td>\n",
       "    </tr>\n",
       "    <tr>\n",
       "      <th>F1 Score</th>\n",
       "      <td>0.513604</td>\n",
       "      <td>0.488287</td>\n",
       "      <td>0.499306</td>\n",
       "      <td>0.518964</td>\n",
       "      <td>0.461961</td>\n",
       "      <td>0.539631</td>\n",
       "      <td>0.459171</td>\n",
       "      <td>0.528886</td>\n",
       "    </tr>\n",
       "    <tr>\n",
       "      <th>Accuracy</th>\n",
       "      <td>0.843946</td>\n",
       "      <td>0.842902</td>\n",
       "      <td>0.842380</td>\n",
       "      <td>0.729645</td>\n",
       "      <td>0.837161</td>\n",
       "      <td>0.751566</td>\n",
       "      <td>0.838205</td>\n",
       "      <td>0.834029</td>\n",
       "    </tr>\n",
       "    <tr>\n",
       "      <th>ROC_AUC</th>\n",
       "      <td>0.527526</td>\n",
       "      <td>0.515044</td>\n",
       "      <td>0.520005</td>\n",
       "      <td>0.520096</td>\n",
       "      <td>0.501082</td>\n",
       "      <td>0.539737</td>\n",
       "      <td>0.500386</td>\n",
       "      <td>0.533483</td>\n",
       "    </tr>\n",
       "  </tbody>\n",
       "</table>\n",
       "</div>"
      ],
      "text/plain": [
       "           Logistic Regression  Linear SVC  SVC with Kernel  Decision Tree  \\\n",
       "Precision             0.740315    0.779067         0.726957       0.518483   \n",
       "Recall                0.527526    0.515044         0.520005       0.520096   \n",
       "F1 Score              0.513604    0.488287         0.499306       0.518964   \n",
       "Accuracy              0.843946    0.842902         0.842380       0.729645   \n",
       "ROC_AUC               0.527526    0.515044         0.520005       0.520096   \n",
       "\n",
       "           Random Forest  K Nearset Neighbors  Bagging Classifier  \\\n",
       "Precision       0.531143             0.539529            0.519937   \n",
       "Recall          0.501082             0.539737            0.500386   \n",
       "F1 Score        0.461961             0.539631            0.459171   \n",
       "Accuracy        0.837161             0.751566            0.838205   \n",
       "ROC_AUC         0.501082             0.539737            0.500386   \n",
       "\n",
       "           Gradient Boosting  \n",
       "Precision           0.633509  \n",
       "Recall              0.533483  \n",
       "F1 Score            0.528886  \n",
       "Accuracy            0.834029  \n",
       "ROC_AUC             0.533483  "
      ]
     },
     "execution_count": 59,
     "metadata": {},
     "output_type": "execute_result"
    }
   ],
   "source": [
    "print(resample_rep(y_tra))\n",
    "\n",
    "ros_withCalssWeight = classification_different_models(X_tra, y_tra, X_tes, y_tes, class_weight={1:0.6, 0:0.4})\n",
    "df2 = satck_res(ros_withCalssWeight, 'ClassWeight')\n",
    "ros_withCalssWeight"
   ]
  },
  {
   "cell_type": "markdown",
   "id": "e3c9677d",
   "metadata": {},
   "source": [
    "As one can see, the performances of the classifiers are improved utilizing the 'class-weight' capability in some classifiers."
   ]
  },
  {
   "cell_type": "code",
   "execution_count": 60,
   "id": "321d59fe",
   "metadata": {},
   "outputs": [
    {
     "name": "stdout",
     "output_type": "stream",
     "text": [
      "Best F1 score is obtained by: K Nearset Neighbors\n"
     ]
    },
    {
     "data": {
      "image/png": "[encoded data removed]",
      "text/plain": [
       "<Figure size 432x288 with 2 Axes>"
      ]
     },
     "metadata": {},
     "output_type": "display_data"
    }
   ],
   "source": [
    "print('Best F1 score is obtained by: {}'.format(ros_withCalssWeight\n",
    "                                                .columns[ros_withCalssWeight.loc['F1 Score'].argmax()]))\n",
    "\n",
    "y_pred, res = k_neighbors(X_tra, y_tra, X_tes, y_tes, n_neighbors=[1, 3, 5,7, 10, 15, 20, 50])\n",
    "confusion_rep(y_tes, y_pred)"
   ]
  },
  {
   "cell_type": "markdown",
   "id": "fbf25092",
   "metadata": {},
   "source": [
    "## Over Sampling <a class=\"anchor\" id=\"fifth-bullet\"></a>\n",
    "\n",
    "In this section, we will explore different available oversampling methods and their applications on our dataset."
   ]
  },
  {
   "cell_type": "markdown",
   "id": "38f5add4",
   "metadata": {},
   "source": [
    "### RandomOverSampler <a class=\"anchor\" id=\"51\"></a>\n",
    "\n",
    "One way to fight the imbalance of the classes is to generate new samples in the classes which are under-represented. The most naive strategy is to generate new samples by randomly sampling with replacement the current available samples [imbalanced-learn toolbox]. "
   ]
  },
  {
   "cell_type": "code",
   "execution_count": 61,
   "id": "e96ba3bf",
   "metadata": {
    "scrolled": false
   },
   "outputs": [
    {
     "data": {
      "text/html": [
       "<div>\n",
       "<style scoped>\n",
       "    .dataframe tbody tr th:only-of-type {\n",
       "        vertical-align: middle;\n",
       "    }\n",
       "\n",
       "    .dataframe tbody tr th {\n",
       "        vertical-align: top;\n",
       "    }\n",
       "\n",
       "    .dataframe thead th {\n",
       "        text-align: right;\n",
       "    }\n",
       "</style>\n",
       "<table border=\"1\" class=\"dataframe\">\n",
       "  <thead>\n",
       "    <tr style=\"text-align: right;\">\n",
       "      <th></th>\n",
       "      <th>Logistic Regression</th>\n",
       "      <th>Linear SVC</th>\n",
       "      <th>SVC with Kernel</th>\n",
       "      <th>Decision Tree</th>\n",
       "      <th>Random Forest</th>\n",
       "      <th>K Nearset Neighbors</th>\n",
       "      <th>Bagging Classifier</th>\n",
       "      <th>Gradient Boosting</th>\n",
       "    </tr>\n",
       "  </thead>\n",
       "  <tbody>\n",
       "    <tr>\n",
       "      <th>Precision</th>\n",
       "      <td>0.573979</td>\n",
       "      <td>0.572214</td>\n",
       "      <td>0.571254</td>\n",
       "      <td>0.516546</td>\n",
       "      <td>0.585990</td>\n",
       "      <td>0.539529</td>\n",
       "      <td>0.620514</td>\n",
       "      <td>0.556954</td>\n",
       "    </tr>\n",
       "    <tr>\n",
       "      <th>Recall</th>\n",
       "      <td>0.631696</td>\n",
       "      <td>0.628439</td>\n",
       "      <td>0.624421</td>\n",
       "      <td>0.516849</td>\n",
       "      <td>0.517818</td>\n",
       "      <td>0.539737</td>\n",
       "      <td>0.504650</td>\n",
       "      <td>0.524075</td>\n",
       "    </tr>\n",
       "    <tr>\n",
       "      <th>F1 Score</th>\n",
       "      <td>0.553053</td>\n",
       "      <td>0.551240</td>\n",
       "      <td>0.555200</td>\n",
       "      <td>0.516684</td>\n",
       "      <td>0.502750</td>\n",
       "      <td>0.539631</td>\n",
       "      <td>0.468664</td>\n",
       "      <td>0.520338</td>\n",
       "    </tr>\n",
       "    <tr>\n",
       "      <th>Accuracy</th>\n",
       "      <td>0.640397</td>\n",
       "      <td>0.639353</td>\n",
       "      <td>0.650313</td>\n",
       "      <td>0.737474</td>\n",
       "      <td>0.829854</td>\n",
       "      <td>0.751566</td>\n",
       "      <td>0.838727</td>\n",
       "      <td>0.811587</td>\n",
       "    </tr>\n",
       "    <tr>\n",
       "      <th>ROC_AUC</th>\n",
       "      <td>0.631696</td>\n",
       "      <td>0.628439</td>\n",
       "      <td>0.624421</td>\n",
       "      <td>0.516849</td>\n",
       "      <td>0.517818</td>\n",
       "      <td>0.539737</td>\n",
       "      <td>0.504650</td>\n",
       "      <td>0.524075</td>\n",
       "    </tr>\n",
       "  </tbody>\n",
       "</table>\n",
       "</div>"
      ],
      "text/plain": [
       "           Logistic Regression  Linear SVC  SVC with Kernel  Decision Tree  \\\n",
       "Precision             0.573979    0.572214         0.571254       0.516546   \n",
       "Recall                0.631696    0.628439         0.624421       0.516849   \n",
       "F1 Score              0.553053    0.551240         0.555200       0.516684   \n",
       "Accuracy              0.640397    0.639353         0.650313       0.737474   \n",
       "ROC_AUC               0.631696    0.628439         0.624421       0.516849   \n",
       "\n",
       "           Random Forest  K Nearset Neighbors  Bagging Classifier  \\\n",
       "Precision       0.585990             0.539529            0.620514   \n",
       "Recall          0.517818             0.539737            0.504650   \n",
       "F1 Score        0.502750             0.539631            0.468664   \n",
       "Accuracy        0.829854             0.751566            0.838727   \n",
       "ROC_AUC         0.517818             0.539737            0.504650   \n",
       "\n",
       "           Gradient Boosting  \n",
       "Precision           0.556954  \n",
       "Recall              0.524075  \n",
       "F1 Score            0.520338  \n",
       "Accuracy            0.811587  \n",
       "ROC_AUC             0.524075  "
      ]
     },
     "execution_count": 61,
     "metadata": {},
     "output_type": "execute_result"
    }
   ],
   "source": [
    "ros = RandomOverSampler(random_state=1979)\n",
    "X_tra_re, y_tra_re = ros.fit_resample(X_tra, y_tra)\n",
    "\n",
    "ros_res = classification_different_models(X_tra_re, y_tra_re, X_tes, y_tes, class_weight=None)\n",
    "df3 = satck_res(ros_res, 'RandomOverSampler')\n",
    "ros_res"
   ]
  },
  {
   "cell_type": "markdown",
   "id": "6ee1ffea",
   "metadata": {},
   "source": [
    "In the above table, you can see the obtained results using various classifiers."
   ]
  },
  {
   "cell_type": "markdown",
   "id": "27854fb6",
   "metadata": {},
   "source": [
    "Furthermore, the confusion matrix and the ROC curve are given below."
   ]
  },
  {
   "cell_type": "code",
   "execution_count": 62,
   "id": "f1bde79f",
   "metadata": {},
   "outputs": [
    {
     "name": "stdout",
     "output_type": "stream",
     "text": [
      "Best F1 score is obtained by: SVC with Kernel\n"
     ]
    },
    {
     "data": {
      "image/png": "[encoded data removed]",
      "text/plain": [
       "<Figure size 1080x360 with 3 Axes>"
      ]
     },
     "metadata": {},
     "output_type": "display_data"
    }
   ],
   "source": [
    "print('Best F1 score is obtained by: {}'.format(ros_res.columns[ros_res.loc['F1 Score'].argmax()]))\n",
    "\n",
    "y_pred, y_proba, res = kernel_svc(X_tra_re, y_tra_re, X_tes, y_tes, \n",
    "                                   C_range=np.geomspace(0.1,10,10), class_weight=None)\n",
    "\n",
    "result_rep(y_tes, y_pred, y_proba)"
   ]
  },
  {
   "cell_type": "markdown",
   "id": "4b78e5b7",
   "metadata": {},
   "source": [
    "### ADASYN <a class=\"anchor\" id=\"52\"></a>\n",
    "\n",
    "The Adaptive Synthetic (ADASYN) sampling method is used in this subsection to tackle the imbalance of the classes."
   ]
  },
  {
   "cell_type": "code",
   "execution_count": 63,
   "id": "6c6a739e",
   "metadata": {
    "scrolled": false
   },
   "outputs": [
    {
     "data": {
      "text/html": [
       "<div>\n",
       "<style scoped>\n",
       "    .dataframe tbody tr th:only-of-type {\n",
       "        vertical-align: middle;\n",
       "    }\n",
       "\n",
       "    .dataframe tbody tr th {\n",
       "        vertical-align: top;\n",
       "    }\n",
       "\n",
       "    .dataframe thead th {\n",
       "        text-align: right;\n",
       "    }\n",
       "</style>\n",
       "<table border=\"1\" class=\"dataframe\">\n",
       "  <thead>\n",
       "    <tr style=\"text-align: right;\">\n",
       "      <th></th>\n",
       "      <th>Logistic Regression</th>\n",
       "      <th>Linear SVC</th>\n",
       "      <th>SVC with Kernel</th>\n",
       "      <th>Decision Tree</th>\n",
       "      <th>Random Forest</th>\n",
       "      <th>K Nearset Neighbors</th>\n",
       "      <th>Bagging Classifier</th>\n",
       "      <th>Gradient Boosting</th>\n",
       "    </tr>\n",
       "  </thead>\n",
       "  <tbody>\n",
       "    <tr>\n",
       "      <th>Precision</th>\n",
       "      <td>0.571018</td>\n",
       "      <td>0.571018</td>\n",
       "      <td>0.541619</td>\n",
       "      <td>0.538286</td>\n",
       "      <td>0.545677</td>\n",
       "      <td>0.533983</td>\n",
       "      <td>0.554025</td>\n",
       "      <td>0.532406</td>\n",
       "    </tr>\n",
       "    <tr>\n",
       "      <th>Recall</th>\n",
       "      <td>0.625728</td>\n",
       "      <td>0.625728</td>\n",
       "      <td>0.574745</td>\n",
       "      <td>0.555088</td>\n",
       "      <td>0.540841</td>\n",
       "      <td>0.546956</td>\n",
       "      <td>0.552156</td>\n",
       "      <td>0.539928</td>\n",
       "    </tr>\n",
       "    <tr>\n",
       "      <th>F1 Score</th>\n",
       "      <td>0.551240</td>\n",
       "      <td>0.551240</td>\n",
       "      <td>0.511509</td>\n",
       "      <td>0.536620</td>\n",
       "      <td>0.542683</td>\n",
       "      <td>0.533185</td>\n",
       "      <td>0.553026</td>\n",
       "      <td>0.533592</td>\n",
       "    </tr>\n",
       "    <tr>\n",
       "      <th>Accuracy</th>\n",
       "      <td>0.641441</td>\n",
       "      <td>0.641441</td>\n",
       "      <td>0.602296</td>\n",
       "      <td>0.691023</td>\n",
       "      <td>0.766701</td>\n",
       "      <td>0.697286</td>\n",
       "      <td>0.763570</td>\n",
       "      <td>0.718685</td>\n",
       "    </tr>\n",
       "    <tr>\n",
       "      <th>ROC_AUC</th>\n",
       "      <td>0.625728</td>\n",
       "      <td>0.625728</td>\n",
       "      <td>0.574745</td>\n",
       "      <td>0.555088</td>\n",
       "      <td>0.540841</td>\n",
       "      <td>0.546956</td>\n",
       "      <td>0.552156</td>\n",
       "      <td>0.539928</td>\n",
       "    </tr>\n",
       "  </tbody>\n",
       "</table>\n",
       "</div>"
      ],
      "text/plain": [
       "           Logistic Regression  Linear SVC  SVC with Kernel  Decision Tree  \\\n",
       "Precision             0.571018    0.571018         0.541619       0.538286   \n",
       "Recall                0.625728    0.625728         0.574745       0.555088   \n",
       "F1 Score              0.551240    0.551240         0.511509       0.536620   \n",
       "Accuracy              0.641441    0.641441         0.602296       0.691023   \n",
       "ROC_AUC               0.625728    0.625728         0.574745       0.555088   \n",
       "\n",
       "           Random Forest  K Nearset Neighbors  Bagging Classifier  \\\n",
       "Precision       0.545677             0.533983            0.554025   \n",
       "Recall          0.540841             0.546956            0.552156   \n",
       "F1 Score        0.542683             0.533185            0.553026   \n",
       "Accuracy        0.766701             0.697286            0.763570   \n",
       "ROC_AUC         0.540841             0.546956            0.552156   \n",
       "\n",
       "           Gradient Boosting  \n",
       "Precision           0.532406  \n",
       "Recall              0.539928  \n",
       "F1 Score            0.533592  \n",
       "Accuracy            0.718685  \n",
       "ROC_AUC             0.539928  "
      ]
     },
     "execution_count": 63,
     "metadata": {},
     "output_type": "execute_result"
    }
   ],
   "source": [
    "ada = ADASYN(random_state=1979, n_jobs=-1, n_neighbors=3)\n",
    "X_tra_re, y_tra_re = ada.fit_resample(X_tra, y_tra)\n",
    "\n",
    "ada_res = classification_different_models(X_tra_re, y_tra_re, X_tes, y_tes, class_weight=None)\n",
    "df4 = satck_res(ada_res, 'ADASYN')\n",
    "ada_res"
   ]
  },
  {
   "cell_type": "code",
   "execution_count": 64,
   "id": "c5b6eced",
   "metadata": {},
   "outputs": [
    {
     "name": "stdout",
     "output_type": "stream",
     "text": [
      "Best F1 score is obtained by: Bagging Classifier\n"
     ]
    },
    {
     "data": {
      "image/png": "[encoded data removed]",
      "text/plain": [
       "<Figure size 432x288 with 2 Axes>"
      ]
     },
     "metadata": {},
     "output_type": "display_data"
    }
   ],
   "source": [
    "print('Best F1 score is obtained by: {}'.format(ada_res.columns[ada_res.loc['F1 Score'].argmax()]))\n",
    "\n",
    "y_pred, res = bagging_classifier(X_tra_re, y_tra_re, X_tes, y_tes, n_estimators=[100, 500], \n",
    "                                 max_samples=[0.3, 0.7, 1], max_features=[0.1, 0.3, 0.7, 1], class_weight=None)\n",
    "\n",
    "confusion_rep(y_tes, y_pred)"
   ]
  },
  {
   "cell_type": "markdown",
   "id": "508038f6",
   "metadata": {},
   "source": [
    "### SMOTENC <a class=\"anchor\" id=\"53\"></a>\n",
    "\n",
    "The SMOTENC is an extension of the SMOTE (Synthetic Minority Oversampling Technique) algorithm when we are dealing with mixed data type  (continuous and categorical features)."
   ]
  },
  {
   "cell_type": "code",
   "execution_count": 65,
   "id": "38e88d80",
   "metadata": {},
   "outputs": [
    {
     "data": {
      "text/html": [
       "<div>\n",
       "<style scoped>\n",
       "    .dataframe tbody tr th:only-of-type {\n",
       "        vertical-align: middle;\n",
       "    }\n",
       "\n",
       "    .dataframe tbody tr th {\n",
       "        vertical-align: top;\n",
       "    }\n",
       "\n",
       "    .dataframe thead th {\n",
       "        text-align: right;\n",
       "    }\n",
       "</style>\n",
       "<table border=\"1\" class=\"dataframe\">\n",
       "  <thead>\n",
       "    <tr style=\"text-align: right;\">\n",
       "      <th></th>\n",
       "      <th>Logistic Regression</th>\n",
       "      <th>Linear SVC</th>\n",
       "      <th>SVC with Kernel</th>\n",
       "      <th>Decision Tree</th>\n",
       "      <th>Random Forest</th>\n",
       "      <th>K Nearset Neighbors</th>\n",
       "      <th>Bagging Classifier</th>\n",
       "      <th>Gradient Boosting</th>\n",
       "    </tr>\n",
       "  </thead>\n",
       "  <tbody>\n",
       "    <tr>\n",
       "      <th>Precision</th>\n",
       "      <td>0.535637</td>\n",
       "      <td>0.536176</td>\n",
       "      <td>0.521101</td>\n",
       "      <td>0.529640</td>\n",
       "      <td>0.526851</td>\n",
       "      <td>0.527877</td>\n",
       "      <td>0.524596</td>\n",
       "      <td>0.512738</td>\n",
       "    </tr>\n",
       "    <tr>\n",
       "      <th>Recall</th>\n",
       "      <td>0.562970</td>\n",
       "      <td>0.564513</td>\n",
       "      <td>0.537897</td>\n",
       "      <td>0.544983</td>\n",
       "      <td>0.527554</td>\n",
       "      <td>0.541115</td>\n",
       "      <td>0.525304</td>\n",
       "      <td>0.516258</td>\n",
       "    </tr>\n",
       "    <tr>\n",
       "      <th>F1 Score</th>\n",
       "      <td>0.509589</td>\n",
       "      <td>0.507474</td>\n",
       "      <td>0.487149</td>\n",
       "      <td>0.523509</td>\n",
       "      <td>0.527172</td>\n",
       "      <td>0.523242</td>\n",
       "      <td>0.524913</td>\n",
       "      <td>0.511278</td>\n",
       "    </tr>\n",
       "    <tr>\n",
       "      <th>Accuracy</th>\n",
       "      <td>0.609081</td>\n",
       "      <td>0.602818</td>\n",
       "      <td>0.582463</td>\n",
       "      <td>0.669624</td>\n",
       "      <td>0.742171</td>\n",
       "      <td>0.676409</td>\n",
       "      <td>0.740605</td>\n",
       "      <td>0.698852</td>\n",
       "    </tr>\n",
       "    <tr>\n",
       "      <th>ROC_AUC</th>\n",
       "      <td>0.562970</td>\n",
       "      <td>0.564513</td>\n",
       "      <td>0.537897</td>\n",
       "      <td>0.544983</td>\n",
       "      <td>0.527554</td>\n",
       "      <td>0.541115</td>\n",
       "      <td>0.525304</td>\n",
       "      <td>0.516258</td>\n",
       "    </tr>\n",
       "  </tbody>\n",
       "</table>\n",
       "</div>"
      ],
      "text/plain": [
       "           Logistic Regression  Linear SVC  SVC with Kernel  Decision Tree  \\\n",
       "Precision             0.535637    0.536176         0.521101       0.529640   \n",
       "Recall                0.562970    0.564513         0.537897       0.544983   \n",
       "F1 Score              0.509589    0.507474         0.487149       0.523509   \n",
       "Accuracy              0.609081    0.602818         0.582463       0.669624   \n",
       "ROC_AUC               0.562970    0.564513         0.537897       0.544983   \n",
       "\n",
       "           Random Forest  K Nearset Neighbors  Bagging Classifier  \\\n",
       "Precision       0.526851             0.527877            0.524596   \n",
       "Recall          0.527554             0.541115            0.525304   \n",
       "F1 Score        0.527172             0.523242            0.524913   \n",
       "Accuracy        0.742171             0.676409            0.740605   \n",
       "ROC_AUC         0.527554             0.541115            0.525304   \n",
       "\n",
       "           Gradient Boosting  \n",
       "Precision           0.512738  \n",
       "Recall              0.516258  \n",
       "F1 Score            0.511278  \n",
       "Accuracy            0.698852  \n",
       "ROC_AUC             0.516258  "
      ]
     },
     "execution_count": 65,
     "metadata": {},
     "output_type": "execute_result"
    }
   ],
   "source": [
    "# We need first specify the categorical and numerical features\n",
    "mask = [False, False, False, False, False, False,\n",
    "        True, True, True, True, True, True,\n",
    "        True, True, True, True, True, True]\n",
    "\n",
    "smt = SMOTENC(random_state=1979, k_neighbors=5, n_jobs=-1, categorical_features=mask)\n",
    "X_tra_re, y_tra_re = smt.fit_resample(X_tra, y_tra)\n",
    "\n",
    "smt_res = classification_different_models(X_tra_re, y_tra_re, X_tes, y_tes, class_weight=None)\n",
    "df5 = satck_res(smt_res, 'SMOTENC')\n",
    "smt_res"
   ]
  },
  {
   "cell_type": "code",
   "execution_count": 66,
   "id": "1d4bb118",
   "metadata": {},
   "outputs": [
    {
     "name": "stdout",
     "output_type": "stream",
     "text": [
      "Best F1 score is obtained by: Random Forest\n"
     ]
    },
    {
     "data": {
      "image/png": "[encoded data removed]",
      "text/plain": [
       "<Figure size 432x288 with 2 Axes>"
      ]
     },
     "metadata": {},
     "output_type": "display_data"
    }
   ],
   "source": [
    "print('Best F1 score is obtained by: {}'.format(smt_res.columns[smt_res.loc['F1 Score'].argmax()]))\n",
    "\n",
    "y_pred, res = random_forest(X_tra_re, y_tra_re, X_tes, y_tes, max_depth=np.linspace(3,1000,10, dtype=int),\n",
    "                                n_estimators=[100, 300, 500, 1000], class_weight=None)\n",
    "confusion_rep(y_tes, y_pred)"
   ]
  },
  {
   "cell_type": "markdown",
   "id": "58117693",
   "metadata": {},
   "source": [
    "### K Means SMOTE <a class=\"anchor\" id=\"54\"></a>\n",
    "\n",
    "In this section, we use K Means SMOTE which is based on k-means clustering and SMOTE oversampling to achieve a balanced class distribution.  "
   ]
  },
  {
   "cell_type": "code",
   "execution_count": 67,
   "id": "c460bed2",
   "metadata": {},
   "outputs": [
    {
     "data": {
      "text/html": [
       "<div>\n",
       "<style scoped>\n",
       "    .dataframe tbody tr th:only-of-type {\n",
       "        vertical-align: middle;\n",
       "    }\n",
       "\n",
       "    .dataframe tbody tr th {\n",
       "        vertical-align: top;\n",
       "    }\n",
       "\n",
       "    .dataframe thead th {\n",
       "        text-align: right;\n",
       "    }\n",
       "</style>\n",
       "<table border=\"1\" class=\"dataframe\">\n",
       "  <thead>\n",
       "    <tr style=\"text-align: right;\">\n",
       "      <th></th>\n",
       "      <th>Logistic Regression</th>\n",
       "      <th>Linear SVC</th>\n",
       "      <th>SVC with Kernel</th>\n",
       "      <th>Decision Tree</th>\n",
       "      <th>Random Forest</th>\n",
       "      <th>K Nearset Neighbors</th>\n",
       "      <th>Bagging Classifier</th>\n",
       "      <th>Gradient Boosting</th>\n",
       "    </tr>\n",
       "  </thead>\n",
       "  <tbody>\n",
       "    <tr>\n",
       "      <th>Precision</th>\n",
       "      <td>0.557621</td>\n",
       "      <td>0.554910</td>\n",
       "      <td>0.555293</td>\n",
       "      <td>0.540361</td>\n",
       "      <td>0.582362</td>\n",
       "      <td>0.543108</td>\n",
       "      <td>0.594585</td>\n",
       "      <td>0.537795</td>\n",
       "    </tr>\n",
       "    <tr>\n",
       "      <th>Recall</th>\n",
       "      <td>0.591432</td>\n",
       "      <td>0.589171</td>\n",
       "      <td>0.571644</td>\n",
       "      <td>0.551864</td>\n",
       "      <td>0.552361</td>\n",
       "      <td>0.551340</td>\n",
       "      <td>0.564844</td>\n",
       "      <td>0.532623</td>\n",
       "    </tr>\n",
       "    <tr>\n",
       "      <th>F1 Score</th>\n",
       "      <td>0.553112</td>\n",
       "      <td>0.547538</td>\n",
       "      <td>0.558628</td>\n",
       "      <td>0.541995</td>\n",
       "      <td>0.558534</td>\n",
       "      <td>0.545371</td>\n",
       "      <td>0.572778</td>\n",
       "      <td>0.534293</td>\n",
       "    </tr>\n",
       "    <tr>\n",
       "      <th>Accuracy</th>\n",
       "      <td>0.679019</td>\n",
       "      <td>0.668580</td>\n",
       "      <td>0.725470</td>\n",
       "      <td>0.716597</td>\n",
       "      <td>0.803758</td>\n",
       "      <td>0.731211</td>\n",
       "      <td>0.804802</td>\n",
       "      <td>0.766180</td>\n",
       "    </tr>\n",
       "    <tr>\n",
       "      <th>ROC_AUC</th>\n",
       "      <td>0.591432</td>\n",
       "      <td>0.589171</td>\n",
       "      <td>0.571644</td>\n",
       "      <td>0.551864</td>\n",
       "      <td>0.552361</td>\n",
       "      <td>0.551340</td>\n",
       "      <td>0.564844</td>\n",
       "      <td>0.532623</td>\n",
       "    </tr>\n",
       "  </tbody>\n",
       "</table>\n",
       "</div>"
      ],
      "text/plain": [
       "           Logistic Regression  Linear SVC  SVC with Kernel  Decision Tree  \\\n",
       "Precision             0.557621    0.554910         0.555293       0.540361   \n",
       "Recall                0.591432    0.589171         0.571644       0.551864   \n",
       "F1 Score              0.553112    0.547538         0.558628       0.541995   \n",
       "Accuracy              0.679019    0.668580         0.725470       0.716597   \n",
       "ROC_AUC               0.591432    0.589171         0.571644       0.551864   \n",
       "\n",
       "           Random Forest  K Nearset Neighbors  Bagging Classifier  \\\n",
       "Precision       0.582362             0.543108            0.594585   \n",
       "Recall          0.552361             0.551340            0.564844   \n",
       "F1 Score        0.558534             0.545371            0.572778   \n",
       "Accuracy        0.803758             0.731211            0.804802   \n",
       "ROC_AUC         0.552361             0.551340            0.564844   \n",
       "\n",
       "           Gradient Boosting  \n",
       "Precision           0.537795  \n",
       "Recall              0.532623  \n",
       "F1 Score            0.534293  \n",
       "Accuracy            0.766180  \n",
       "ROC_AUC             0.532623  "
      ]
     },
     "execution_count": 67,
     "metadata": {},
     "output_type": "execute_result"
    }
   ],
   "source": [
    "kms = KMeansSMOTE(n_jobs=-1, random_state=1979, cluster_balance_threshold=0.1)\n",
    "X_tra_re, y_tra_re = kms.fit_resample(X_tra, y_tra)\n",
    "\n",
    "kms_res = classification_different_models(X_tra_re, y_tra_re, X_tes, y_tes, class_weight=None)\n",
    "df6 = satck_res(kms_res, 'KMeansSMOTE')\n",
    "kms_res"
   ]
  },
  {
   "cell_type": "code",
   "execution_count": 68,
   "id": "4b5fef63",
   "metadata": {},
   "outputs": [
    {
     "name": "stdout",
     "output_type": "stream",
     "text": [
      "Best F1 score is obtained by: Bagging Classifier\n"
     ]
    },
    {
     "data": {
      "image/png": "[encoded data removed]",
      "text/plain": [
       "<Figure size 432x288 with 2 Axes>"
      ]
     },
     "metadata": {},
     "output_type": "display_data"
    }
   ],
   "source": [
    "print('Best F1 score is obtained by: {}'.format(kms_res.columns[kms_res.loc['F1 Score'].argmax()]))\n",
    "\n",
    "y_pred, res = bagging_classifier(X_tra_re, y_tra_re, X_tes, y_tes, n_estimators=[100, 500], \n",
    "                                     max_samples=[0.3, 0.7, 1], max_features=[0.1, 0.3, 0.7, 1], class_weight=None)\n",
    " \n",
    "confusion_rep(y_tes, y_pred)"
   ]
  },
  {
   "cell_type": "markdown",
   "id": "7ee06155",
   "metadata": {},
   "source": [
    "### SVMSMOTE <a class=\"anchor\" id=\"55\"></a>\n",
    "\n",
    "Another method for the oversampling is SVMSMOTE. Thsi method is a variant of SMOTE algorithm which use an SVM algorithm to detect sample to use for generating new synthetic samples."
   ]
  },
  {
   "cell_type": "code",
   "execution_count": 69,
   "id": "407d8988",
   "metadata": {},
   "outputs": [
    {
     "data": {
      "text/html": [
       "<div>\n",
       "<style scoped>\n",
       "    .dataframe tbody tr th:only-of-type {\n",
       "        vertical-align: middle;\n",
       "    }\n",
       "\n",
       "    .dataframe tbody tr th {\n",
       "        vertical-align: top;\n",
       "    }\n",
       "\n",
       "    .dataframe thead th {\n",
       "        text-align: right;\n",
       "    }\n",
       "</style>\n",
       "<table border=\"1\" class=\"dataframe\">\n",
       "  <thead>\n",
       "    <tr style=\"text-align: right;\">\n",
       "      <th></th>\n",
       "      <th>Logistic Regression</th>\n",
       "      <th>Linear SVC</th>\n",
       "      <th>SVC with Kernel</th>\n",
       "      <th>Decision Tree</th>\n",
       "      <th>Random Forest</th>\n",
       "      <th>K Nearset Neighbors</th>\n",
       "      <th>Bagging Classifier</th>\n",
       "      <th>Gradient Boosting</th>\n",
       "    </tr>\n",
       "  </thead>\n",
       "  <tbody>\n",
       "    <tr>\n",
       "      <th>Precision</th>\n",
       "      <td>0.600358</td>\n",
       "      <td>0.599220</td>\n",
       "      <td>0.602362</td>\n",
       "      <td>0.519158</td>\n",
       "      <td>0.592800</td>\n",
       "      <td>0.545438</td>\n",
       "      <td>0.584817</td>\n",
       "      <td>0.547818</td>\n",
       "    </tr>\n",
       "    <tr>\n",
       "      <th>Recall</th>\n",
       "      <td>0.642908</td>\n",
       "      <td>0.637487</td>\n",
       "      <td>0.584837</td>\n",
       "      <td>0.526169</td>\n",
       "      <td>0.543308</td>\n",
       "      <td>0.555369</td>\n",
       "      <td>0.536718</td>\n",
       "      <td>0.534970</td>\n",
       "    </tr>\n",
       "    <tr>\n",
       "      <th>F1 Score</th>\n",
       "      <td>0.608925</td>\n",
       "      <td>0.607980</td>\n",
       "      <td>0.591521</td>\n",
       "      <td>0.516604</td>\n",
       "      <td>0.547093</td>\n",
       "      <td>0.547934</td>\n",
       "      <td>0.537822</td>\n",
       "      <td>0.537561</td>\n",
       "    </tr>\n",
       "    <tr>\n",
       "      <th>Accuracy</th>\n",
       "      <td>0.741127</td>\n",
       "      <td>0.745303</td>\n",
       "      <td>0.798539</td>\n",
       "      <td>0.688935</td>\n",
       "      <td>0.817328</td>\n",
       "      <td>0.729123</td>\n",
       "      <td>0.817328</td>\n",
       "      <td>0.783403</td>\n",
       "    </tr>\n",
       "    <tr>\n",
       "      <th>ROC_AUC</th>\n",
       "      <td>0.642908</td>\n",
       "      <td>0.637487</td>\n",
       "      <td>0.584837</td>\n",
       "      <td>0.526169</td>\n",
       "      <td>0.543308</td>\n",
       "      <td>0.555369</td>\n",
       "      <td>0.536718</td>\n",
       "      <td>0.534970</td>\n",
       "    </tr>\n",
       "  </tbody>\n",
       "</table>\n",
       "</div>"
      ],
      "text/plain": [
       "           Logistic Regression  Linear SVC  SVC with Kernel  Decision Tree  \\\n",
       "Precision             0.600358    0.599220         0.602362       0.519158   \n",
       "Recall                0.642908    0.637487         0.584837       0.526169   \n",
       "F1 Score              0.608925    0.607980         0.591521       0.516604   \n",
       "Accuracy              0.741127    0.745303         0.798539       0.688935   \n",
       "ROC_AUC               0.642908    0.637487         0.584837       0.526169   \n",
       "\n",
       "           Random Forest  K Nearset Neighbors  Bagging Classifier  \\\n",
       "Precision       0.592800             0.545438            0.584817   \n",
       "Recall          0.543308             0.555369            0.536718   \n",
       "F1 Score        0.547093             0.547934            0.537822   \n",
       "Accuracy        0.817328             0.729123            0.817328   \n",
       "ROC_AUC         0.543308             0.555369            0.536718   \n",
       "\n",
       "           Gradient Boosting  \n",
       "Precision           0.547818  \n",
       "Recall              0.534970  \n",
       "F1 Score            0.537561  \n",
       "Accuracy            0.783403  \n",
       "ROC_AUC             0.534970  "
      ]
     },
     "execution_count": 69,
     "metadata": {},
     "output_type": "execute_result"
    }
   ],
   "source": [
    "svm_smt = SVMSMOTE(random_state=1979, n_jobs=-1)\n",
    "X_tra_re, y_tra_re = svm_smt.fit_resample(X_tra, y_tra)\n",
    "\n",
    "svm_smt_res = classification_different_models(X_tra_re, y_tra_re, X_tes, y_tes, class_weight=None)\n",
    "df7 = satck_res(svm_smt_res, 'SVMSMOTE')\n",
    "svm_smt_res"
   ]
  },
  {
   "cell_type": "code",
   "execution_count": 70,
   "id": "145bdcde",
   "metadata": {},
   "outputs": [
    {
     "name": "stdout",
     "output_type": "stream",
     "text": [
      "Best F1 score is obtained by: Logistic Regression\n"
     ]
    },
    {
     "data": {
      "image/png": "[encoded data removed]",
      "text/plain": [
       "<Figure size 1080x360 with 3 Axes>"
      ]
     },
     "metadata": {},
     "output_type": "display_data"
    }
   ],
   "source": [
    "print('Best F1 score is obtained by: {}'.format(svm_smt_res.columns[svm_smt_res.loc['F1 Score'].argmax()]))\n",
    "\n",
    "y_pred, y_proba, res = logistic_reg(X_tra_re, y_tra_re, X_tes, y_tes,\n",
    "                                      C_range=np.geomspace(0.1,10,10), class_weight=None)\n",
    "result_rep(y_tes, y_pred, y_proba)"
   ]
  },
  {
   "cell_type": "markdown",
   "id": "0f01673d",
   "metadata": {},
   "source": [
    "### Borderline SMOTE <a class=\"anchor\" id=\"56\"></a>\n",
    "\n",
    "This algorithm is a variant of the original SMOTE algorithm in which Borderline samples will be detected and used to generate new synthetic samples."
   ]
  },
  {
   "cell_type": "code",
   "execution_count": 71,
   "id": "ee8d9ac6",
   "metadata": {},
   "outputs": [
    {
     "data": {
      "text/html": [
       "<div>\n",
       "<style scoped>\n",
       "    .dataframe tbody tr th:only-of-type {\n",
       "        vertical-align: middle;\n",
       "    }\n",
       "\n",
       "    .dataframe tbody tr th {\n",
       "        vertical-align: top;\n",
       "    }\n",
       "\n",
       "    .dataframe thead th {\n",
       "        text-align: right;\n",
       "    }\n",
       "</style>\n",
       "<table border=\"1\" class=\"dataframe\">\n",
       "  <thead>\n",
       "    <tr style=\"text-align: right;\">\n",
       "      <th></th>\n",
       "      <th>Logistic Regression</th>\n",
       "      <th>Linear SVC</th>\n",
       "      <th>SVC with Kernel</th>\n",
       "      <th>Decision Tree</th>\n",
       "      <th>Random Forest</th>\n",
       "      <th>K Nearset Neighbors</th>\n",
       "      <th>Bagging Classifier</th>\n",
       "      <th>Gradient Boosting</th>\n",
       "    </tr>\n",
       "  </thead>\n",
       "  <tbody>\n",
       "    <tr>\n",
       "      <th>Precision</th>\n",
       "      <td>0.574107</td>\n",
       "      <td>0.574999</td>\n",
       "      <td>0.559133</td>\n",
       "      <td>0.518130</td>\n",
       "      <td>0.547544</td>\n",
       "      <td>0.546390</td>\n",
       "      <td>0.558197</td>\n",
       "      <td>0.537187</td>\n",
       "    </tr>\n",
       "    <tr>\n",
       "      <th>Recall</th>\n",
       "      <td>0.628461</td>\n",
       "      <td>0.629704</td>\n",
       "      <td>0.601010</td>\n",
       "      <td>0.526993</td>\n",
       "      <td>0.546027</td>\n",
       "      <td>0.561475</td>\n",
       "      <td>0.557427</td>\n",
       "      <td>0.544975</td>\n",
       "    </tr>\n",
       "    <tr>\n",
       "      <th>F1 Score</th>\n",
       "      <td>0.560295</td>\n",
       "      <td>0.561869</td>\n",
       "      <td>0.545319</td>\n",
       "      <td>0.511258</td>\n",
       "      <td>0.546733</td>\n",
       "      <td>0.548332</td>\n",
       "      <td>0.557803</td>\n",
       "      <td>0.538928</td>\n",
       "    </tr>\n",
       "    <tr>\n",
       "      <th>Accuracy</th>\n",
       "      <td>0.657098</td>\n",
       "      <td>0.659186</td>\n",
       "      <td>0.650835</td>\n",
       "      <td>0.665971</td>\n",
       "      <td>0.759916</td>\n",
       "      <td>0.715031</td>\n",
       "      <td>0.763570</td>\n",
       "      <td>0.724948</td>\n",
       "    </tr>\n",
       "    <tr>\n",
       "      <th>ROC_AUC</th>\n",
       "      <td>0.628461</td>\n",
       "      <td>0.629704</td>\n",
       "      <td>0.601010</td>\n",
       "      <td>0.526993</td>\n",
       "      <td>0.546027</td>\n",
       "      <td>0.561475</td>\n",
       "      <td>0.557427</td>\n",
       "      <td>0.544975</td>\n",
       "    </tr>\n",
       "  </tbody>\n",
       "</table>\n",
       "</div>"
      ],
      "text/plain": [
       "           Logistic Regression  Linear SVC  SVC with Kernel  Decision Tree  \\\n",
       "Precision             0.574107    0.574999         0.559133       0.518130   \n",
       "Recall                0.628461    0.629704         0.601010       0.526993   \n",
       "F1 Score              0.560295    0.561869         0.545319       0.511258   \n",
       "Accuracy              0.657098    0.659186         0.650835       0.665971   \n",
       "ROC_AUC               0.628461    0.629704         0.601010       0.526993   \n",
       "\n",
       "           Random Forest  K Nearset Neighbors  Bagging Classifier  \\\n",
       "Precision       0.547544             0.546390            0.558197   \n",
       "Recall          0.546027             0.561475            0.557427   \n",
       "F1 Score        0.546733             0.548332            0.557803   \n",
       "Accuracy        0.759916             0.715031            0.763570   \n",
       "ROC_AUC         0.546027             0.561475            0.557427   \n",
       "\n",
       "           Gradient Boosting  \n",
       "Precision           0.537187  \n",
       "Recall              0.544975  \n",
       "F1 Score            0.538928  \n",
       "Accuracy            0.724948  \n",
       "ROC_AUC             0.544975  "
      ]
     },
     "execution_count": 71,
     "metadata": {},
     "output_type": "execute_result"
    }
   ],
   "source": [
    "bsmt = BorderlineSMOTE(random_state=1979, n_jobs=-1)\n",
    "X_tra_re, y_tra_re = bsmt.fit_resample(X_tra, y_tra)\n",
    "\n",
    "bsmt_res = classification_different_models(X_tra_re, y_tra_re, X_tes, y_tes, class_weight=None)\n",
    "df8 = satck_res(bsmt_res, 'BorderlineSMOTE')\n",
    "bsmt_res"
   ]
  },
  {
   "cell_type": "code",
   "execution_count": 72,
   "id": "6066c00b",
   "metadata": {},
   "outputs": [
    {
     "name": "stdout",
     "output_type": "stream",
     "text": [
      "Best F1 score is obtained by: Linear SVC\n"
     ]
    },
    {
     "data": {
      "image/png": "[encoded data removed]",
      "text/plain": [
       "<Figure size 432x288 with 2 Axes>"
      ]
     },
     "metadata": {},
     "output_type": "display_data"
    }
   ],
   "source": [
    "print('Best F1 score is obtained by: {}'.format(bsmt_res.columns[bsmt_res.loc['F1 Score'].argmax()]))\n",
    "\n",
    "y_pred, res = linear_svc(X_tra_re, y_tra_re, X_tes, y_tes, \n",
    "                                   C_range=np.geomspace(0.1,10,10), class_weight=None)\n",
    "confusion_rep(y_tes, y_pred)"
   ]
  },
  {
   "cell_type": "markdown",
   "id": "92f7c59a",
   "metadata": {},
   "source": [
    "## Under Sampling <a class=\"anchor\" id=\"sixth-bullet\"></a>\n",
    "\n",
    "In this section, we use another approach to tackle the imbalance of the dataset. Undersampling is a technique to balance uneven datasets by keeping all of the data in the minority class and decreasing the size of the majority class. "
   ]
  },
  {
   "cell_type": "markdown",
   "id": "6c188acb",
   "metadata": {},
   "source": [
    "### RandomUnderSampler <a class=\"anchor\" id=\"61\"></a>\n",
    "\n",
    "Random undersampling involves randomly selecting examples from the majority class and deleting them from the training dataset. In this section, we use this method to resample the tarining set. "
   ]
  },
  {
   "cell_type": "code",
   "execution_count": 73,
   "id": "1490e4d1",
   "metadata": {},
   "outputs": [
    {
     "data": {
      "text/html": [
       "<div>\n",
       "<style scoped>\n",
       "    .dataframe tbody tr th:only-of-type {\n",
       "        vertical-align: middle;\n",
       "    }\n",
       "\n",
       "    .dataframe tbody tr th {\n",
       "        vertical-align: top;\n",
       "    }\n",
       "\n",
       "    .dataframe thead th {\n",
       "        text-align: right;\n",
       "    }\n",
       "</style>\n",
       "<table border=\"1\" class=\"dataframe\">\n",
       "  <thead>\n",
       "    <tr style=\"text-align: right;\">\n",
       "      <th></th>\n",
       "      <th>Logistic Regression</th>\n",
       "      <th>Linear SVC</th>\n",
       "      <th>SVC with Kernel</th>\n",
       "      <th>Decision Tree</th>\n",
       "      <th>Random Forest</th>\n",
       "      <th>K Nearset Neighbors</th>\n",
       "      <th>Bagging Classifier</th>\n",
       "      <th>Gradient Boosting</th>\n",
       "    </tr>\n",
       "  </thead>\n",
       "  <tbody>\n",
       "    <tr>\n",
       "      <th>Precision</th>\n",
       "      <td>0.564086</td>\n",
       "      <td>0.564282</td>\n",
       "      <td>0.572704</td>\n",
       "      <td>0.554488</td>\n",
       "      <td>0.566353</td>\n",
       "      <td>0.544797</td>\n",
       "      <td>0.419885</td>\n",
       "      <td>0.557837</td>\n",
       "    </tr>\n",
       "    <tr>\n",
       "      <th>Recall</th>\n",
       "      <td>0.615623</td>\n",
       "      <td>0.615934</td>\n",
       "      <td>0.628214</td>\n",
       "      <td>0.599700</td>\n",
       "      <td>0.622565</td>\n",
       "      <td>0.581859</td>\n",
       "      <td>0.500000</td>\n",
       "      <td>0.605293</td>\n",
       "    </tr>\n",
       "    <tr>\n",
       "      <th>F1 Score</th>\n",
       "      <td>0.536358</td>\n",
       "      <td>0.536744</td>\n",
       "      <td>0.554368</td>\n",
       "      <td>0.517842</td>\n",
       "      <td>0.523874</td>\n",
       "      <td>0.507275</td>\n",
       "      <td>0.456454</td>\n",
       "      <td>0.524718</td>\n",
       "    </tr>\n",
       "    <tr>\n",
       "      <th>Accuracy</th>\n",
       "      <td>0.620042</td>\n",
       "      <td>0.620564</td>\n",
       "      <td>0.645616</td>\n",
       "      <td>0.595511</td>\n",
       "      <td>0.591858</td>\n",
       "      <td>0.587683</td>\n",
       "      <td>0.839770</td>\n",
       "      <td>0.604906</td>\n",
       "    </tr>\n",
       "    <tr>\n",
       "      <th>ROC_AUC</th>\n",
       "      <td>0.615623</td>\n",
       "      <td>0.615934</td>\n",
       "      <td>0.628214</td>\n",
       "      <td>0.599700</td>\n",
       "      <td>0.622565</td>\n",
       "      <td>0.581859</td>\n",
       "      <td>0.500000</td>\n",
       "      <td>0.605293</td>\n",
       "    </tr>\n",
       "  </tbody>\n",
       "</table>\n",
       "</div>"
      ],
      "text/plain": [
       "           Logistic Regression  Linear SVC  SVC with Kernel  Decision Tree  \\\n",
       "Precision             0.564086    0.564282         0.572704       0.554488   \n",
       "Recall                0.615623    0.615934         0.628214       0.599700   \n",
       "F1 Score              0.536358    0.536744         0.554368       0.517842   \n",
       "Accuracy              0.620042    0.620564         0.645616       0.595511   \n",
       "ROC_AUC               0.615623    0.615934         0.628214       0.599700   \n",
       "\n",
       "           Random Forest  K Nearset Neighbors  Bagging Classifier  \\\n",
       "Precision       0.566353             0.544797            0.419885   \n",
       "Recall          0.622565             0.581859            0.500000   \n",
       "F1 Score        0.523874             0.507275            0.456454   \n",
       "Accuracy        0.591858             0.587683            0.839770   \n",
       "ROC_AUC         0.622565             0.581859            0.500000   \n",
       "\n",
       "           Gradient Boosting  \n",
       "Precision           0.557837  \n",
       "Recall              0.605293  \n",
       "F1 Score            0.524718  \n",
       "Accuracy            0.604906  \n",
       "ROC_AUC             0.605293  "
      ]
     },
     "execution_count": 73,
     "metadata": {},
     "output_type": "execute_result"
    }
   ],
   "source": [
    "rus = RandomUnderSampler(random_state=1979)\n",
    "X_tra_re, y_tra_re = rus.fit_resample(X_tra, y_tra)\n",
    "\n",
    "rus_res = classification_different_models(X_tra_re, y_tra_re, X_tes, y_tes, class_weight=None)\n",
    "df9 = satck_res(rus_res, 'RandomUnderSampler')\n",
    "rus_res"
   ]
  },
  {
   "cell_type": "code",
   "execution_count": 74,
   "id": "cf51a23f",
   "metadata": {},
   "outputs": [
    {
     "name": "stdout",
     "output_type": "stream",
     "text": [
      "Best F1 score is obtained by: SVC with Kernel\n"
     ]
    },
    {
     "data": {
      "image/png": "[encoded data removed]",
      "text/plain": [
       "<Figure size 1080x360 with 3 Axes>"
      ]
     },
     "metadata": {},
     "output_type": "display_data"
    }
   ],
   "source": [
    "print('Best F1 score is obtained by: {}'.format(rus_res.columns[rus_res.loc['F1 Score'].argmax()]))\n",
    "\n",
    "y_pred, y_proba, res = kernel_svc(X_tra_re, y_tra_re, X_tes, y_tes, \n",
    "                         C_range=np.geomspace(0.1,10,10), class_weight=None)\n",
    "\n",
    "result_rep(y_tes, y_pred, y_proba)"
   ]
  },
  {
   "cell_type": "markdown",
   "id": "176aed21",
   "metadata": {},
   "source": [
    "### ClusterCentroids <a class=\"anchor\" id=\"62\"></a>\n",
    "\n",
    "This is another method for undersampling. This method under samples the majority class by replacing a cluster of majority samples by the cluster centroid of a KMeans algorithm. "
   ]
  },
  {
   "cell_type": "code",
   "execution_count": 75,
   "id": "76958ad9",
   "metadata": {},
   "outputs": [
    {
     "data": {
      "text/html": [
       "<div>\n",
       "<style scoped>\n",
       "    .dataframe tbody tr th:only-of-type {\n",
       "        vertical-align: middle;\n",
       "    }\n",
       "\n",
       "    .dataframe tbody tr th {\n",
       "        vertical-align: top;\n",
       "    }\n",
       "\n",
       "    .dataframe thead th {\n",
       "        text-align: right;\n",
       "    }\n",
       "</style>\n",
       "<table border=\"1\" class=\"dataframe\">\n",
       "  <thead>\n",
       "    <tr style=\"text-align: right;\">\n",
       "      <th></th>\n",
       "      <th>Logistic Regression</th>\n",
       "      <th>Linear SVC</th>\n",
       "      <th>SVC with Kernel</th>\n",
       "      <th>Decision Tree</th>\n",
       "      <th>Random Forest</th>\n",
       "      <th>K Nearset Neighbors</th>\n",
       "      <th>Bagging Classifier</th>\n",
       "      <th>Gradient Boosting</th>\n",
       "    </tr>\n",
       "  </thead>\n",
       "  <tbody>\n",
       "    <tr>\n",
       "      <th>Precision</th>\n",
       "      <td>0.525462</td>\n",
       "      <td>0.525631</td>\n",
       "      <td>0.533123</td>\n",
       "      <td>0.507205</td>\n",
       "      <td>0.520589</td>\n",
       "      <td>0.529582</td>\n",
       "      <td>0.525210</td>\n",
       "      <td>0.521062</td>\n",
       "    </tr>\n",
       "    <tr>\n",
       "      <th>Recall</th>\n",
       "      <td>0.547291</td>\n",
       "      <td>0.547602</td>\n",
       "      <td>0.561380</td>\n",
       "      <td>0.512914</td>\n",
       "      <td>0.537527</td>\n",
       "      <td>0.554963</td>\n",
       "      <td>0.543997</td>\n",
       "      <td>0.536228</td>\n",
       "    </tr>\n",
       "    <tr>\n",
       "      <th>F1 Score</th>\n",
       "      <td>0.466836</td>\n",
       "      <td>0.467209</td>\n",
       "      <td>0.462607</td>\n",
       "      <td>0.407294</td>\n",
       "      <td>0.431682</td>\n",
       "      <td>0.468000</td>\n",
       "      <td>0.412413</td>\n",
       "      <td>0.402161</td>\n",
       "    </tr>\n",
       "    <tr>\n",
       "      <th>Accuracy</th>\n",
       "      <td>0.531837</td>\n",
       "      <td>0.532359</td>\n",
       "      <td>0.515658</td>\n",
       "      <td>0.443111</td>\n",
       "      <td>0.473382</td>\n",
       "      <td>0.529228</td>\n",
       "      <td>0.439979</td>\n",
       "      <td>0.426931</td>\n",
       "    </tr>\n",
       "    <tr>\n",
       "      <th>ROC_AUC</th>\n",
       "      <td>0.547291</td>\n",
       "      <td>0.547602</td>\n",
       "      <td>0.561380</td>\n",
       "      <td>0.512914</td>\n",
       "      <td>0.537527</td>\n",
       "      <td>0.554963</td>\n",
       "      <td>0.543997</td>\n",
       "      <td>0.536228</td>\n",
       "    </tr>\n",
       "  </tbody>\n",
       "</table>\n",
       "</div>"
      ],
      "text/plain": [
       "           Logistic Regression  Linear SVC  SVC with Kernel  Decision Tree  \\\n",
       "Precision             0.525462    0.525631         0.533123       0.507205   \n",
       "Recall                0.547291    0.547602         0.561380       0.512914   \n",
       "F1 Score              0.466836    0.467209         0.462607       0.407294   \n",
       "Accuracy              0.531837    0.532359         0.515658       0.443111   \n",
       "ROC_AUC               0.547291    0.547602         0.561380       0.512914   \n",
       "\n",
       "           Random Forest  K Nearset Neighbors  Bagging Classifier  \\\n",
       "Precision       0.520589             0.529582            0.525210   \n",
       "Recall          0.537527             0.554963            0.543997   \n",
       "F1 Score        0.431682             0.468000            0.412413   \n",
       "Accuracy        0.473382             0.529228            0.439979   \n",
       "ROC_AUC         0.537527             0.554963            0.543997   \n",
       "\n",
       "           Gradient Boosting  \n",
       "Precision           0.521062  \n",
       "Recall              0.536228  \n",
       "F1 Score            0.402161  \n",
       "Accuracy            0.426931  \n",
       "ROC_AUC             0.536228  "
      ]
     },
     "execution_count": 75,
     "metadata": {},
     "output_type": "execute_result"
    }
   ],
   "source": [
    "cc = ClusterCentroids(random_state=1979)\n",
    "X_tra_re, y_tra_re = cc.fit_resample(X_tra, y_tra)\n",
    "\n",
    "cc_res = classification_different_models(X_tra_re, y_tra_re, X_tes, y_tes, class_weight=None)\n",
    "df10 = satck_res(cc_res, 'ClusterCentroid')\n",
    "cc_res"
   ]
  },
  {
   "cell_type": "code",
   "execution_count": 76,
   "id": "4714934c",
   "metadata": {},
   "outputs": [
    {
     "name": "stdout",
     "output_type": "stream",
     "text": [
      "Best F1 score is obtained by: K Nearset Neighbors\n"
     ]
    },
    {
     "data": {
      "image/png": "[encoded data removed]",
      "text/plain": [
       "<Figure size 432x288 with 2 Axes>"
      ]
     },
     "metadata": {},
     "output_type": "display_data"
    }
   ],
   "source": [
    "print('Best F1 score is obtained by: {}'.format(cc_res.columns[cc_res.loc['F1 Score'].argmax()]))\n",
    "\n",
    "y_pred, res = linear_svc(X_tra_re, y_tra_re, X_tes, y_tes, \n",
    "                                   C_range=np.geomspace(0.1,10,10), class_weight=None)\n",
    "\n",
    "confusion_rep(y_tes, y_pred)"
   ]
  },
  {
   "cell_type": "markdown",
   "id": "1a44eaec",
   "metadata": {},
   "source": [
    "### NearMiss <a class=\"anchor\" id=\"63\"></a>\n",
    "\n",
    "NearMiss is another under-sampling technique in which the class distribution is balanced by randomly eliminating majority class samples."
   ]
  },
  {
   "cell_type": "code",
   "execution_count": 77,
   "id": "342f706f",
   "metadata": {},
   "outputs": [
    {
     "data": {
      "text/html": [
       "<div>\n",
       "<style scoped>\n",
       "    .dataframe tbody tr th:only-of-type {\n",
       "        vertical-align: middle;\n",
       "    }\n",
       "\n",
       "    .dataframe tbody tr th {\n",
       "        vertical-align: top;\n",
       "    }\n",
       "\n",
       "    .dataframe thead th {\n",
       "        text-align: right;\n",
       "    }\n",
       "</style>\n",
       "<table border=\"1\" class=\"dataframe\">\n",
       "  <thead>\n",
       "    <tr style=\"text-align: right;\">\n",
       "      <th></th>\n",
       "      <th>Logistic Regression</th>\n",
       "      <th>Linear SVC</th>\n",
       "      <th>SVC with Kernel</th>\n",
       "      <th>Decision Tree</th>\n",
       "      <th>Random Forest</th>\n",
       "      <th>K Nearset Neighbors</th>\n",
       "      <th>Bagging Classifier</th>\n",
       "      <th>Gradient Boosting</th>\n",
       "    </tr>\n",
       "  </thead>\n",
       "  <tbody>\n",
       "    <tr>\n",
       "      <th>Precision</th>\n",
       "      <td>0.532431</td>\n",
       "      <td>0.532596</td>\n",
       "      <td>0.533319</td>\n",
       "      <td>0.533319</td>\n",
       "      <td>0.531933</td>\n",
       "      <td>0.532214</td>\n",
       "      <td>0.531956</td>\n",
       "      <td>0.531161</td>\n",
       "    </tr>\n",
       "    <tr>\n",
       "      <th>Recall</th>\n",
       "      <td>0.551699</td>\n",
       "      <td>0.552010</td>\n",
       "      <td>0.553017</td>\n",
       "      <td>0.553017</td>\n",
       "      <td>0.543103</td>\n",
       "      <td>0.556491</td>\n",
       "      <td>0.543650</td>\n",
       "      <td>0.545065</td>\n",
       "    </tr>\n",
       "    <tr>\n",
       "      <th>F1 Score</th>\n",
       "      <td>0.385719</td>\n",
       "      <td>0.386153</td>\n",
       "      <td>0.385917</td>\n",
       "      <td>0.385917</td>\n",
       "      <td>0.341475</td>\n",
       "      <td>0.421569</td>\n",
       "      <td>0.344183</td>\n",
       "      <td>0.357298</td>\n",
       "    </tr>\n",
       "    <tr>\n",
       "      <th>Accuracy</th>\n",
       "      <td>0.399791</td>\n",
       "      <td>0.400313</td>\n",
       "      <td>0.399791</td>\n",
       "      <td>0.399791</td>\n",
       "      <td>0.345511</td>\n",
       "      <td>0.449896</td>\n",
       "      <td>0.348643</td>\n",
       "      <td>0.364301</td>\n",
       "    </tr>\n",
       "    <tr>\n",
       "      <th>ROC_AUC</th>\n",
       "      <td>0.551699</td>\n",
       "      <td>0.552010</td>\n",
       "      <td>0.553017</td>\n",
       "      <td>0.553017</td>\n",
       "      <td>0.543103</td>\n",
       "      <td>0.556491</td>\n",
       "      <td>0.543650</td>\n",
       "      <td>0.545065</td>\n",
       "    </tr>\n",
       "  </tbody>\n",
       "</table>\n",
       "</div>"
      ],
      "text/plain": [
       "           Logistic Regression  Linear SVC  SVC with Kernel  Decision Tree  \\\n",
       "Precision             0.532431    0.532596         0.533319       0.533319   \n",
       "Recall                0.551699    0.552010         0.553017       0.553017   \n",
       "F1 Score              0.385719    0.386153         0.385917       0.385917   \n",
       "Accuracy              0.399791    0.400313         0.399791       0.399791   \n",
       "ROC_AUC               0.551699    0.552010         0.553017       0.553017   \n",
       "\n",
       "           Random Forest  K Nearset Neighbors  Bagging Classifier  \\\n",
       "Precision       0.531933             0.532214            0.531956   \n",
       "Recall          0.543103             0.556491            0.543650   \n",
       "F1 Score        0.341475             0.421569            0.344183   \n",
       "Accuracy        0.345511             0.449896            0.348643   \n",
       "ROC_AUC         0.543103             0.556491            0.543650   \n",
       "\n",
       "           Gradient Boosting  \n",
       "Precision           0.531161  \n",
       "Recall              0.545065  \n",
       "F1 Score            0.357298  \n",
       "Accuracy            0.364301  \n",
       "ROC_AUC             0.545065  "
      ]
     },
     "execution_count": 77,
     "metadata": {},
     "output_type": "execute_result"
    }
   ],
   "source": [
    "nm = NearMiss(n_jobs=-1, n_neighbors=10)\n",
    "X_tra_re, y_tra_re = nm.fit_resample(X_tra, y_tra)\n",
    "\n",
    "nm_res = classification_different_models(X_tra_re, y_tra_re, X_tes, y_tes, class_weight=None)\n",
    "df11 = satck_res(nm_res, 'NearMiss')\n",
    "nm_res"
   ]
  },
  {
   "cell_type": "code",
   "execution_count": 78,
   "id": "0ec42d04",
   "metadata": {},
   "outputs": [
    {
     "name": "stdout",
     "output_type": "stream",
     "text": [
      "Best F1 score is obtained by: K Nearset Neighbors\n"
     ]
    },
    {
     "data": {
      "image/png": "[encoded data removed]",
      "text/plain": [
       "<Figure size 432x288 with 2 Axes>"
      ]
     },
     "metadata": {},
     "output_type": "display_data"
    }
   ],
   "source": [
    "print('Best F1 score is obtained by: {}'.format(nm_res.columns[nm_res.loc['F1 Score'].argmax()]))\n",
    "\n",
    "y_pred, res = k_neighbors(X_tra_re, y_tra_re, X_tes, y_tes, n_neighbors=[1, 3, 5,7, 10, 15, 20, 50])\n",
    "confusion_rep(y_tes, y_pred)"
   ]
  },
  {
   "cell_type": "markdown",
   "id": "e599c511",
   "metadata": {},
   "source": [
    "### TomekLinks <a class=\"anchor\" id=\"64\"></a>\n",
    "\n",
    "TomekLinks is another technique for undersampling in which under-sampling is carried out by removing Tomek's links (pairs of instances of opposite classes who are their own nearest neighbors). "
   ]
  },
  {
   "cell_type": "code",
   "execution_count": 79,
   "id": "774391a0",
   "metadata": {},
   "outputs": [
    {
     "data": {
      "text/html": [
       "<div>\n",
       "<style scoped>\n",
       "    .dataframe tbody tr th:only-of-type {\n",
       "        vertical-align: middle;\n",
       "    }\n",
       "\n",
       "    .dataframe tbody tr th {\n",
       "        vertical-align: top;\n",
       "    }\n",
       "\n",
       "    .dataframe thead th {\n",
       "        text-align: right;\n",
       "    }\n",
       "</style>\n",
       "<table border=\"1\" class=\"dataframe\">\n",
       "  <thead>\n",
       "    <tr style=\"text-align: right;\">\n",
       "      <th></th>\n",
       "      <th>Logistic Regression</th>\n",
       "      <th>Linear SVC</th>\n",
       "      <th>SVC with Kernel</th>\n",
       "      <th>Decision Tree</th>\n",
       "      <th>Random Forest</th>\n",
       "      <th>K Nearset Neighbors</th>\n",
       "      <th>Bagging Classifier</th>\n",
       "      <th>Gradient Boosting</th>\n",
       "    </tr>\n",
       "  </thead>\n",
       "  <tbody>\n",
       "    <tr>\n",
       "      <th>Precision</th>\n",
       "      <td>0.754814</td>\n",
       "      <td>0.670063</td>\n",
       "      <td>0.702829</td>\n",
       "      <td>0.512190</td>\n",
       "      <td>0.569006</td>\n",
       "      <td>0.537878</td>\n",
       "      <td>0.545168</td>\n",
       "      <td>0.583543</td>\n",
       "    </tr>\n",
       "    <tr>\n",
       "      <th>Recall</th>\n",
       "      <td>0.511786</td>\n",
       "      <td>0.501318</td>\n",
       "      <td>0.512483</td>\n",
       "      <td>0.513345</td>\n",
       "      <td>0.507125</td>\n",
       "      <td>0.542586</td>\n",
       "      <td>0.502089</td>\n",
       "      <td>0.524247</td>\n",
       "    </tr>\n",
       "    <tr>\n",
       "      <th>F1 Score</th>\n",
       "      <td>0.481953</td>\n",
       "      <td>0.459665</td>\n",
       "      <td>0.484404</td>\n",
       "      <td>0.512403</td>\n",
       "      <td>0.478498</td>\n",
       "      <td>0.539477</td>\n",
       "      <td>0.464856</td>\n",
       "      <td>0.516342</td>\n",
       "    </tr>\n",
       "    <tr>\n",
       "      <th>Accuracy</th>\n",
       "      <td>0.841858</td>\n",
       "      <td>0.839770</td>\n",
       "      <td>0.840814</td>\n",
       "      <td>0.724948</td>\n",
       "      <td>0.834029</td>\n",
       "      <td>0.736430</td>\n",
       "      <td>0.836639</td>\n",
       "      <td>0.825157</td>\n",
       "    </tr>\n",
       "    <tr>\n",
       "      <th>ROC_AUC</th>\n",
       "      <td>0.511786</td>\n",
       "      <td>0.501318</td>\n",
       "      <td>0.512483</td>\n",
       "      <td>0.513345</td>\n",
       "      <td>0.507125</td>\n",
       "      <td>0.542586</td>\n",
       "      <td>0.502089</td>\n",
       "      <td>0.524247</td>\n",
       "    </tr>\n",
       "  </tbody>\n",
       "</table>\n",
       "</div>"
      ],
      "text/plain": [
       "           Logistic Regression  Linear SVC  SVC with Kernel  Decision Tree  \\\n",
       "Precision             0.754814    0.670063         0.702829       0.512190   \n",
       "Recall                0.511786    0.501318         0.512483       0.513345   \n",
       "F1 Score              0.481953    0.459665         0.484404       0.512403   \n",
       "Accuracy              0.841858    0.839770         0.840814       0.724948   \n",
       "ROC_AUC               0.511786    0.501318         0.512483       0.513345   \n",
       "\n",
       "           Random Forest  K Nearset Neighbors  Bagging Classifier  \\\n",
       "Precision       0.569006             0.537878            0.545168   \n",
       "Recall          0.507125             0.542586            0.502089   \n",
       "F1 Score        0.478498             0.539477            0.464856   \n",
       "Accuracy        0.834029             0.736430            0.836639   \n",
       "ROC_AUC         0.507125             0.542586            0.502089   \n",
       "\n",
       "           Gradient Boosting  \n",
       "Precision           0.583543  \n",
       "Recall              0.524247  \n",
       "F1 Score            0.516342  \n",
       "Accuracy            0.825157  \n",
       "ROC_AUC             0.524247  "
      ]
     },
     "execution_count": 79,
     "metadata": {},
     "output_type": "execute_result"
    }
   ],
   "source": [
    "tl = TomekLinks(n_jobs=-1)\n",
    "X_tra_re, y_tra_re = tl.fit_resample(X_tra, y_tra)\n",
    "\n",
    "tl_res = classification_different_models(X_tra_re, y_tra_re, X_tes, y_tes, class_weight=None)\n",
    "df12 = satck_res(tl_res, 'TomekLinks')\n",
    "tl_res"
   ]
  },
  {
   "cell_type": "code",
   "execution_count": 80,
   "id": "6335fac7",
   "metadata": {},
   "outputs": [
    {
     "name": "stdout",
     "output_type": "stream",
     "text": [
      "Best F1 score is obtained by: K Nearset Neighbors\n"
     ]
    },
    {
     "data": {
      "image/png": "[encoded data removed]",
      "text/plain": [
       "<Figure size 432x288 with 2 Axes>"
      ]
     },
     "metadata": {},
     "output_type": "display_data"
    }
   ],
   "source": [
    "print('Best F1 score is obtained by: {}'.format(tl_res.columns[tl_res.loc['F1 Score'].argmax()]))\n",
    "\n",
    "y_pred, res = k_neighbors(X_tra_re, y_tra_re, X_tes, y_tes, n_neighbors=[1, 3, 5,7, 10, 15, 20, 50])\n",
    "confusion_rep(y_tes, y_pred)"
   ]
  },
  {
   "cell_type": "markdown",
   "id": "4e944069",
   "metadata": {},
   "source": [
    "### EditedNearestNeighbours <a class=\"anchor\" id=\"65\"></a>\n",
    "\n",
    "This is another technique for undersampling where the dataset is cleaned by removing samples close to the decision boundary. "
   ]
  },
  {
   "cell_type": "code",
   "execution_count": 81,
   "id": "d5a8f7e3",
   "metadata": {},
   "outputs": [
    {
     "data": {
      "text/html": [
       "<div>\n",
       "<style scoped>\n",
       "    .dataframe tbody tr th:only-of-type {\n",
       "        vertical-align: middle;\n",
       "    }\n",
       "\n",
       "    .dataframe tbody tr th {\n",
       "        vertical-align: top;\n",
       "    }\n",
       "\n",
       "    .dataframe thead th {\n",
       "        text-align: right;\n",
       "    }\n",
       "</style>\n",
       "<table border=\"1\" class=\"dataframe\">\n",
       "  <thead>\n",
       "    <tr style=\"text-align: right;\">\n",
       "      <th></th>\n",
       "      <th>Logistic Regression</th>\n",
       "      <th>Linear SVC</th>\n",
       "      <th>SVC with Kernel</th>\n",
       "      <th>Decision Tree</th>\n",
       "      <th>Random Forest</th>\n",
       "      <th>K Nearset Neighbors</th>\n",
       "      <th>Bagging Classifier</th>\n",
       "      <th>Gradient Boosting</th>\n",
       "    </tr>\n",
       "  </thead>\n",
       "  <tbody>\n",
       "    <tr>\n",
       "      <th>Precision</th>\n",
       "      <td>0.612339</td>\n",
       "      <td>0.610662</td>\n",
       "      <td>0.635955</td>\n",
       "      <td>0.537411</td>\n",
       "      <td>0.604348</td>\n",
       "      <td>0.550298</td>\n",
       "      <td>0.612781</td>\n",
       "      <td>0.587263</td>\n",
       "    </tr>\n",
       "    <tr>\n",
       "      <th>Recall</th>\n",
       "      <td>0.582834</td>\n",
       "      <td>0.574155</td>\n",
       "      <td>0.593624</td>\n",
       "      <td>0.557391</td>\n",
       "      <td>0.583755</td>\n",
       "      <td>0.580181</td>\n",
       "      <td>0.572763</td>\n",
       "      <td>0.592015</td>\n",
       "    </tr>\n",
       "    <tr>\n",
       "      <th>F1 Score</th>\n",
       "      <td>0.592371</td>\n",
       "      <td>0.584121</td>\n",
       "      <td>0.606567</td>\n",
       "      <td>0.531910</td>\n",
       "      <td>0.591251</td>\n",
       "      <td>0.543967</td>\n",
       "      <td>0.583029</td>\n",
       "      <td>0.589448</td>\n",
       "    </tr>\n",
       "    <tr>\n",
       "      <th>Accuracy</th>\n",
       "      <td>0.808455</td>\n",
       "      <td>0.811587</td>\n",
       "      <td>0.819937</td>\n",
       "      <td>0.672756</td>\n",
       "      <td>0.801148</td>\n",
       "      <td>0.671190</td>\n",
       "      <td>0.813674</td>\n",
       "      <td>0.772965</td>\n",
       "    </tr>\n",
       "    <tr>\n",
       "      <th>ROC_AUC</th>\n",
       "      <td>0.582834</td>\n",
       "      <td>0.574155</td>\n",
       "      <td>0.593624</td>\n",
       "      <td>0.557391</td>\n",
       "      <td>0.583755</td>\n",
       "      <td>0.580181</td>\n",
       "      <td>0.572763</td>\n",
       "      <td>0.592015</td>\n",
       "    </tr>\n",
       "  </tbody>\n",
       "</table>\n",
       "</div>"
      ],
      "text/plain": [
       "           Logistic Regression  Linear SVC  SVC with Kernel  Decision Tree  \\\n",
       "Precision             0.612339    0.610662         0.635955       0.537411   \n",
       "Recall                0.582834    0.574155         0.593624       0.557391   \n",
       "F1 Score              0.592371    0.584121         0.606567       0.531910   \n",
       "Accuracy              0.808455    0.811587         0.819937       0.672756   \n",
       "ROC_AUC               0.582834    0.574155         0.593624       0.557391   \n",
       "\n",
       "           Random Forest  K Nearset Neighbors  Bagging Classifier  \\\n",
       "Precision       0.604348             0.550298            0.612781   \n",
       "Recall          0.583755             0.580181            0.572763   \n",
       "F1 Score        0.591251             0.543967            0.583029   \n",
       "Accuracy        0.801148             0.671190            0.813674   \n",
       "ROC_AUC         0.583755             0.580181            0.572763   \n",
       "\n",
       "           Gradient Boosting  \n",
       "Precision           0.587263  \n",
       "Recall              0.592015  \n",
       "F1 Score            0.589448  \n",
       "Accuracy            0.772965  \n",
       "ROC_AUC             0.592015  "
      ]
     },
     "execution_count": 81,
     "metadata": {},
     "output_type": "execute_result"
    }
   ],
   "source": [
    "enn = EditedNearestNeighbours(n_jobs=-1)\n",
    "X_tra_re, y_tra_re = enn.fit_resample(X_tra, y_tra)\n",
    "\n",
    "enn_res = classification_different_models(X_tra_re, y_tra_re, X_tes, y_tes, class_weight=None)\n",
    "df13 = satck_res(enn_res, 'EditedNearestNeighbours')\n",
    "enn_res"
   ]
  },
  {
   "cell_type": "code",
   "execution_count": 82,
   "id": "b2ddbcda",
   "metadata": {},
   "outputs": [
    {
     "name": "stdout",
     "output_type": "stream",
     "text": [
      "Best F1 score is obtained by: SVC with Kernel\n"
     ]
    },
    {
     "data": {
      "image/png": "[encoded data removed]",
      "text/plain": [
       "<Figure size 432x288 with 2 Axes>"
      ]
     },
     "metadata": {},
     "output_type": "display_data"
    }
   ],
   "source": [
    "print('Best F1 score is obtained by: {}'.format(enn_res.columns[enn_res.loc['F1 Score'].argmax()]))\n",
    "\n",
    "y_pred, res = k_neighbors(X_tra_re, y_tra_re, X_tes, y_tes, n_neighbors=[1, 3, 5,7, 10, 15, 20, 50])\n",
    "confusion_rep(y_tes, y_pred)"
   ]
  },
  {
   "cell_type": "markdown",
   "id": "12ed7190",
   "metadata": {},
   "source": [
    "## Combination of Over- and Under-Sampling Methods <a class=\"anchor\" id=\"seventh-bullet\"></a>"
   ]
  },
  {
   "cell_type": "markdown",
   "id": "c3df6e50",
   "metadata": {},
   "source": [
    "### SMOTETomek <a class=\"anchor\" id=\"71\"></a>\n",
    "\n",
    "This is a technique that combines both undersampling (using Tomek's Links) and oversampling (using SMOTE) to address the issue of the imbalance of the dataset. "
   ]
  },
  {
   "cell_type": "code",
   "execution_count": 83,
   "id": "243a4738",
   "metadata": {
    "scrolled": true
   },
   "outputs": [
    {
     "data": {
      "text/html": [
       "<div>\n",
       "<style scoped>\n",
       "    .dataframe tbody tr th:only-of-type {\n",
       "        vertical-align: middle;\n",
       "    }\n",
       "\n",
       "    .dataframe tbody tr th {\n",
       "        vertical-align: top;\n",
       "    }\n",
       "\n",
       "    .dataframe thead th {\n",
       "        text-align: right;\n",
       "    }\n",
       "</style>\n",
       "<table border=\"1\" class=\"dataframe\">\n",
       "  <thead>\n",
       "    <tr style=\"text-align: right;\">\n",
       "      <th></th>\n",
       "      <th>Logistic Regression</th>\n",
       "      <th>Linear SVC</th>\n",
       "      <th>SVC with Kernel</th>\n",
       "      <th>Decision Tree</th>\n",
       "      <th>Random Forest</th>\n",
       "      <th>K Nearset Neighbors</th>\n",
       "      <th>Bagging Classifier</th>\n",
       "      <th>Gradient Boosting</th>\n",
       "    </tr>\n",
       "  </thead>\n",
       "  <tbody>\n",
       "    <tr>\n",
       "      <th>Precision</th>\n",
       "      <td>0.568739</td>\n",
       "      <td>0.568941</td>\n",
       "      <td>0.547212</td>\n",
       "      <td>0.524684</td>\n",
       "      <td>0.567097</td>\n",
       "      <td>0.542102</td>\n",
       "      <td>0.555767</td>\n",
       "      <td>0.539951</td>\n",
       "    </tr>\n",
       "    <tr>\n",
       "      <th>Recall</th>\n",
       "      <td>0.623156</td>\n",
       "      <td>0.623467</td>\n",
       "      <td>0.582836</td>\n",
       "      <td>0.538532</td>\n",
       "      <td>0.564414</td>\n",
       "      <td>0.558667</td>\n",
       "      <td>0.555177</td>\n",
       "      <td>0.549314</td>\n",
       "    </tr>\n",
       "    <tr>\n",
       "      <th>F1 Score</th>\n",
       "      <td>0.544611</td>\n",
       "      <td>0.545000</td>\n",
       "      <td>0.525280</td>\n",
       "      <td>0.515459</td>\n",
       "      <td>0.565662</td>\n",
       "      <td>0.542239</td>\n",
       "      <td>0.555466</td>\n",
       "      <td>0.541879</td>\n",
       "    </tr>\n",
       "    <tr>\n",
       "      <th>Accuracy</th>\n",
       "      <td>0.630480</td>\n",
       "      <td>0.631002</td>\n",
       "      <td>0.624739</td>\n",
       "      <td>0.656576</td>\n",
       "      <td>0.770877</td>\n",
       "      <td>0.701461</td>\n",
       "      <td>0.762004</td>\n",
       "      <td>0.723382</td>\n",
       "    </tr>\n",
       "    <tr>\n",
       "      <th>ROC_AUC</th>\n",
       "      <td>0.623156</td>\n",
       "      <td>0.623467</td>\n",
       "      <td>0.582836</td>\n",
       "      <td>0.538532</td>\n",
       "      <td>0.564414</td>\n",
       "      <td>0.558667</td>\n",
       "      <td>0.555177</td>\n",
       "      <td>0.549314</td>\n",
       "    </tr>\n",
       "  </tbody>\n",
       "</table>\n",
       "</div>"
      ],
      "text/plain": [
       "           Logistic Regression  Linear SVC  SVC with Kernel  Decision Tree  \\\n",
       "Precision             0.568739    0.568941         0.547212       0.524684   \n",
       "Recall                0.623156    0.623467         0.582836       0.538532   \n",
       "F1 Score              0.544611    0.545000         0.525280       0.515459   \n",
       "Accuracy              0.630480    0.631002         0.624739       0.656576   \n",
       "ROC_AUC               0.623156    0.623467         0.582836       0.538532   \n",
       "\n",
       "           Random Forest  K Nearset Neighbors  Bagging Classifier  \\\n",
       "Precision       0.567097             0.542102            0.555767   \n",
       "Recall          0.564414             0.558667            0.555177   \n",
       "F1 Score        0.565662             0.542239            0.555466   \n",
       "Accuracy        0.770877             0.701461            0.762004   \n",
       "ROC_AUC         0.564414             0.558667            0.555177   \n",
       "\n",
       "           Gradient Boosting  \n",
       "Precision           0.539951  \n",
       "Recall              0.549314  \n",
       "F1 Score            0.541879  \n",
       "Accuracy            0.723382  \n",
       "ROC_AUC             0.549314  "
      ]
     },
     "execution_count": 83,
     "metadata": {},
     "output_type": "execute_result"
    }
   ],
   "source": [
    "smt_tom = SMOTETomek(random_state=1979, n_jobs=-1)\n",
    "X_tra_re, y_tra_re = smt_tom.fit_resample(X_tra, y_tra)\n",
    "\n",
    "smt_tom_res = classification_different_models(X_tra_re, y_tra_re, X_tes, y_tes, class_weight=None)\n",
    "df14 = satck_res(smt_tom_res, 'SMOTETomek')\n",
    "smt_tom_res"
   ]
  },
  {
   "cell_type": "code",
   "execution_count": 84,
   "id": "414bd86c",
   "metadata": {},
   "outputs": [
    {
     "name": "stdout",
     "output_type": "stream",
     "text": [
      "Best F1 score is obtained by: Random Forest\n"
     ]
    },
    {
     "data": {
      "image/png": "[encoded data removed]",
      "text/plain": [
       "<Figure size 432x288 with 2 Axes>"
      ]
     },
     "metadata": {},
     "output_type": "display_data"
    }
   ],
   "source": [
    "print('Best F1 score is obtained by: {}'.format(smt_tom_res.columns[smt_tom_res.loc['F1 Score'].argmax()]))\n",
    "\n",
    "y_pred, res = random_forest(X_tra_re, y_tra_re, X_tes, y_tes, max_depth=np.linspace(3,1000,10, dtype=int),\n",
    "                                n_estimators=[100, 300, 500, 1000], class_weight=None)\n",
    "confusion_rep(y_tes, y_pred)"
   ]
  },
  {
   "cell_type": "markdown",
   "id": "240fd3b3",
   "metadata": {},
   "source": [
    "### SMOTEENN <a class=\"anchor\" id=\"72\"></a>\n",
    "\n",
    "This is a method that combines over- and under-sampling techniques using SMOTE and Edited Nearest Neighbours."
   ]
  },
  {
   "cell_type": "code",
   "execution_count": 85,
   "id": "24d901bd",
   "metadata": {},
   "outputs": [
    {
     "data": {
      "text/html": [
       "<div>\n",
       "<style scoped>\n",
       "    .dataframe tbody tr th:only-of-type {\n",
       "        vertical-align: middle;\n",
       "    }\n",
       "\n",
       "    .dataframe tbody tr th {\n",
       "        vertical-align: top;\n",
       "    }\n",
       "\n",
       "    .dataframe thead th {\n",
       "        text-align: right;\n",
       "    }\n",
       "</style>\n",
       "<table border=\"1\" class=\"dataframe\">\n",
       "  <thead>\n",
       "    <tr style=\"text-align: right;\">\n",
       "      <th></th>\n",
       "      <th>Logistic Regression</th>\n",
       "      <th>Linear SVC</th>\n",
       "      <th>SVC with Kernel</th>\n",
       "      <th>Decision Tree</th>\n",
       "      <th>Random Forest</th>\n",
       "      <th>K Nearset Neighbors</th>\n",
       "      <th>Bagging Classifier</th>\n",
       "      <th>Gradient Boosting</th>\n",
       "    </tr>\n",
       "  </thead>\n",
       "  <tbody>\n",
       "    <tr>\n",
       "      <th>Precision</th>\n",
       "      <td>0.562818</td>\n",
       "      <td>0.561673</td>\n",
       "      <td>0.558397</td>\n",
       "      <td>0.535658</td>\n",
       "      <td>0.560370</td>\n",
       "      <td>0.543152</td>\n",
       "      <td>0.553047</td>\n",
       "      <td>0.549686</td>\n",
       "    </tr>\n",
       "    <tr>\n",
       "      <th>Recall</th>\n",
       "      <td>0.609080</td>\n",
       "      <td>0.606594</td>\n",
       "      <td>0.603434</td>\n",
       "      <td>0.563506</td>\n",
       "      <td>0.608798</td>\n",
       "      <td>0.577767</td>\n",
       "      <td>0.598049</td>\n",
       "      <td>0.590399</td>\n",
       "    </tr>\n",
       "    <tr>\n",
       "      <th>F1 Score</th>\n",
       "      <td>0.446985</td>\n",
       "      <td>0.443634</td>\n",
       "      <td>0.452874</td>\n",
       "      <td>0.507278</td>\n",
       "      <td>0.532413</td>\n",
       "      <td>0.512000</td>\n",
       "      <td>0.507729</td>\n",
       "      <td>0.515428</td>\n",
       "    </tr>\n",
       "    <tr>\n",
       "      <th>Accuracy</th>\n",
       "      <td>0.471816</td>\n",
       "      <td>0.467641</td>\n",
       "      <td>0.482255</td>\n",
       "      <td>0.603340</td>\n",
       "      <td>0.617432</td>\n",
       "      <td>0.600731</td>\n",
       "      <td>0.577244</td>\n",
       "      <td>0.597599</td>\n",
       "    </tr>\n",
       "    <tr>\n",
       "      <th>ROC_AUC</th>\n",
       "      <td>0.609080</td>\n",
       "      <td>0.606594</td>\n",
       "      <td>0.603434</td>\n",
       "      <td>0.563506</td>\n",
       "      <td>0.608798</td>\n",
       "      <td>0.577767</td>\n",
       "      <td>0.598049</td>\n",
       "      <td>0.590399</td>\n",
       "    </tr>\n",
       "  </tbody>\n",
       "</table>\n",
       "</div>"
      ],
      "text/plain": [
       "           Logistic Regression  Linear SVC  SVC with Kernel  Decision Tree  \\\n",
       "Precision             0.562818    0.561673         0.558397       0.535658   \n",
       "Recall                0.609080    0.606594         0.603434       0.563506   \n",
       "F1 Score              0.446985    0.443634         0.452874       0.507278   \n",
       "Accuracy              0.471816    0.467641         0.482255       0.603340   \n",
       "ROC_AUC               0.609080    0.606594         0.603434       0.563506   \n",
       "\n",
       "           Random Forest  K Nearset Neighbors  Bagging Classifier  \\\n",
       "Precision       0.560370             0.543152            0.553047   \n",
       "Recall          0.608798             0.577767            0.598049   \n",
       "F1 Score        0.532413             0.512000            0.507729   \n",
       "Accuracy        0.617432             0.600731            0.577244   \n",
       "ROC_AUC         0.608798             0.577767            0.598049   \n",
       "\n",
       "           Gradient Boosting  \n",
       "Precision           0.549686  \n",
       "Recall              0.590399  \n",
       "F1 Score            0.515428  \n",
       "Accuracy            0.597599  \n",
       "ROC_AUC             0.590399  "
      ]
     },
     "execution_count": 85,
     "metadata": {},
     "output_type": "execute_result"
    }
   ],
   "source": [
    "smt_enn = SMOTEENN(random_state=1979, n_jobs=-1)\n",
    "X_tra_re, y_tra_re = smt_enn.fit_resample(X_tra, y_tra)\n",
    "\n",
    "smt_enn = classification_different_models(X_tra_re, y_tra_re, X_tes, y_tes, class_weight=None)\n",
    "df15 = satck_res(smt_enn, 'SMOTEENN')\n",
    "smt_enn"
   ]
  },
  {
   "cell_type": "code",
   "execution_count": 86,
   "id": "92af35ea",
   "metadata": {},
   "outputs": [
    {
     "name": "stdout",
     "output_type": "stream",
     "text": [
      "Best F1 score is obtained by: Random Forest\n"
     ]
    },
    {
     "data": {
      "image/png": "[encoded data removed]",
      "text/plain": [
       "<Figure size 432x288 with 2 Axes>"
      ]
     },
     "metadata": {},
     "output_type": "display_data"
    }
   ],
   "source": [
    "print('Best F1 score is obtained by: {}'.format(smt_enn.columns[smt_enn.loc['F1 Score'].argmax()]))\n",
    "\n",
    "y_pred, res = random_forest(X_tra_re, y_tra_re, X_tes, y_tes, max_depth=np.linspace(3,1000,10, dtype=int),\n",
    "                                n_estimators=[100, 300, 500, 1000], class_weight=None)\n",
    "confusion_rep(y_tes, y_pred)"
   ]
  },
  {
   "cell_type": "markdown",
   "id": "a02892ef",
   "metadata": {},
   "source": [
    "## Final Results <a class=\"anchor\" id=\"eighth-bullet\"></a>\n",
    "\n",
    "Now, it is time to review and compare the obtained results by different samplers. In what follows, we will compare the samplers to see which one results in the best F1 score and accuracy. Furthermore, we will compare the different classification methods to see which one provides better results when an appropriate sampler is chosen. "
   ]
  },
  {
   "cell_type": "markdown",
   "id": "d882bdb2",
   "metadata": {},
   "source": [
    "Let first merge the obtained results by different samplers into 'final_res' dataframe:"
   ]
  },
  {
   "cell_type": "code",
   "execution_count": 88,
   "id": "be02355c",
   "metadata": {},
   "outputs": [],
   "source": [
    "final_res = pd.concat([df1, df2, df3, df4, df5, \n",
    "                       df6, df7, df8, df9, df10,\n",
    "                       df11, df12, df13, df14, df15])"
   ]
  },
  {
   "cell_type": "markdown",
   "id": "c4497acc",
   "metadata": {},
   "source": [
    "As one can see below, the best F1 score (F1 score:0.608925) is obtained by SVMSMOTE technique. This value is obtained using a logistic regression classifier.\n",
    "\n",
    "Similarly, the best Accuracy is obtained by using 'class weight' with the logistic regression classifier."
   ]
  },
  {
   "cell_type": "code",
   "execution_count": 89,
   "id": "9c139908",
   "metadata": {
    "scrolled": false
   },
   "outputs": [
    {
     "data": {
      "image/png": "[encoded data removed]",
      "text/plain": [
       "<Figure size 1080x504 with 2 Axes>"
      ]
     },
     "metadata": {},
     "output_type": "display_data"
    }
   ],
   "source": [
    "fig , axs = plt.subplots(1,2, figsize=(15,7))\n",
    "\n",
    "pd.DataFrame(final_res.groupby(['Metric', 'Resample'])['Value'].max()\n",
    "            ).loc['Accuracy'].sort_values(by='Value').plot.barh(ax=axs[0])\n",
    "axs[0].set(title='Accuracy  for the best classifier', xlabel='Accuracy')\n",
    "\n",
    "pd.DataFrame(final_res.groupby(['Metric', 'Resample'])['Value'].max()\n",
    "            ).loc['F1 Score'].sort_values(by='Value').plot.barh(ax=axs[1])\n",
    "axs[1].set(title='F1 Score for the best classifier', xlabel='F1 Score')\n",
    "\n",
    "plt.tight_layout()"
   ]
  },
  {
   "cell_type": "markdown",
   "id": "893a256d",
   "metadata": {},
   "source": [
    "In the following, we compare different classifiers. As one can see for our dataset, all the classifiers (unless Decision tree and K Nearest Neighbors) may lead to approximately the same maximum Accuracy and F1 score if a suitable tailored sampler is employed. "
   ]
  },
  {
   "cell_type": "code",
   "execution_count": 90,
   "id": "9ff1657a",
   "metadata": {
    "scrolled": false
   },
   "outputs": [
    {
     "data": {
      "image/png": "[encoded data removed]",
      "text/plain": [
       "<Figure size 1080x504 with 2 Axes>"
      ]
     },
     "metadata": {},
     "output_type": "display_data"
    }
   ],
   "source": [
    "data_rep = final_res.groupby(['Metric','Classification Method'], as_index=False)['Value'].max()\n",
    "\n",
    "fig , axs = plt.subplots(1,2, figsize=(15,7))\n",
    "\n",
    "data_rep_acc = data_rep[data_rep['Metric']=='Accuracy']\n",
    "sns.barplot(x='Value', y='Classification Method', data=data_rep_acc, ax=axs[0])\n",
    "axs[0].set(title='Accuracy for different classifiers using the best resmpling method', xlabel='Accuracy')\n",
    "\n",
    "data_rep_acc = data_rep[data_rep['Metric']=='F1 Score']\n",
    "sns.barplot(x='Value', y='Classification Method', data=data_rep_acc, ax=axs[1])\n",
    "axs[1].set(title='F1 Score for different classifiers using the best resmpling method', xlabel='F1 Score')\n",
    "\n",
    "plt.tight_layout()\n"
   ]
  },
  {
   "cell_type": "markdown",
   "id": "63be129c",
   "metadata": {},
   "source": [
    "To recap, the above results emphasize that for our dataset choosing an appropriate sampler is much more important than choosing the classifier. If an appropriate sampler is chosen  then almost all the classifiers  (unless Decision tree and K Nearset Neighbors) may lead to similar F1 and Accuracy scores. However, note that the optimal sampler may vary for different classifiers. As it becomes clear in the following:"
   ]
  },
  {
   "cell_type": "code",
   "execution_count": 125,
   "id": "b187bc4a",
   "metadata": {},
   "outputs": [
    {
     "data": {
      "text/html": [
       "<div>\n",
       "<style scoped>\n",
       "    .dataframe tbody tr th:only-of-type {\n",
       "        vertical-align: middle;\n",
       "    }\n",
       "\n",
       "    .dataframe tbody tr th {\n",
       "        vertical-align: top;\n",
       "    }\n",
       "\n",
       "    .dataframe thead th {\n",
       "        text-align: right;\n",
       "    }\n",
       "</style>\n",
       "<table border=\"1\" class=\"dataframe\">\n",
       "  <thead>\n",
       "    <tr style=\"text-align: right;\">\n",
       "      <th></th>\n",
       "      <th>Metric</th>\n",
       "      <th>Classification Method</th>\n",
       "      <th>Value</th>\n",
       "      <th>Resample</th>\n",
       "    </tr>\n",
       "  </thead>\n",
       "  <tbody>\n",
       "    <tr>\n",
       "      <th>19</th>\n",
       "      <td>F1 Score</td>\n",
       "      <td>Decision Tree</td>\n",
       "      <td>0.541995</td>\n",
       "      <td>KMeansSMOTE</td>\n",
       "    </tr>\n",
       "    <tr>\n",
       "      <th>16</th>\n",
       "      <td>F1 Score</td>\n",
       "      <td>Logistic Regression</td>\n",
       "      <td>0.608925</td>\n",
       "      <td>SVMSMOTE</td>\n",
       "    </tr>\n",
       "    <tr>\n",
       "      <th>17</th>\n",
       "      <td>F1 Score</td>\n",
       "      <td>Linear SVC</td>\n",
       "      <td>0.607980</td>\n",
       "      <td>SVMSMOTE</td>\n",
       "    </tr>\n",
       "    <tr>\n",
       "      <th>21</th>\n",
       "      <td>F1 Score</td>\n",
       "      <td>K Nearset Neighbors</td>\n",
       "      <td>0.548332</td>\n",
       "      <td>BorderlineSMOTE</td>\n",
       "    </tr>\n",
       "    <tr>\n",
       "      <th>18</th>\n",
       "      <td>F1 Score</td>\n",
       "      <td>SVC with Kernel</td>\n",
       "      <td>0.606567</td>\n",
       "      <td>EditedNearestNeighbours</td>\n",
       "    </tr>\n",
       "    <tr>\n",
       "      <th>20</th>\n",
       "      <td>F1 Score</td>\n",
       "      <td>Random Forest</td>\n",
       "      <td>0.591251</td>\n",
       "      <td>EditedNearestNeighbours</td>\n",
       "    </tr>\n",
       "    <tr>\n",
       "      <th>22</th>\n",
       "      <td>F1 Score</td>\n",
       "      <td>Bagging Classifier</td>\n",
       "      <td>0.583029</td>\n",
       "      <td>EditedNearestNeighbours</td>\n",
       "    </tr>\n",
       "    <tr>\n",
       "      <th>23</th>\n",
       "      <td>F1 Score</td>\n",
       "      <td>Gradient Boosting</td>\n",
       "      <td>0.589448</td>\n",
       "      <td>EditedNearestNeighbours</td>\n",
       "    </tr>\n",
       "  </tbody>\n",
       "</table>\n",
       "</div>"
      ],
      "text/plain": [
       "      Metric Classification Method     Value                 Resample\n",
       "19  F1 Score         Decision Tree  0.541995              KMeansSMOTE\n",
       "16  F1 Score   Logistic Regression  0.608925                 SVMSMOTE\n",
       "17  F1 Score            Linear SVC  0.607980                 SVMSMOTE\n",
       "21  F1 Score   K Nearset Neighbors  0.548332          BorderlineSMOTE\n",
       "18  F1 Score       SVC with Kernel  0.606567  EditedNearestNeighbours\n",
       "20  F1 Score         Random Forest  0.591251  EditedNearestNeighbours\n",
       "22  F1 Score    Bagging Classifier  0.583029  EditedNearestNeighbours\n",
       "23  F1 Score     Gradient Boosting  0.589448  EditedNearestNeighbours"
      ]
     },
     "execution_count": 125,
     "metadata": {},
     "output_type": "execute_result"
    }
   ],
   "source": [
    "idx = (final_res.groupby(['Classification Method', 'Metric'])['Value'].transform(max)== final_res['Value'])\n",
    "final_res[idx & (final_res['Metric']=='F1 Score')]"
   ]
  },
  {
   "cell_type": "markdown",
   "id": "879efdb3",
   "metadata": {},
   "source": [
    "As one can see, Logistic Regression and LinearSVC using SVMSMOTE result in approximately the same maximum values for F1 score.\n",
    "\n",
    "On the other hand, SVC with Kernel, Random Forest, Bagging Classifier, Gradient Boosting result in approximately the same maximum values for F1 score."
   ]
  },
  {
   "cell_type": "code",
   "execution_count": 126,
   "id": "0cf8d4fb",
   "metadata": {},
   "outputs": [
    {
     "data": {
      "text/html": [
       "<div>\n",
       "<style scoped>\n",
       "    .dataframe tbody tr th:only-of-type {\n",
       "        vertical-align: middle;\n",
       "    }\n",
       "\n",
       "    .dataframe tbody tr th {\n",
       "        vertical-align: top;\n",
       "    }\n",
       "\n",
       "    .dataframe thead th {\n",
       "        text-align: right;\n",
       "    }\n",
       "</style>\n",
       "<table border=\"1\" class=\"dataframe\">\n",
       "  <thead>\n",
       "    <tr style=\"text-align: right;\">\n",
       "      <th></th>\n",
       "      <th>Metric</th>\n",
       "      <th>Classification Method</th>\n",
       "      <th>Value</th>\n",
       "      <th>Resample</th>\n",
       "    </tr>\n",
       "  </thead>\n",
       "  <tbody>\n",
       "    <tr>\n",
       "      <th>27</th>\n",
       "      <td>Accuracy</td>\n",
       "      <td>Decision Tree</td>\n",
       "      <td>0.737474</td>\n",
       "      <td>Ignore</td>\n",
       "    </tr>\n",
       "    <tr>\n",
       "      <th>28</th>\n",
       "      <td>Accuracy</td>\n",
       "      <td>Random Forest</td>\n",
       "      <td>0.837683</td>\n",
       "      <td>Ignore</td>\n",
       "    </tr>\n",
       "    <tr>\n",
       "      <th>29</th>\n",
       "      <td>Accuracy</td>\n",
       "      <td>K Nearset Neighbors</td>\n",
       "      <td>0.751566</td>\n",
       "      <td>Ignore</td>\n",
       "    </tr>\n",
       "    <tr>\n",
       "      <th>24</th>\n",
       "      <td>Accuracy</td>\n",
       "      <td>Logistic Regression</td>\n",
       "      <td>0.843946</td>\n",
       "      <td>ClassWeight</td>\n",
       "    </tr>\n",
       "    <tr>\n",
       "      <th>25</th>\n",
       "      <td>Accuracy</td>\n",
       "      <td>Linear SVC</td>\n",
       "      <td>0.842902</td>\n",
       "      <td>ClassWeight</td>\n",
       "    </tr>\n",
       "    <tr>\n",
       "      <th>26</th>\n",
       "      <td>Accuracy</td>\n",
       "      <td>SVC with Kernel</td>\n",
       "      <td>0.842380</td>\n",
       "      <td>ClassWeight</td>\n",
       "    </tr>\n",
       "    <tr>\n",
       "      <th>29</th>\n",
       "      <td>Accuracy</td>\n",
       "      <td>K Nearset Neighbors</td>\n",
       "      <td>0.751566</td>\n",
       "      <td>ClassWeight</td>\n",
       "    </tr>\n",
       "    <tr>\n",
       "      <th>31</th>\n",
       "      <td>Accuracy</td>\n",
       "      <td>Gradient Boosting</td>\n",
       "      <td>0.834029</td>\n",
       "      <td>ClassWeight</td>\n",
       "    </tr>\n",
       "    <tr>\n",
       "      <th>27</th>\n",
       "      <td>Accuracy</td>\n",
       "      <td>Decision Tree</td>\n",
       "      <td>0.737474</td>\n",
       "      <td>RandomOverSampler</td>\n",
       "    </tr>\n",
       "    <tr>\n",
       "      <th>29</th>\n",
       "      <td>Accuracy</td>\n",
       "      <td>K Nearset Neighbors</td>\n",
       "      <td>0.751566</td>\n",
       "      <td>RandomOverSampler</td>\n",
       "    </tr>\n",
       "    <tr>\n",
       "      <th>30</th>\n",
       "      <td>Accuracy</td>\n",
       "      <td>Bagging Classifier</td>\n",
       "      <td>0.839770</td>\n",
       "      <td>RandomUnderSampler</td>\n",
       "    </tr>\n",
       "  </tbody>\n",
       "</table>\n",
       "</div>"
      ],
      "text/plain": [
       "      Metric Classification Method     Value            Resample\n",
       "27  Accuracy         Decision Tree  0.737474              Ignore\n",
       "28  Accuracy         Random Forest  0.837683              Ignore\n",
       "29  Accuracy   K Nearset Neighbors  0.751566              Ignore\n",
       "24  Accuracy   Logistic Regression  0.843946         ClassWeight\n",
       "25  Accuracy            Linear SVC  0.842902         ClassWeight\n",
       "26  Accuracy       SVC with Kernel  0.842380         ClassWeight\n",
       "29  Accuracy   K Nearset Neighbors  0.751566         ClassWeight\n",
       "31  Accuracy     Gradient Boosting  0.834029         ClassWeight\n",
       "27  Accuracy         Decision Tree  0.737474   RandomOverSampler\n",
       "29  Accuracy   K Nearset Neighbors  0.751566   RandomOverSampler\n",
       "30  Accuracy    Bagging Classifier  0.839770  RandomUnderSampler"
      ]
     },
     "execution_count": 126,
     "metadata": {},
     "output_type": "execute_result"
    }
   ],
   "source": [
    "idx = (final_res.groupby(['Classification Method', 'Metric'])['Value'].transform(max)== final_res['Value'])\n",
    "final_res[idx & (final_res['Metric']=='Accuracy')]"
   ]
  },
  {
   "cell_type": "markdown",
   "id": "0dc7f713",
   "metadata": {},
   "source": [
    "As one can see,  Logistic Regression, Linear SVC, SVC with Kernel, and Gradient Boostiung using the Class-weight capability result in the approximately the same maximum values for the Accuracy, where Bagging Classifier using RandomUnderSampler and Random Forest by ignoring the imbalance of the dataset result in approxiamtely the same maximum values for the Accuracy. "
   ]
  }
 ],
 "metadata": {
  "kernelspec": {
   "display_name": "Python 3 (ipykernel)",
   "language": "python",
   "name": "python3"
  },
  "language_info": {
   "codemirror_mode": {
    "name": "ipython",
    "version": 3
   },
   "file_extension": ".py",
   "mimetype": "text/x-python",
   "name": "python",
   "nbconvert_exporter": "python",
   "pygments_lexer": "ipython3",
   "version": "3.9.12"
  }
 },
 "nbformat": 4,
 "nbformat_minor": 5
}
